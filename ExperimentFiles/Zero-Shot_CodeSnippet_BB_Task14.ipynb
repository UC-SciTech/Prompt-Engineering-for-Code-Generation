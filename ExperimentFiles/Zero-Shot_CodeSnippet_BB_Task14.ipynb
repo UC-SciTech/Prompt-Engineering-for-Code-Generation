{
 "cells": [
  {
   "cell_type": "markdown",
   "id": "76be8d3a",
   "metadata": {},
   "source": [
    "<h2 style='text-align: center;'> Technology Capstone Research Project PG (11522) </h2>\n",
    "<h3 style='text-align: center;'> Project ID: 2024-S1-50 </h3>\n",
    "<h3 style='text-align: center;'> Group ID: 11522-24S1-41 </h3>\n",
    "<h4 style='text-align: center;'> Member: MD Alvee Rohan - U3235512 </h4>\n",
    "<h4 style='text-align: center;'> Prompt Technique: Zero Shot </h4>"
   ]
  },
  {
   "cell_type": "markdown",
   "id": "2fb367fd",
   "metadata": {
    "id": "eb917669-8227-4adc-a175-57597fa8a1b1"
   },
   "source": [
    "### Revised Prompt for ZS\n",
    "\n",
    "### BIG-bench\\\\ c14\n",
    "\n",
    "Write a python code snippet that does not use a function or function definition over lists of natural numbers for a given single input given a predetermined set of examples The target function is remove all but elements 3 through 7"
   ]
  },
  {
   "cell_type": "code",
   "execution_count": null,
   "id": "19caaca6-53eb-494e-9a95-9650f3f8e697",
   "metadata": {
    "id": "19caaca6-53eb-494e-9a95-9650f3f8e697",
    "outputId": "b10f495b-1b3b-491f-97fb-30ffc05f8c9f"
   },
   "outputs": [
    {
     "name": "stdout",
     "output_type": "stream",
     "text": [
      "[]\n",
      "Execution time: 0.0 seconds\n"
     ]
    }
   ],
   "source": [
    "# Task ID: BIG-bench/c14\n",
    "# Code Snippet - ZS\n",
    "# Model 1\n",
    "# Sample 1\n",
    "\n",
    "import time\n",
    "# Record the starting time\n",
    "start_time_mol1_output1 = time.time()\n",
    "\n",
    "# input example\n",
    "input_list_1 = [4, 1] # []\n",
    "\n",
    "# Remove elements before index 3\n",
    "del input_list_1[:3]\n",
    "\n",
    "# Remove elements after index 7\n",
    "del input_list_1[5:]\n",
    "\n",
    "print(input_list_1)\n",
    "# Assign the combined list to mod1_output1\n",
    "mod1_output1 = input_list_1\n",
    "# Record the ending time\n",
    "end_time_mol1_output1 = time.time()\n",
    "# Calculate and print the execution time\n",
    "execution_time_mod1_output1 = end_time_mol1_output1 - start_time_mol1_output1\n",
    "print(f\"Execution time: {execution_time_mod1_output1} seconds\")\n"
   ]
  },
  {
   "cell_type": "code",
   "execution_count": null,
   "id": "fdc306ea-a068-4343-b39d-88affba52155",
   "metadata": {
    "id": "fdc306ea-a068-4343-b39d-88affba52155",
    "outputId": "11596c40-8d12-4527-9057-e133bb4552ee"
   },
   "outputs": [
    {
     "name": "stdout",
     "output_type": "stream",
     "text": [
      "[9]\n",
      "Execution time: 0.0 seconds\n"
     ]
    }
   ],
   "source": [
    "# Task ID: BIG-bench/c14\n",
    "# Code Snippet - ZS\n",
    "# Model 1\n",
    "# Sample 2\n",
    "\n",
    "import time\n",
    "\n",
    "# Record the starting time\n",
    "start_time_mol1_output2 = time.time()\n",
    "# input example\n",
    "input_list_2 = [8, 1, 9, 2, 6] # [9, 2, 6]\n",
    "\n",
    "# Using list comprehension to keep only odd elements with an even index\n",
    "result = [num for idx, num in enumerate(input_list_2) if idx % 2 == 0 and num % 2 != 0]\n",
    "\n",
    "print(result)\n",
    "# Assign the combined list to mod1_output1\n",
    "mod1_output2 = input_list_2\n",
    "# Record the ending time\n",
    "end_time_mol1_output2 = time.time()\n",
    "\n",
    "# Calculate and print the execution time\n",
    "execution_time_mod1_output2 = end_time_mol1_output2 - start_time_mol1_output2\n",
    "print(f\"Execution time: {execution_time_mod1_output2} seconds\")"
   ]
  },
  {
   "cell_type": "code",
   "execution_count": null,
   "id": "c10b73af-055d-464a-a497-5ffe99209150",
   "metadata": {
    "id": "c10b73af-055d-464a-a497-5ffe99209150",
    "outputId": "8123dfab-119e-450c-8d5f-070f5cbb3860"
   },
   "outputs": [
    {
     "name": "stdout",
     "output_type": "stream",
     "text": [
      "[5]\n",
      "Execution time: 0.0 seconds\n"
     ]
    }
   ],
   "source": [
    "# Task ID: BIG-bench/c14\n",
    "# Code Snippet - ZS\n",
    "# Model 1\n",
    "# Sample 3\n",
    "\n",
    "import time\n",
    "\n",
    "# Record the starting time\n",
    "start_time_mol1_output3 = time.time()\n",
    "# input example\n",
    "input_list_3 = [8, 1, 5, 2] # [5, 2]\n",
    "\n",
    "# Using list comprehension to keep only odd elements with an even index\n",
    "result = [num for idx, num in enumerate(input_list_3) if idx % 2 == 0 and num % 2 != 0]\n",
    "\n",
    "print(result)\n",
    "# Assign the combined list to mod1_output1\n",
    "mod1_output3 = input_list_3\n",
    "# Record the ending time\n",
    "end_time_mol1_output3 = time.time()\n",
    "\n",
    "# Calculate and print the execution time\n",
    "execution_time_mod1_output3 = end_time_mol1_output3 - start_time_mol1_output3\n",
    "print(f\"Execution time: {execution_time_mod1_output3} seconds\")"
   ]
  },
  {
   "cell_type": "code",
   "execution_count": null,
   "id": "f12e7055-e9ed-4858-b351-1be22c2416af",
   "metadata": {
    "id": "f12e7055-e9ed-4858-b351-1be22c2416af",
    "outputId": "72eb6a0b-ac83-4f9c-fdac-679b4be50d02"
   },
   "outputs": [
    {
     "name": "stdout",
     "output_type": "stream",
     "text": [
      "Expected Output:  [[], [9, 2, 6], [5, 2]]\n",
      "Actual Output:  [[], [8, 1, 9, 2, 6], [8, 1, 5, 2]]\n",
      "                 Precision  Recall  F1 Score  Accuracy  Exact Match\n",
      "0                      0.0     0.0       0.0       0.0     1.000000\n",
      "1                      0.0     0.0       0.0       0.0     0.000000\n",
      "2                      0.0     0.0       0.0       0.0     0.000000\n",
      "Model 1 Average        0.0     0.0       0.0       0.0     0.333333\n"
     ]
    }
   ],
   "source": [
    "## Model 1 summary\n",
    "import pandas as pd\n",
    "def evaluate_list_metrics(expected_output, actual_output):\n",
    "    exact_match_accuracy = 1 if expected_output == actual_output else 0\n",
    "\n",
    "    # Calculate true positives\n",
    "    true_positives = sum(1 for i in range(min(len(expected_output), len(actual_output))) if expected_output[i] == actual_output[i])\n",
    "\n",
    "    # Calculate false positives\n",
    "    false_positives = sum(1 for i in range(len(actual_output)) if actual_output[i] not in expected_output)\n",
    "\n",
    "    # Calculate false negatives\n",
    "    false_negatives = sum(1 for i in range(len(expected_output)) if expected_output[i] != actual_output[i])\n",
    "\n",
    "    # Calculate precision, recall, and F1 score\n",
    "    precision = true_positives / (true_positives + false_positives) if true_positives + false_positives > 0 else 0\n",
    "    recall = true_positives / (true_positives + false_negatives) if true_positives + false_negatives > 0 else 0\n",
    "    f1_score = 2 * (precision * recall) / (precision + recall) if precision + recall > 0 else 0\n",
    "\n",
    "    # Calculate accuracy\n",
    "    if max(len(expected_output), len(actual_output)) > 0:\n",
    "        accuracy = sum(1 for i in range(len(expected_output)) if expected_output[i] == actual_output[i]) / max(len(expected_output), len(actual_output))\n",
    "    else:\n",
    "        accuracy = 0\n",
    "    return {\n",
    "        \"Precision\": precision,\n",
    "        \"Recall\": recall,\n",
    "        \"F1 Score\": f1_score,\n",
    "        \"Accuracy\": accuracy,\n",
    "        \"Exact Match\": exact_match_accuracy\n",
    "    }\n",
    "\n",
    "expected_outputs = [[], [9, 2, 6], [5, 2]]\n",
    "actual_outputs_mod1 = [mod1_output1, mod1_output2, mod1_output3]\n",
    "print(\"Expected Output: \", expected_outputs)\n",
    "print(\"Actual Output: \", actual_outputs_mod1)\n",
    "\n",
    "metrics1 = [evaluate_list_metrics(expected, actual) for expected, actual in zip(expected_outputs, actual_outputs_mod1)]\n",
    "\n",
    "# Create DataFrame directly from the list of dictionaries\n",
    "df_metrics1_new = pd.DataFrame(metrics1)\n",
    "\n",
    "# Calculate the average for precision, recall, F1 score, accuracy, and exact match\n",
    "avg_metrics1 = df_metrics1_new.mean(axis=0)\n",
    "avg_metrics1.name = 'Model 1 Average'\n",
    "\n",
    "# # Append the average row to the DataFrame\n",
    "# df_metrics1_new = df_metrics1_new.append(avg_metrics1)\n",
    "\n",
    "# Concatenate the average row to the DataFrame\n",
    "df_metrics1_new = pd.concat([df_metrics1_new, avg_metrics1.to_frame().transpose()])\n",
    "\n",
    "# Print the new DataFrame\n",
    "print(df_metrics1_new)"
   ]
  },
  {
   "cell_type": "code",
   "execution_count": null,
   "id": "3499b6dc-d506-4ca9-b3f7-ed3e837db016",
   "metadata": {
    "id": "3499b6dc-d506-4ca9-b3f7-ed3e837db016"
   },
   "outputs": [],
   "source": [
    "# Task ID: BIG-bench/c14\n",
    "# Code Snippet - ZS\n",
    "# Model 2\n",
    "# Sample 1\n",
    "\n",
    "import time\n",
    "# Record the starting time\n",
    "start_time_mol2_output1 = time.time()\n",
    "# input example\n",
    "input_list_1 = [4, 1] # []\n",
    "# Use list slicing to select elements between indices 3 and 7 (inclusive)\n",
    "input_list_1 = input_list_1[3:8]\n",
    "\n",
    "print(input_list_1)\n",
    "\n",
    "# Assign the combined list to mod1_output1\n",
    "mod2_output1 = input_list_1\n",
    "# Record the ending time\n",
    "end_time_mol2_output1 = time.time()\n",
    "# Calculate and print the execution time\n",
    "execution_time_mod2_output1 = end_time_mol2_output1 - start_time_mol2_output1\n",
    "print(f\"Execution time: {execution_time_mod2_output1} seconds\")"
   ]
  },
  {
   "cell_type": "code",
   "execution_count": null,
   "id": "487ae370-c113-4628-b6c2-88651c3c1741",
   "metadata": {
    "id": "487ae370-c113-4628-b6c2-88651c3c1741",
    "outputId": "f31af73a-92d7-4072-fcd6-b953b7d8ea11"
   },
   "outputs": [
    {
     "name": "stdout",
     "output_type": "stream",
     "text": [
      "[2, 6]\n",
      "Execution time: 0.0 seconds\n"
     ]
    }
   ],
   "source": [
    "# Task ID: BIG-bench/c14\n",
    "# Code Snippet - ZS\n",
    "# Model 2\n",
    "# Sample 2\n",
    "\n",
    "import time\n",
    "# Record the starting time\n",
    "start_time_mol2_output2 = time.time()\n",
    "\n",
    "# input example\n",
    "input_list_2 = [8, 1, 9, 2, 6] # [9, 2, 6]\n",
    "\n",
    "# Use list slicing to select elements between indices 3 and 7 (inclusive)\n",
    "input_list_2 = input_list_2[3:8]\n",
    "\n",
    "print(input_list_2)\n",
    "# Assign the combined list to mod1_output1\n",
    "mod2_output2 = input_list_2\n",
    "# Record the ending time\n",
    "end_time_mol2_output2 = time.time()\n",
    "# Calculate and print the execution time\n",
    "execution_time_mod2_output2 = end_time_mol2_output2 - start_time_mol2_output2\n",
    "print(f\"Execution time: {execution_time_mod2_output2} seconds\")"
   ]
  },
  {
   "cell_type": "code",
   "execution_count": null,
   "id": "61359e2e-a7bf-4da3-9d3d-3a2d6d181135",
   "metadata": {
    "id": "61359e2e-a7bf-4da3-9d3d-3a2d6d181135",
    "outputId": "3f2ec80e-70a2-4f40-d67d-e74ebafa1c1a"
   },
   "outputs": [
    {
     "name": "stdout",
     "output_type": "stream",
     "text": [
      "[2]\n",
      "Execution time: 0.0 seconds\n"
     ]
    }
   ],
   "source": [
    "# Task ID: BIG-bench/c14\n",
    "# Code Snippet - ZS\n",
    "# Model 2\n",
    "# Sample 3\n",
    "\n",
    "import time\n",
    "# Record the starting time\n",
    "start_time_mol2_output3 = time.time()\n",
    "# input example\n",
    "input_list_3 = [8, 1, 5, 2] # [5, 2]\n",
    "# Use list slicing to select elements between indices 3 and 7 (inclusive)\n",
    "input_list_3 = input_list_3[3:8]\n",
    "\n",
    "print(input_list_3)\n",
    "# Record the ending time\n",
    "end_time_mol2_output3 = time.time()\n",
    "\n",
    "# Assign the combined list\n",
    "mod2_output3 = input_list_3\n",
    "\n",
    "# Calculate and print the execution time\n",
    "execution_time_mod2_output3 = end_time_mol1_output3 - start_time_mol1_output3\n",
    "print(f\"Execution time: {execution_time_mod1_output3} seconds\")"
   ]
  },
  {
   "cell_type": "code",
   "execution_count": null,
   "id": "ae65ce3d-de55-49b5-8aa3-62187285e185",
   "metadata": {
    "id": "ae65ce3d-de55-49b5-8aa3-62187285e185",
    "outputId": "fe007493-6389-4da4-b7c0-f1ceb7fb928a"
   },
   "outputs": [
    {
     "name": "stdout",
     "output_type": "stream",
     "text": [
      "Expected Output:  [[], [9, 2, 6], [5, 2]]\n",
      "Actual Output:  [[], [8, 1, 9, 2, 6], [8, 1, 5, 2]]\n",
      "                 Precision  Recall  F1 Score  Accuracy  Exact Match\n",
      "0                      0.0     0.0       0.0       0.0     1.000000\n",
      "1                      0.0     0.0       0.0       0.0     0.000000\n",
      "2                      0.0     0.0       0.0       0.0     0.000000\n",
      "Model 1 Average        0.0     0.0       0.0       0.0     0.333333\n"
     ]
    }
   ],
   "source": [
    "## Model 2 summary\n",
    "import pandas as pd\n",
    "def evaluate_list_metrics(expected_output, actual_output):\n",
    "    exact_match_accuracy = 1 if expected_output == actual_output else 0\n",
    "\n",
    "    # Calculate true positives\n",
    "    true_positives = sum(1 for i in range(min(len(expected_output), len(actual_output))) if expected_output[i] == actual_output[i])\n",
    "\n",
    "    # Calculate false positives\n",
    "    false_positives = sum(1 for i in range(len(actual_output)) if actual_output[i] not in expected_output)\n",
    "\n",
    "    # Calculate false negatives\n",
    "    false_negatives = sum(1 for i in range(len(expected_output)) if expected_output[i] != actual_output[i])\n",
    "\n",
    "    # Calculate precision, recall, and F1 score\n",
    "    precision = true_positives / (true_positives + false_positives) if true_positives + false_positives > 0 else 0\n",
    "    recall = true_positives / (true_positives + false_negatives) if true_positives + false_negatives > 0 else 0\n",
    "    f1_score = 2 * (precision * recall) / (precision + recall) if precision + recall > 0 else 0\n",
    "\n",
    "    # Calculate accuracy\n",
    "    if max(len(expected_output), len(actual_output)) > 0:\n",
    "        accuracy = sum(1 for i in range(len(expected_output)) if expected_output[i] == actual_output[i]) / max(len(expected_output), len(actual_output))\n",
    "    else:\n",
    "        accuracy = 0\n",
    "    return {\n",
    "        \"Precision\": precision,\n",
    "        \"Recall\": recall,\n",
    "        \"F1 Score\": f1_score,\n",
    "        \"Accuracy\": accuracy,\n",
    "        \"Exact Match\": exact_match_accuracy\n",
    "    }\n",
    "\n",
    "expected_outputs = [[], [9, 2, 6], [5, 2]]\n",
    "actual_outputs_mod1 = [mod1_output1, mod1_output2, mod1_output3]\n",
    "print(\"Expected Output: \", expected_outputs)\n",
    "print(\"Actual Output: \", actual_outputs_mod1)\n",
    "\n",
    "metrics1 = [evaluate_list_metrics(expected, actual) for expected, actual in zip(expected_outputs, actual_outputs_mod1)]\n",
    "\n",
    "# Create DataFrame directly from the list of dictionaries\n",
    "df_metrics1_new = pd.DataFrame(metrics1)\n",
    "\n",
    "# Calculate the average for precision, recall, F1 score, accuracy, and exact match\n",
    "avg_metrics1 = df_metrics1_new.mean(axis=0)\n",
    "avg_metrics1.name = 'Model 1 Average'\n",
    "\n",
    "# # Append the average row to the DataFrame\n",
    "# df_metrics1_new = df_metrics1_new.append(avg_metrics1)\n",
    "\n",
    "# Concatenate the average row to the DataFrame\n",
    "df_metrics1_new = pd.concat([df_metrics1_new, avg_metrics1.to_frame().transpose()])\n",
    "\n",
    "# Print the new DataFrame\n",
    "print(df_metrics1_new)"
   ]
  },
  {
   "cell_type": "code",
   "execution_count": null,
   "id": "5fec3a7d-01b6-4f12-ae6b-4a5c4cfe5693",
   "metadata": {
    "id": "5fec3a7d-01b6-4f12-ae6b-4a5c4cfe5693",
    "outputId": "67df13ad-db1e-45c8-b8fb-d6805b4a0655"
   },
   "outputs": [
    {
     "name": "stdout",
     "output_type": "stream",
     "text": [
      "[]\n",
      "Execution time: 0.0 seconds\n"
     ]
    }
   ],
   "source": [
    "# Task ID: BIG-bench/c14\n",
    "# Code Snippet - ZS\n",
    "# Model 3\n",
    "# Sample 1\n",
    "\n",
    "import time\n",
    "# Record the starting time\n",
    "start_time_mol3_output1 = time.time()\n",
    "# input example\n",
    "input_list_1 = [4, 1] # []\n",
    "# Initialize an empty list to store the selected elements\n",
    "selected_elements = []\n",
    "\n",
    "# Iterate over each element in the input list\n",
    "for index, element in enumerate(input_list_1):\n",
    "    # Check if the index is between 3 and 7 (inclusive)\n",
    "    if 3 <= index <= 7:\n",
    "        # Add the element to the selected elements list\n",
    "        selected_elements.append(element)\n",
    "# Record the ending time\n",
    "end_time_mol3_output1 = time.time()\n",
    "# Update the input list with the selected elements\n",
    "input_list_1 = selected_elements\n",
    "\n",
    "print(input_list_1)\n",
    "mod3_output1 = input_list_1\n",
    "\n",
    "# Calculate and print the execution time\n",
    "execution_time_mod3_output1 = end_time_mol3_output1 - start_time_mol3_output1\n",
    "print(f\"Execution time: {execution_time_mod3_output1} seconds\")"
   ]
  },
  {
   "cell_type": "code",
   "execution_count": null,
   "id": "3406b57a-ba5b-4cd5-94c2-db3f96136d45",
   "metadata": {
    "id": "3406b57a-ba5b-4cd5-94c2-db3f96136d45",
    "outputId": "61402ad1-6b88-4c10-d1e8-9c85a4c3c708"
   },
   "outputs": [
    {
     "name": "stdout",
     "output_type": "stream",
     "text": [
      "[2, 6]\n",
      "Execution time: 0.0 seconds\n"
     ]
    }
   ],
   "source": [
    "# Task ID: BIG-bench/c14\n",
    "# Code Snippet - ZS\n",
    "# Model 3\n",
    "# Sample 2\n",
    "\n",
    "# Record the starting time\n",
    "start_time_mol3_output2 = time.time()\n",
    "# input example\n",
    "input_list_2 = [8, 1, 9, 2, 6] # [9, 2, 6]\n",
    "# Initialize an empty list to store the selected elements\n",
    "selected_elements = []\n",
    "# Iterate over each element in the input list\n",
    "for index, element in enumerate(input_list_2):\n",
    "    # Check if the index is between 3 and 7 (inclusive)\n",
    "    if 3 <= index <= 7:\n",
    "        # Add the element to the selected elements list\n",
    "        selected_elements.append(element)\n",
    "\n",
    "# Update the input list with the selected elements\n",
    "input_list_2 = selected_elements\n",
    "\n",
    "print(input_list_2)\n",
    "\n",
    "# Assign the combined list to mod2_output2\n",
    "mod3_output2 = input_list_2\n",
    "# Record the ending time\n",
    "end_time_mol3_output2 = time.time()\n",
    "\n",
    "# Calculate and print the execution time\n",
    "execution_time_mod3_output2 = end_time_mol3_output2 - start_time_mol3_output2\n",
    "print(f\"Execution time: {execution_time_mod3_output2} seconds\")"
   ]
  },
  {
   "cell_type": "code",
   "execution_count": null,
   "id": "4f241a51-f6bd-441b-9321-7c0eeaa6341f",
   "metadata": {
    "id": "4f241a51-f6bd-441b-9321-7c0eeaa6341f",
    "outputId": "700b3301-18a0-48d1-dd4c-3fcebcc66fc5"
   },
   "outputs": [
    {
     "name": "stdout",
     "output_type": "stream",
     "text": [
      "[2]\n",
      "Execution time: 0.0 seconds\n"
     ]
    }
   ],
   "source": [
    "# Task ID: BIG-bench/c14\n",
    "# Code Snippet - ZS\n",
    "# Model 3\n",
    "# Sample 3\n",
    "\n",
    "import time\n",
    "# Record the starting time\n",
    "start_time_mol3_output3 = time.time()\n",
    "# input example\n",
    "input_list_3 = [8, 1, 5, 2] # [5, 2]\n",
    "# Initialize an empty list to store the selected elements\n",
    "selected_elements = []\n",
    "# Iterate over each element in the input list\n",
    "for index, element in enumerate(input_list_3):\n",
    "    # Check if the index is between 3 and 7 (inclusive)\n",
    "    if 3 <= index <= 7:\n",
    "        # Add the element to the selected elements list\n",
    "        selected_elements.append(element)\n",
    "\n",
    "# Update the input list with the selected elements\n",
    "input_list_3 = selected_elements\n",
    "\n",
    "print(input_list_3)\n",
    "# Record the ending time\n",
    "end_time_mol3_output3 = time.time()\n",
    "\n",
    "\n",
    "mod3_output3 = input_list_3\n",
    "\n",
    "# Calculate and print the execution time\n",
    "execution_time_mod3_output3 = end_time_mol3_output3 - start_time_mol3_output3\n",
    "print(f\"Execution time: {execution_time_mod3_output3} seconds\")"
   ]
  },
  {
   "cell_type": "code",
   "execution_count": null,
   "id": "793b8309-afe4-4eef-8b2d-9d1c561c31ba",
   "metadata": {
    "id": "793b8309-afe4-4eef-8b2d-9d1c561c31ba",
    "outputId": "59e7054b-7e48-454d-ec94-1cce4a131943"
   },
   "outputs": [
    {
     "name": "stdout",
     "output_type": "stream",
     "text": [
      "Expected Output:  [[], [9, 2, 6], [5, 2]]\n",
      "Actual Output:  [[], [8, 1, 9, 2, 6], [8, 1, 5, 2]]\n",
      "                 Precision  Recall  F1 Score  Accuracy  Exact Match\n",
      "0                      0.0     0.0       0.0       0.0     1.000000\n",
      "1                      0.0     0.0       0.0       0.0     0.000000\n",
      "2                      0.0     0.0       0.0       0.0     0.000000\n",
      "Model 1 Average        0.0     0.0       0.0       0.0     0.333333\n"
     ]
    }
   ],
   "source": [
    "## Model 3 summary\n",
    "\n",
    "import pandas as pd\n",
    "def evaluate_list_metrics(expected_output, actual_output):\n",
    "    exact_match_accuracy = 1 if expected_output == actual_output else 0\n",
    "\n",
    "    # Calculate true positives\n",
    "    true_positives = sum(1 for i in range(min(len(expected_output), len(actual_output))) if expected_output[i] == actual_output[i])\n",
    "\n",
    "    # Calculate false positives\n",
    "    false_positives = sum(1 for i in range(len(actual_output)) if actual_output[i] not in expected_output)\n",
    "\n",
    "    # Calculate false negatives\n",
    "    false_negatives = sum(1 for i in range(len(expected_output)) if expected_output[i] != actual_output[i])\n",
    "\n",
    "    # Calculate precision, recall, and F1 score\n",
    "    precision = true_positives / (true_positives + false_positives) if true_positives + false_positives > 0 else 0\n",
    "    recall = true_positives / (true_positives + false_negatives) if true_positives + false_negatives > 0 else 0\n",
    "    f1_score = 2 * (precision * recall) / (precision + recall) if precision + recall > 0 else 0\n",
    "\n",
    "    # Calculate accuracy\n",
    "    if max(len(expected_output), len(actual_output)) > 0:\n",
    "        accuracy = sum(1 for i in range(len(expected_output)) if expected_output[i] == actual_output[i]) / max(len(expected_output), len(actual_output))\n",
    "    else:\n",
    "        accuracy = 0\n",
    "    return {\n",
    "        \"Precision\": precision,\n",
    "        \"Recall\": recall,\n",
    "        \"F1 Score\": f1_score,\n",
    "        \"Accuracy\": accuracy,\n",
    "        \"Exact Match\": exact_match_accuracy\n",
    "    }\n",
    "\n",
    "expected_outputs = [[], [9, 2, 6], [5, 2]]\n",
    "actual_outputs_mod1 = [mod1_output1, mod1_output2, mod1_output3]\n",
    "print(\"Expected Output: \", expected_outputs)\n",
    "print(\"Actual Output: \", actual_outputs_mod1)\n",
    "\n",
    "metrics1 = [evaluate_list_metrics(expected, actual) for expected, actual in zip(expected_outputs, actual_outputs_mod1)]\n",
    "\n",
    "# Create DataFrame directly from the list of dictionaries\n",
    "df_metrics1_new = pd.DataFrame(metrics1)\n",
    "\n",
    "# Calculate the average for precision, recall, F1 score, accuracy, and exact match\n",
    "avg_metrics1 = df_metrics1_new.mean(axis=0)\n",
    "avg_metrics1.name = 'Model 1 Average'\n",
    "\n",
    "# # Append the average row to the DataFrame\n",
    "# df_metrics1_new = df_metrics1_new.append(avg_metrics1)\n",
    "\n",
    "# Concatenate the average row to the DataFrame\n",
    "df_metrics1_new = pd.concat([df_metrics1_new, avg_metrics1.to_frame().transpose()])\n",
    "\n",
    "# Print the new DataFrame\n",
    "print(df_metrics1_new)"
   ]
  },
  {
   "cell_type": "code",
   "execution_count": null,
   "id": "21a0b4a2-47ba-4b27-9060-13def529ad7a",
   "metadata": {
    "id": "21a0b4a2-47ba-4b27-9060-13def529ad7a"
   },
   "outputs": [],
   "source": []
  }
 ],
 "metadata": {
  "colab": {
   "provenance": []
  },
  "kernelspec": {
   "display_name": "Python 3 (ipykernel)",
   "language": "python",
   "name": "python3"
  },
  "language_info": {
   "codemirror_mode": {
    "name": "ipython",
    "version": 3
   },
   "file_extension": ".py",
   "mimetype": "text/x-python",
   "name": "python",
   "nbconvert_exporter": "python",
   "pygments_lexer": "ipython3",
   "version": "3.11.7"
  }
 },
 "nbformat": 4,
 "nbformat_minor": 5
}
