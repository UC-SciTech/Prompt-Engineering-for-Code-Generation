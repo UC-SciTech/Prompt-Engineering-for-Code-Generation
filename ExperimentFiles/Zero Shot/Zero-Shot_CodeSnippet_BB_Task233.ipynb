{
 "cells": [
  {
   "cell_type": "markdown",
   "id": "a8c0ade6",
   "metadata": {},
   "source": [
    "<h2 style='text-align: center;'> Technology Capstone Research Project PG (11522) </h2>\n",
    "<h3 style='text-align: center;'> Project ID: 2024-S1-50 </h3>\n",
    "<h3 style='text-align: center;'> Group ID: 11522-24S1-41 </h3>\n",
    "<h4 style='text-align: center;'> Member: MD Alvee Rohan - U3235512 </h4>\n",
    "<h4 style='text-align: center;'> Prompt Technique: Zero Shot </h4>"
   ]
  },
  {
   "cell_type": "markdown",
   "id": "dc2df1e5",
   "metadata": {},
   "source": [
    "### Revised Prompt for ZS\n",
    "\n",
    "### BIG-bench\\\\ c233\n",
    "Write a python code snippet that does not use a function or function definition Infer and compute a  lists of natural numbers for a  given single input given a predetermined set of examples The target function is prepend the last element."
   ]
  },
  {
   "cell_type": "code",
   "execution_count": 10,
   "id": "84129264-1784-4746-b8f1-8c32ae084b65",
   "metadata": {},
   "outputs": [
    {
     "name": "stdout",
     "output_type": "stream",
     "text": [
      "Result: [20, 14, 25, 13, 25, 20, 13, 55, 20]\n",
      "Execution time: 0.0 seconds\n"
     ]
    }
   ],
   "source": [
    "# Task ID: BIG-bench/c233\n",
    "# Code Snippet - ZS\n",
    "# Model 1\n",
    "# Sample 1\n",
    "\n",
    "import time\n",
    "# Record the starting time\n",
    "start_time_mol1_output1 = time.time()\n",
    "\n",
    "# Input list of natural numbers\n",
    "input_list_1 = [14, 25, 13, 25, 20, 13, 55, 20]\n",
    "\n",
    "# Prepend the last element to the list\n",
    "input_list_1 = [input_list_1[-1]] + input_list_1\n",
    "\n",
    "print(\"Result:\", input_list_1)\n",
    "\n",
    "# Assign the combined list to mod1_output1\n",
    "mod1_output1 = input_list_1\n",
    "# Record the ending time\n",
    "end_time_mol1_output1 = time.time()\n",
    "# Calculate and print the execution time\n",
    "execution_time_mod1_output1 = end_time_mol1_output1 - start_time_mol1_output1\n",
    "print(f\"Execution time: {execution_time_mod1_output1} seconds\")"
   ]
  },
  {
   "cell_type": "code",
   "execution_count": 19,
   "id": "7e92d6d4-36ea-4310-8511-761303629a4b",
   "metadata": {},
   "outputs": [
    {
     "name": "stdout",
     "output_type": "stream",
     "text": [
      "Result: [13, 35, 13, 35, 13, 35, 13, 35, 13, 13]\n",
      "Execution time: 0.0 seconds\n"
     ]
    }
   ],
   "source": [
    "# Task ID: BIG-bench/c233\n",
    "# Code Snippet - ZS\n",
    "# Model 1\n",
    "# Sample 2\n",
    "\n",
    "import time\n",
    "\n",
    "# Record the starting time\n",
    "start_time_mol1_output2 = time.time()\n",
    "\n",
    "# Input list of natural numbers\n",
    "input_list_2 = [35, 13, 35, 13, 35, 13, 35, 13, 13]\n",
    "\n",
    "# Prepend the last element to the list\n",
    "input_list_2 = [input_list_2[-1]] + input_list_2\n",
    "\n",
    "print(\"Result:\", input_list_2)\n",
    "\n",
    "# Assign the combined list to mod1_output1\n",
    "mod1_output2 = input_list_2\n",
    "# Record the ending time\n",
    "end_time_mol1_output2 = time.time()\n",
    "\n",
    "# Calculate and print the execution time\n",
    "execution_time_mod1_output2 = end_time_mol1_output2 - start_time_mol1_output2\n",
    "print(f\"Execution time: {execution_time_mod1_output2} seconds\")\n"
   ]
  },
  {
   "cell_type": "code",
   "execution_count": 16,
   "id": "cde3e8bd-c932-48ff-90cb-a98ba4d3ed7d",
   "metadata": {},
   "outputs": [
    {
     "name": "stdout",
     "output_type": "stream",
     "text": [
      "Result: [95, 95, 95, 95, 95, 95]\n",
      "Execution time: 0.0 seconds\n"
     ]
    }
   ],
   "source": [
    "# Task ID: BIG-bench/c233\n",
    "# Code Snippet - ZS\n",
    "# Model 1\n",
    "# Sample 3\n",
    "\n",
    "import time\n",
    "\n",
    "# Record the starting time\n",
    "start_time_mol1_output3 = time.time()\n",
    "\n",
    "# Input list of natural numbers\n",
    "input_list_3 = [95, 95, 95, 95, 95]\n",
    "\n",
    "# Prepend the last element to the list\n",
    "input_list_3 = [input_list_3[-1]] + input_list_3\n",
    "\n",
    "print(\"Result:\", input_list_3)\n",
    "\n",
    "# Assign the combined list to mod1_output1\n",
    "mod1_output3 = input_list_3\n",
    "# Record the ending time\n",
    "end_time_mol1_output3 = time.time()\n",
    "\n",
    "# Calculate and print the execution time\n",
    "execution_time_mod1_output3 = end_time_mol1_output3 - start_time_mol1_output3\n",
    "print(f\"Execution time: {execution_time_mod1_output3} seconds\")"
   ]
  },
  {
   "cell_type": "code",
   "execution_count": 29,
   "id": "ba569150-9da8-4e20-8198-cb73ce3042ff",
   "metadata": {},
   "outputs": [
    {
     "name": "stdout",
     "output_type": "stream",
     "text": [
      "Expected Output:  [[1, 2, 2, 2, 1], [4, 5], [5]]\n",
      "Actual Output:  [[20, 14, 25, 13, 25, 20, 13, 55, 20], [13, 35, 13, 35, 13, 35, 13, 35, 13, 13], [95, 95, 95, 95, 95, 95]]\n",
      "                 Precision  Recall  F1 Score  Accuracy  Exact Match\n",
      "0                      0.0     0.0       0.0       0.0          0.0\n",
      "1                      0.0     0.0       0.0       0.0          0.0\n",
      "2                      0.0     0.0       0.0       0.0          0.0\n",
      "Model 1 Average        0.0     0.0       0.0       0.0          0.0\n"
     ]
    }
   ],
   "source": [
    "## Model 1 summary\n",
    "import pandas as pd\n",
    "def evaluate_list_metrics(expected_output, actual_output):\n",
    "    exact_match_accuracy = 1 if expected_output == actual_output else 0\n",
    "\n",
    "    # Calculate true positives\n",
    "    true_positives = sum(1 for i in range(min(len(expected_output), len(actual_output))) if expected_output[i] == actual_output[i])\n",
    "\n",
    "    # Calculate false positives\n",
    "    false_positives = sum(1 for i in range(len(actual_output)) if actual_output[i] not in expected_output)\n",
    "\n",
    "    # Calculate false negatives\n",
    "    false_negatives = sum(1 for i in range(len(expected_output)) if expected_output[i] != actual_output[i])\n",
    "\n",
    "    # Calculate precision, recall, and F1 score\n",
    "    precision = true_positives / (true_positives + false_positives) if true_positives + false_positives > 0 else 0\n",
    "    recall = true_positives / (true_positives + false_negatives) if true_positives + false_negatives > 0 else 0\n",
    "    f1_score = 2 * (precision * recall) / (precision + recall) if precision + recall > 0 else 0\n",
    "\n",
    "    # Calculate accuracy\n",
    "    accuracy = sum(1 for i in range(len(expected_output)) if expected_output[i] == actual_output[i]) / max(len(expected_output), len(actual_output))\n",
    "\n",
    "    return {\n",
    "        \"Precision\": precision,\n",
    "        \"Recall\": recall,\n",
    "        \"F1 Score\": f1_score,\n",
    "        \"Accuracy\": accuracy,\n",
    "        \"Exact Match\": exact_match_accuracy\n",
    "    }\n",
    "\n",
    "expected_outputs = [[1, 2, 2, 2, 1], [4, 5], [5]]\n",
    "actual_outputs_mod1 = [mod1_output1, mod1_output2, mod1_output3]\n",
    "print(\"Expected Output: \", expected_outputs)\n",
    "print(\"Actual Output: \", actual_outputs_mod1)\n",
    "\n",
    "metrics1 = [evaluate_list_metrics(expected, actual) for expected, actual in zip(expected_outputs, actual_outputs_mod1)]\n",
    "\n",
    "# Create DataFrame directly from the list of dictionaries\n",
    "df_metrics1_new = pd.DataFrame(metrics1)\n",
    "\n",
    "# Calculate the average for precision, recall, F1 score, accuracy, and exact match\n",
    "avg_metrics1 = df_metrics1_new.mean(axis=0)\n",
    "avg_metrics1.name = 'Model 1 Average'\n",
    "\n",
    "# # Append the average row to the DataFrame\n",
    "# df_metrics1_new = df_metrics1_new.append(avg_metrics1)\n",
    "\n",
    "# Concatenate the average row to the DataFrame\n",
    "df_metrics1_new = pd.concat([df_metrics1_new, avg_metrics1.to_frame().transpose()])\n",
    "\n",
    "# Print the new DataFrame\n",
    "print(df_metrics1_new)"
   ]
  },
  {
   "cell_type": "code",
   "execution_count": 21,
   "id": "237de4d0-3103-463b-baf8-cfe590f3cdfd",
   "metadata": {},
   "outputs": [
    {
     "name": "stdout",
     "output_type": "stream",
     "text": [
      "Result: [20, 14, 25, 13, 25, 20, 13, 55, 20]\n",
      "Execution time: 0.0 seconds\n"
     ]
    }
   ],
   "source": [
    "# Task ID: BIG-bench/c233\n",
    "# Code Snippet - ZS\n",
    "# Model 2\n",
    "# Sample 1\n",
    "\n",
    "import time\n",
    "# Record the starting time\n",
    "start_time_mol2_output1 = time.time()\n",
    "\n",
    "# Input list of natural numbers\n",
    "input_list_1 = [14, 25, 13, 25, 20, 13, 55, 20]\n",
    "\n",
    "# Prepend the last element to the list\n",
    "input_list_1 = [input_list_1[-1]] + input_list_1[:]\n",
    "\n",
    "print(\"Result:\", input_list_1)\n",
    "\n",
    "# Assign the combined list to mod1_output1\n",
    "mod2_output1 = input_list_1\n",
    "# Record the ending time\n",
    "end_time_mol2_output1 = time.time()\n",
    "# Calculate and print the execution time\n",
    "execution_time_mod2_output1 = end_time_mol2_output1 - start_time_mol2_output1\n",
    "print(f\"Execution time: {execution_time_mod2_output1} seconds\")"
   ]
  },
  {
   "cell_type": "code",
   "execution_count": 22,
   "id": "4e8df0cf-e8b2-4361-b402-5678ed0ca114",
   "metadata": {},
   "outputs": [
    {
     "name": "stdout",
     "output_type": "stream",
     "text": [
      "Result: [13, 35, 13, 35, 13, 35, 13, 35, 13, 13]\n",
      "Execution time: 0.0009965896606445312 seconds\n"
     ]
    }
   ],
   "source": [
    "# Task ID: BIG-bench/c233\n",
    "# Code Snippet - ZS\n",
    "# Model 2\n",
    "# Sample 2\n",
    "\n",
    "import time\n",
    "\n",
    "# Record the starting time\n",
    "start_time_mol2_output2 = time.time()\n",
    "# Input list of natural numbers\n",
    "input_list_2 = [35, 13, 35, 13, 35, 13, 35, 13, 13]\n",
    "\n",
    "# Prepend the last element to the list\n",
    "input_list_2 = [input_list_2[-1]] + input_list_2[:]\n",
    "\n",
    "print(\"Result:\", input_list_2)\n",
    "\n",
    "# Assign the combined list to mod2_output2\n",
    "mod2_output2 = input_list_2\n",
    "# Record the ending time\n",
    "end_time_mol2_output2 = time.time()\n",
    "\n",
    "# Calculate and print the execution time\n",
    "execution_time_mod2_output2 = end_time_mol2_output2 - start_time_mol2_output2\n",
    "print(f\"Execution time: {execution_time_mod2_output2} seconds\")"
   ]
  },
  {
   "cell_type": "code",
   "execution_count": 23,
   "id": "cf6d6af3-1720-4c97-ba34-f5dbadc1f007",
   "metadata": {},
   "outputs": [
    {
     "name": "stdout",
     "output_type": "stream",
     "text": [
      "Result: [95, 95, 95, 95, 95, 95]\n",
      "Execution time: 0.0 seconds\n"
     ]
    }
   ],
   "source": [
    "# Task ID: BIG-bench/c233\n",
    "# Code Snippet - ZS\n",
    "# Model 2\n",
    "# Sample 3\n",
    "\n",
    "import time\n",
    "# Record the starting time\n",
    "start_time_mol2_output3 = time.time()\n",
    "# Input list of natural numbers\n",
    "input_list_3 = [95, 95, 95, 95, 95]\n",
    "\n",
    "# Prepend the last element to the list\n",
    "input_list_3 = [input_list_3[-1]] + input_list_3[:]\n",
    "# Print the result\n",
    "print(\"Result:\", input_list_3)\n",
    "# Record the ending time\n",
    "end_time_mol2_output3 = time.time()\n",
    "\n",
    "# Assign the combined list\n",
    "mod2_output3 = input_list_3\n",
    "\n",
    "# Calculate and print the execution time\n",
    "execution_time_mod2_output3 = end_time_mol1_output3 - start_time_mol1_output3\n",
    "print(f\"Execution time: {execution_time_mod1_output3} seconds\")\n",
    "\n"
   ]
  },
  {
   "cell_type": "code",
   "execution_count": 30,
   "id": "853d4773-86d9-47b9-a29f-743f19e168be",
   "metadata": {},
   "outputs": [
    {
     "name": "stdout",
     "output_type": "stream",
     "text": [
      "Expected Output:  [[1, 2, 2, 2, 1], [4, 5], [5]]\n",
      "Actual Output:  [[20, 14, 25, 13, 25, 20, 13, 55, 20], [13, 35, 13, 35, 13, 35, 13, 35, 13, 13], [95, 95, 95, 95, 95, 95]]\n",
      "                 Precision  Recall  F1 Score  Accuracy  Exact Match\n",
      "0                      0.0     0.0       0.0       0.0          0.0\n",
      "1                      0.0     0.0       0.0       0.0          0.0\n",
      "2                      0.0     0.0       0.0       0.0          0.0\n",
      "Model 1 Average        0.0     0.0       0.0       0.0          0.0\n"
     ]
    }
   ],
   "source": [
    "## Model 2 summary\n",
    "\n",
    "import pandas as pd\n",
    "def evaluate_list_metrics(expected_output, actual_output):\n",
    "    exact_match_accuracy = 1 if expected_output == actual_output else 0\n",
    "\n",
    "    # Calculate true positives\n",
    "    true_positives = sum(1 for i in range(min(len(expected_output), len(actual_output))) if expected_output[i] == actual_output[i])\n",
    "\n",
    "    # Calculate false positives\n",
    "    false_positives = sum(1 for i in range(len(actual_output)) if actual_output[i] not in expected_output)\n",
    "\n",
    "    # Calculate false negatives\n",
    "    false_negatives = sum(1 for i in range(len(expected_output)) if expected_output[i] != actual_output[i])\n",
    "\n",
    "    # Calculate precision, recall, and F1 score\n",
    "    precision = true_positives / (true_positives + false_positives) if true_positives + false_positives > 0 else 0\n",
    "    recall = true_positives / (true_positives + false_negatives) if true_positives + false_negatives > 0 else 0\n",
    "    f1_score = 2 * (precision * recall) / (precision + recall) if precision + recall > 0 else 0\n",
    "\n",
    "    # Calculate accuracy\n",
    "    accuracy = sum(1 for i in range(len(expected_output)) if expected_output[i] == actual_output[i]) / max(len(expected_output), len(actual_output))\n",
    "\n",
    "    return {\n",
    "        \"Precision\": precision,\n",
    "        \"Recall\": recall,\n",
    "        \"F1 Score\": f1_score,\n",
    "        \"Accuracy\": accuracy,\n",
    "        \"Exact Match\": exact_match_accuracy\n",
    "    }\n",
    "\n",
    "expected_outputs = [[1, 2, 2, 2, 1], [4, 5], [5]]\n",
    "actual_outputs_mod1 = [mod1_output1, mod1_output2, mod1_output3]\n",
    "print(\"Expected Output: \", expected_outputs)\n",
    "print(\"Actual Output: \", actual_outputs_mod1)\n",
    "\n",
    "metrics1 = [evaluate_list_metrics(expected, actual) for expected, actual in zip(expected_outputs, actual_outputs_mod1)]\n",
    "\n",
    "# Create DataFrame directly from the list of dictionaries\n",
    "df_metrics1_new = pd.DataFrame(metrics1)\n",
    "\n",
    "# Calculate the average for precision, recall, F1 score, accuracy, and exact match\n",
    "avg_metrics1 = df_metrics1_new.mean(axis=0)\n",
    "avg_metrics1.name = 'Model 1 Average'\n",
    "\n",
    "# # Append the average row to the DataFrame\n",
    "# df_metrics1_new = df_metrics1_new.append(avg_metrics1)\n",
    "\n",
    "# Concatenate the average row to the DataFrame\n",
    "df_metrics1_new = pd.concat([df_metrics1_new, avg_metrics1.to_frame().transpose()])\n",
    "\n",
    "# Print the new DataFrame\n",
    "print(df_metrics1_new)"
   ]
  },
  {
   "cell_type": "code",
   "execution_count": 25,
   "id": "7c0e1668-9b9f-4efe-a14d-dc8f5802ada1",
   "metadata": {},
   "outputs": [
    {
     "name": "stdout",
     "output_type": "stream",
     "text": [
      "Result: [20, 14, 25, 13, 25, 20, 13, 55, 20]\n",
      "Execution time: 0.0 seconds\n"
     ]
    }
   ],
   "source": [
    "# Task ID: BIG-bench/c233\n",
    "# Code Snippet - ZS\n",
    "# Model 3\n",
    "# Sample 1\n",
    "\n",
    "import time\n",
    "# Record the starting time\n",
    "start_time_mol3_output1 = time.time()\n",
    "# Input list of natural numbers\n",
    "input_list_1 = [14, 25, 13, 25, 20, 13, 55, 20]\n",
    "\n",
    "# Prepend the last element to the list\n",
    "input_list_1.insert(0, input_list_1[-1])\n",
    "\n",
    "print(\"Result:\", input_list_1)\n",
    "\n",
    "# Record the ending time\n",
    "end_time_mol3_output1 = time.time()\n",
    "\n",
    "\n",
    "mod3_output1 = input_list_1\n",
    "\n",
    "# Calculate and print the execution time\n",
    "execution_time_mod3_output1 = end_time_mol3_output1 - start_time_mol3_output1\n",
    "print(f\"Execution time: {execution_time_mod3_output1} seconds\")"
   ]
  },
  {
   "cell_type": "code",
   "execution_count": 26,
   "id": "dc09e700-733d-4872-8f2e-9966535c5211",
   "metadata": {},
   "outputs": [
    {
     "name": "stdout",
     "output_type": "stream",
     "text": [
      "Result: [13, 35, 13, 35, 13, 35, 13, 35, 13, 13]\n",
      "Execution time: 0.0009982585906982422 seconds\n"
     ]
    }
   ],
   "source": [
    "# Task ID: BIG-bench/c233\n",
    "# Code Snippet - ZS\n",
    "# Model 3\n",
    "# Sample 2\n",
    "\n",
    "import time\n",
    "# Record the starting time\n",
    "start_time_mol3_output2 = time.time()\n",
    "# Input list of natural numbers\n",
    "input_list_2 = [35, 13, 35, 13, 35, 13, 35, 13, 13]\n",
    "\n",
    "# Prepend the last element to the list\n",
    "input_list_2.insert(0, input_list_2[-1])\n",
    "\n",
    "print(\"Result:\", input_list_2)\n",
    "\n",
    "# Assign the combined list to mod2_output2\n",
    "mod3_output2 = input_list_2\n",
    "# Record the ending time\n",
    "end_time_mol3_output2 = time.time()\n",
    "\n",
    "# Calculate and print the execution time\n",
    "execution_time_mod3_output2 = end_time_mol3_output2 - start_time_mol3_output2\n",
    "print(f\"Execution time: {execution_time_mod3_output2} seconds\")"
   ]
  },
  {
   "cell_type": "code",
   "execution_count": 28,
   "id": "4f95faaf-36eb-49c5-b33e-fc8fff30932a",
   "metadata": {},
   "outputs": [
    {
     "name": "stdout",
     "output_type": "stream",
     "text": [
      "Result: [95, 95, 95, 95, 95, 95]\n",
      "Execution time: 0.0 seconds\n"
     ]
    }
   ],
   "source": [
    "# Task ID: BIG-bench/c233\n",
    "# Code Snippet - ZS\n",
    "# Model 3\n",
    "# Sample 3\n",
    "\n",
    "import time\n",
    "# Record the starting time\n",
    "start_time_mol3_output3 = time.time()\n",
    "# Input list of natural numbers\n",
    "input_list_3 = [95, 95, 95, 95, 95]\n",
    "\n",
    "# Prepend the last element to the list\n",
    "input_list_3.insert(0, input_list_3[-1])\n",
    "\n",
    "print(\"Result:\", input_list_3)\n",
    "\n",
    "# Record the ending time\n",
    "end_time_mol3_output3 = time.time()\n",
    "\n",
    "\n",
    "mod3_output3 = input_list_3\n",
    "\n",
    "# Calculate and print the execution time\n",
    "execution_time_mod3_output3 = end_time_mol3_output3 - start_time_mol3_output3\n",
    "print(f\"Execution time: {execution_time_mod3_output3} seconds\")"
   ]
  },
  {
   "cell_type": "code",
   "execution_count": 31,
   "id": "d69c37ca-5360-4cb1-b238-f84d897b6633",
   "metadata": {},
   "outputs": [
    {
     "name": "stdout",
     "output_type": "stream",
     "text": [
      "Expected Output:  [[1, 2, 2, 2, 1], [4, 5], [5]]\n",
      "Actual Output:  [[20, 14, 25, 13, 25, 20, 13, 55, 20], [13, 35, 13, 35, 13, 35, 13, 35, 13, 13], [95, 95, 95, 95, 95, 95]]\n",
      "                 Precision  Recall  F1 Score  Accuracy  Exact Match\n",
      "0                      0.0     0.0       0.0       0.0          0.0\n",
      "1                      0.0     0.0       0.0       0.0          0.0\n",
      "2                      0.0     0.0       0.0       0.0          0.0\n",
      "Model 1 Average        0.0     0.0       0.0       0.0          0.0\n"
     ]
    }
   ],
   "source": [
    "## Model 3 summary\n",
    "\n",
    "import pandas as pd\n",
    "def evaluate_list_metrics(expected_output, actual_output):\n",
    "    exact_match_accuracy = 1 if expected_output == actual_output else 0\n",
    "\n",
    "    # Calculate true positives\n",
    "    true_positives = sum(1 for i in range(min(len(expected_output), len(actual_output))) if expected_output[i] == actual_output[i])\n",
    "\n",
    "    # Calculate false positives\n",
    "    false_positives = sum(1 for i in range(len(actual_output)) if actual_output[i] not in expected_output)\n",
    "\n",
    "    # Calculate false negatives\n",
    "    false_negatives = sum(1 for i in range(len(expected_output)) if expected_output[i] != actual_output[i])\n",
    "\n",
    "    # Calculate precision, recall, and F1 score\n",
    "    precision = true_positives / (true_positives + false_positives) if true_positives + false_positives > 0 else 0\n",
    "    recall = true_positives / (true_positives + false_negatives) if true_positives + false_negatives > 0 else 0\n",
    "    f1_score = 2 * (precision * recall) / (precision + recall) if precision + recall > 0 else 0\n",
    "\n",
    "    # Calculate accuracy\n",
    "    accuracy = sum(1 for i in range(len(expected_output)) if expected_output[i] == actual_output[i]) / max(len(expected_output), len(actual_output))\n",
    "\n",
    "    return {\n",
    "        \"Precision\": precision,\n",
    "        \"Recall\": recall,\n",
    "        \"F1 Score\": f1_score,\n",
    "        \"Accuracy\": accuracy,\n",
    "        \"Exact Match\": exact_match_accuracy\n",
    "    }\n",
    "\n",
    "expected_outputs = [[1, 2, 2, 2, 1], [4, 5], [5]]\n",
    "actual_outputs_mod1 = [mod1_output1, mod1_output2, mod1_output3]\n",
    "print(\"Expected Output: \", expected_outputs)\n",
    "print(\"Actual Output: \", actual_outputs_mod1)\n",
    "\n",
    "metrics1 = [evaluate_list_metrics(expected, actual) for expected, actual in zip(expected_outputs, actual_outputs_mod1)]\n",
    "\n",
    "# Create DataFrame directly from the list of dictionaries\n",
    "df_metrics1_new = pd.DataFrame(metrics1)\n",
    "\n",
    "# Calculate the average for precision, recall, F1 score, accuracy, and exact match\n",
    "avg_metrics1 = df_metrics1_new.mean(axis=0)\n",
    "avg_metrics1.name = 'Model 1 Average'\n",
    "\n",
    "# # Append the average row to the DataFrame\n",
    "# df_metrics1_new = df_metrics1_new.append(avg_metrics1)\n",
    "\n",
    "# Concatenate the average row to the DataFrame\n",
    "df_metrics1_new = pd.concat([df_metrics1_new, avg_metrics1.to_frame().transpose()])\n",
    "\n",
    "# Print the new DataFrame\n",
    "print(df_metrics1_new)"
   ]
  },
  {
   "cell_type": "code",
   "execution_count": null,
   "id": "cf0adc9e-4193-46d1-8919-91f0c808263e",
   "metadata": {},
   "outputs": [],
   "source": []
  }
 ],
 "metadata": {
  "kernelspec": {
   "display_name": "Python 3 (ipykernel)",
   "language": "python",
   "name": "python3"
  },
  "language_info": {
   "codemirror_mode": {
    "name": "ipython",
    "version": 3
   },
   "file_extension": ".py",
   "mimetype": "text/x-python",
   "name": "python",
   "nbconvert_exporter": "python",
   "pygments_lexer": "ipython3",
   "version": "3.11.7"
  }
 },
 "nbformat": 4,
 "nbformat_minor": 5
}
