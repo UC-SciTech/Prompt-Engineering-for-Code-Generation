{
 "cells": [
  {
   "cell_type": "markdown",
   "id": "dcbb5ac6",
   "metadata": {},
   "source": [
    "<h2 style='text-align: center;'> Technology Capstone Research Project PG (11522) </h2>\n",
    "<h3 style='text-align: center;'> Project ID: 2024-S1-50 </h3>\n",
    "<h3 style='text-align: center;'> Group ID: 11522-24S1-41 </h3>\n",
    "<h4 style='text-align: center;'> Member: MD Alvee Rohan - U3235512 </h4>\n",
    "<h4 style='text-align: center;'> Prompt Technique: Zero Shot </h4>"
   ]
  },
  {
   "cell_type": "markdown",
   "id": "3ce9d0cb",
   "metadata": {},
   "source": [
    "### Revised Prompt for ZS\n",
    "\n",
    "### BIG-bench\\\\ c184\n",
    "Write a python code snippet that does not use a function or function definition over lists of natural numbers for a given single input given a predetermined set of examples The target function is remove whichever are equal: the two elements or the last two."
   ]
  },
  {
   "cell_type": "code",
   "execution_count": 3,
   "id": "dd719527-9d27-4e5b-9101-8233cede663e",
   "metadata": {},
   "outputs": [
    {
     "name": "stdout",
     "output_type": "stream",
     "text": [
      "Updated List: [3, 52, 8, 1, 48, 95, 4, 47, 9, 66]\n",
      "Execution time: 0.0009984970092773438 seconds\n"
     ]
    }
   ],
   "source": [
    "# Task ID: BIG-bench/c184\n",
    "# Code Snippet - ZS\n",
    "# Model 1\n",
    "# Sample 1\n",
    "\n",
    "import time\n",
    "# Record the starting time\n",
    "start_time_mol1_output1 = time.time()\n",
    "# input list of natural numbers\n",
    "input_list_1 = [3, 52, 8, 1, 48, 95, 4, 47, 9, 66]\n",
    "\n",
    "# Remove whichever are equal: the two elements or the last two\n",
    "if input_list_1[-1] == input_list_1[-2]:\n",
    "    input_list_1.pop(-1)\n",
    "    input_list_1.pop(-1)\n",
    "\n",
    "print(\"Updated List:\", input_list_1)\n",
    "# Assign the combined list to mod1_output1\n",
    "mod1_output1 = input_list_1\n",
    "# Record the ending time\n",
    "end_time_mol1_output1 = time.time()\n",
    "# Calculate and print the execution time\n",
    "execution_time_mod1_output1 = end_time_mol1_output1 - start_time_mol1_output1\n",
    "print(f\"Execution time: {execution_time_mod1_output1} seconds\")\n"
   ]
  },
  {
   "cell_type": "code",
   "execution_count": 4,
   "id": "704252e6-dd69-4312-9612-50d35df139f2",
   "metadata": {},
   "outputs": [
    {
     "name": "stdout",
     "output_type": "stream",
     "text": [
      "Updated List: [56, 57, 96, 71, 9, 5, 7, 4, 6, 3]\n",
      "Execution time: 0.0 seconds\n"
     ]
    }
   ],
   "source": [
    "# Task ID: BIG-bench/c184\n",
    "# Code Snippet - ZS\n",
    "# Model 1\n",
    "# Sample 2\n",
    "\n",
    "import time\n",
    "\n",
    "# Record the starting time\n",
    "start_time_mol1_output2 = time.time()\n",
    "input_list_2 = [56, 57, 96, 71, 9, 5, 7, 4, 6, 3]\n",
    "# Remove whichever are equal: the two elements or the last two\n",
    "if input_list_2[-1] == input_list_2[-2]:\n",
    "    input_list_2.pop(-1)\n",
    "    input_list_2.pop(-1)\n",
    "\n",
    "print(\"Updated List:\", input_list_2)\n",
    "\n",
    "# Assign the combined list to mod1_output1\n",
    "mod1_output2 = input_list_2\n",
    "# Record the ending time\n",
    "end_time_mol1_output2 = time.time()\n",
    "\n",
    "# Calculate and print the execution time\n",
    "execution_time_mod1_output2 = end_time_mol1_output2 - start_time_mol1_output2\n",
    "print(f\"Execution time: {execution_time_mod1_output2} seconds\")"
   ]
  },
  {
   "cell_type": "code",
   "execution_count": 5,
   "id": "9b2b7084-1dec-4234-91be-c84594e3fad2",
   "metadata": {},
   "outputs": [
    {
     "name": "stdout",
     "output_type": "stream",
     "text": [
      "Updated List: [93, 35, 57, 1, 8, 91, 6, 7, 3, 19]\n",
      "Execution time: 0.0 seconds\n"
     ]
    }
   ],
   "source": [
    "# Task ID: BIG-bench/c184\n",
    "# Code Snippet - ZS\n",
    "# Model 1\n",
    "# Sample 3\n",
    "\n",
    "import time\n",
    "\n",
    "# Record the starting time\n",
    "start_time_mol1_output3 = time.time()\n",
    "\n",
    "input_list_3 = [93, 35, 57, 1, 8, 91, 6, 7, 3, 19]\n",
    "# Remove whichever are equal: the two elements or the last two\n",
    "if input_list_3[-1] == input_list_3[-2]:\n",
    "    input_list_3.pop(-1)\n",
    "    input_list_3.pop(-1)\n",
    "\n",
    "print(\"Updated List:\", input_list_3)\n",
    "# Assign the combined list to mod1_output1\n",
    "mod1_output3 = input_list_3\n",
    "# Record the ending time\n",
    "end_time_mol1_output3 = time.time()\n",
    "\n",
    "# Calculate and print the execution time\n",
    "execution_time_mod1_output3 = end_time_mol1_output3 - start_time_mol1_output3\n",
    "print(f\"Execution time: {execution_time_mod1_output3} seconds\")"
   ]
  },
  {
   "cell_type": "code",
   "execution_count": 6,
   "id": "4ffdc916-c269-4de4-a38f-898577193a6f",
   "metadata": {},
   "outputs": [
    {
     "name": "stdout",
     "output_type": "stream",
     "text": [
      "Expected Output:  [[1, 2, 2, 2, 1], [4, 5], [5]]\n",
      "Actual Output:  [[3, 52, 8, 1, 48, 95, 4, 47, 9, 66], [56, 57, 96, 71, 9, 5, 7, 4, 6, 3], [93, 35, 57, 1, 8, 91, 6, 7, 3, 19]]\n",
      "                 Precision  Recall  F1 Score  Accuracy  Exact Match\n",
      "0                      0.0     0.0       0.0       0.0          0.0\n",
      "1                      0.0     0.0       0.0       0.0          0.0\n",
      "2                      0.0     0.0       0.0       0.0          0.0\n",
      "Model 1 Average        0.0     0.0       0.0       0.0          0.0\n"
     ]
    }
   ],
   "source": [
    "## Model 1 summary\n",
    "import pandas as pd\n",
    "def evaluate_list_metrics(expected_output, actual_output):\n",
    "    exact_match_accuracy = 1 if expected_output == actual_output else 0\n",
    "\n",
    "    # Calculate true positives\n",
    "    true_positives = sum(1 for i in range(min(len(expected_output), len(actual_output))) if expected_output[i] == actual_output[i])\n",
    "\n",
    "    # Calculate false positives\n",
    "    false_positives = sum(1 for i in range(len(actual_output)) if actual_output[i] not in expected_output)\n",
    "\n",
    "    # Calculate false negatives\n",
    "    false_negatives = sum(1 for i in range(len(expected_output)) if expected_output[i] != actual_output[i])\n",
    "\n",
    "    # Calculate precision, recall, and F1 score\n",
    "    precision = true_positives / (true_positives + false_positives) if true_positives + false_positives > 0 else 0\n",
    "    recall = true_positives / (true_positives + false_negatives) if true_positives + false_negatives > 0 else 0\n",
    "    f1_score = 2 * (precision * recall) / (precision + recall) if precision + recall > 0 else 0\n",
    "\n",
    "    # Calculate accuracy\n",
    "    accuracy = sum(1 for i in range(len(expected_output)) if expected_output[i] == actual_output[i]) / max(len(expected_output), len(actual_output))\n",
    "\n",
    "    return {\n",
    "        \"Precision\": precision,\n",
    "        \"Recall\": recall,\n",
    "        \"F1 Score\": f1_score,\n",
    "        \"Accuracy\": accuracy,\n",
    "        \"Exact Match\": exact_match_accuracy\n",
    "    }\n",
    "\n",
    "expected_outputs = [[1, 95, 47], [57, 71, 5, 3], [5]]\n",
    "actual_outputs_mod1 = [mod1_output1, mod1_output2, mod1_output3]\n",
    "print(\"Expected Output: \", expected_outputs)\n",
    "print(\"Actual Output: \", actual_outputs_mod1)\n",
    "\n",
    "metrics1 = [evaluate_list_metrics(expected, actual) for expected, actual in zip(expected_outputs, actual_outputs_mod1)]\n",
    "\n",
    "# Create DataFrame directly from the list of dictionaries\n",
    "df_metrics1_new = pd.DataFrame(metrics1)\n",
    "\n",
    "# Calculate the average for precision, recall, F1 score, accuracy, and exact match\n",
    "avg_metrics1 = df_metrics1_new.mean(axis=0)\n",
    "avg_metrics1.name = 'Model 1 Average'\n",
    "\n",
    "# # Append the average row to the DataFrame\n",
    "# df_metrics1_new = df_metrics1_new.append(avg_metrics1)\n",
    "\n",
    "# Concatenate the average row to the DataFrame\n",
    "df_metrics1_new = pd.concat([df_metrics1_new, avg_metrics1.to_frame().transpose()])\n",
    "\n",
    "# Print the new DataFrame\n",
    "print(df_metrics1_new)"
   ]
  },
  {
   "cell_type": "code",
   "execution_count": 7,
   "id": "d38be39a-8fbe-4653-94f8-0682ce3b7188",
   "metadata": {},
   "outputs": [
    {
     "name": "stdout",
     "output_type": "stream",
     "text": [
      "Updated List: [3, 52, 8, 1, 48, 95, 4, 47, 9]\n",
      "Execution time: 0.0009958744049072266 seconds\n"
     ]
    }
   ],
   "source": [
    "# Task ID: BIG-bench/c184\n",
    "# Code Snippet - ZS\n",
    "# Model 2\n",
    "# Sample 1\n",
    "\n",
    "import time\n",
    "# Record the starting time\n",
    "start_time_mol2_output1 = time.time()\n",
    "# input list of natural numbers\n",
    "input_list_1 = [3, 52, 8, 1, 48, 95, 4, 47, 9, 66]\n",
    "\n",
    "# Remove whichever are equal: the two elements or the last two\n",
    "if input_list_1[-1] == input_list_1[-2]:\n",
    "    input_list_1 = input_list_1[:-2]\n",
    "else:\n",
    "    input_list_1 = input_list_1[:-1]\n",
    "\n",
    "print(\"Updated List:\", input_list_1)\n",
    "# Assign the combined list to mod1_output1\n",
    "mod2_output1 = input_list_1\n",
    "# Record the ending time\n",
    "end_time_mol2_output1 = time.time()\n",
    "# Calculate and print the execution time\n",
    "execution_time_mod2_output1 = end_time_mol2_output1 - start_time_mol2_output1\n",
    "print(f\"Execution time: {execution_time_mod2_output1} seconds\")"
   ]
  },
  {
   "cell_type": "code",
   "execution_count": 8,
   "id": "42b3b05b-65cc-4d7e-9933-637513f5b621",
   "metadata": {},
   "outputs": [
    {
     "name": "stdout",
     "output_type": "stream",
     "text": [
      "Updated List: [56, 57, 96, 71, 9, 5, 7, 4, 6]\n",
      "Execution time: 0.0 seconds\n"
     ]
    }
   ],
   "source": [
    "# Task ID: BIG-bench/c184\n",
    "# Code Snippet - ZS\n",
    "# Model 2\n",
    "# Sample 1\n",
    "\n",
    "import time\n",
    "# Record the starting time\n",
    "start_time_mol2_output2 = time.time()\n",
    "\n",
    "input_list_2 = [56, 57, 96, 71, 9, 5, 7, 4, 6, 3]\n",
    "# Remove whichever are equal: the two elements or the last two\n",
    "if input_list_2[-1] == input_list_2[-2]:\n",
    "    input_list_2 = input_list_2[:-2]\n",
    "else:\n",
    "    input_list_2 = input_list_2[:-1]\n",
    "\n",
    "print(\"Updated List:\", input_list_2)\n",
    "# Assign the combined list to mod2_output2\n",
    "mod2_output2 = input_list_2\n",
    "# Record the ending time\n",
    "end_time_mol2_output2 = time.time()\n",
    "\n",
    "# Calculate and print the execution time\n",
    "execution_time_mod2_output2 = end_time_mol2_output2 - start_time_mol2_output2\n",
    "print(f\"Execution time: {execution_time_mod2_output2} seconds\")"
   ]
  },
  {
   "cell_type": "code",
   "execution_count": 9,
   "id": "18ab3f25-d669-4a95-8479-c8e3b28ee0d2",
   "metadata": {},
   "outputs": [
    {
     "name": "stdout",
     "output_type": "stream",
     "text": [
      "Updated List: [3, 52, 8, 1, 48, 95, 4, 47, 9]\n",
      "Execution time: 0.0 seconds\n"
     ]
    }
   ],
   "source": [
    "# Task ID: BIG-bench/c184\n",
    "# Code Snippet - ZS\n",
    "# Model 2\n",
    "# Sample 3\n",
    "\n",
    "import time\n",
    "# Record the starting time\n",
    "start_time_mol2_output3 = time.time()\n",
    "input_list_3 = [93, 35, 57, 1, 8, 91, 6, 7, 3, 19]\n",
    "\n",
    "# Remove whichever are equal: the two elements or the last two\n",
    "if input_list_3[-1] == input_list_3[-2]:\n",
    "    input_list_3 = input_list_3[:-2]\n",
    "else:\n",
    "    input_list_3 = input_list_3[:-1]\n",
    "\n",
    "print(\"Updated List:\", input_list_1)\n",
    "# Record the ending time\n",
    "end_time_mol2_output3 = time.time()\n",
    "\n",
    "# Assign the combined list\n",
    "mod2_output3 = input_list_3\n",
    "\n",
    "# Calculate and print the execution time\n",
    "execution_time_mod2_output3 = end_time_mol1_output3 - start_time_mol1_output3\n",
    "print(f\"Execution time: {execution_time_mod1_output3} seconds\")"
   ]
  },
  {
   "cell_type": "code",
   "execution_count": 10,
   "id": "47d48a97-6081-48cd-899a-b6e34609bf6e",
   "metadata": {},
   "outputs": [
    {
     "name": "stdout",
     "output_type": "stream",
     "text": [
      "Expected Output:  [[1, 2, 2, 2, 1], [4, 5], [5]]\n",
      "Actual Output:  [[3, 52, 8, 1, 48, 95, 4, 47, 9, 66], [56, 57, 96, 71, 9, 5, 7, 4, 6, 3], [93, 35, 57, 1, 8, 91, 6, 7, 3, 19]]\n",
      "                 Precision  Recall  F1 Score  Accuracy  Exact Match\n",
      "0                      0.0     0.0       0.0       0.0          0.0\n",
      "1                      0.0     0.0       0.0       0.0          0.0\n",
      "2                      0.0     0.0       0.0       0.0          0.0\n",
      "Model 1 Average        0.0     0.0       0.0       0.0          0.0\n"
     ]
    }
   ],
   "source": [
    "## Model 2 summary\n",
    "import pandas as pd\n",
    "def evaluate_list_metrics(expected_output, actual_output):\n",
    "    exact_match_accuracy = 1 if expected_output == actual_output else 0\n",
    "\n",
    "    # Calculate true positives\n",
    "    true_positives = sum(1 for i in range(min(len(expected_output), len(actual_output))) if expected_output[i] == actual_output[i])\n",
    "\n",
    "    # Calculate false positives\n",
    "    false_positives = sum(1 for i in range(len(actual_output)) if actual_output[i] not in expected_output)\n",
    "\n",
    "    # Calculate false negatives\n",
    "    false_negatives = sum(1 for i in range(len(expected_output)) if expected_output[i] != actual_output[i])\n",
    "\n",
    "    # Calculate precision, recall, and F1 score\n",
    "    precision = true_positives / (true_positives + false_positives) if true_positives + false_positives > 0 else 0\n",
    "    recall = true_positives / (true_positives + false_negatives) if true_positives + false_negatives > 0 else 0\n",
    "    f1_score = 2 * (precision * recall) / (precision + recall) if precision + recall > 0 else 0\n",
    "\n",
    "    # Calculate accuracy\n",
    "    accuracy = sum(1 for i in range(len(expected_output)) if expected_output[i] == actual_output[i]) / max(len(expected_output), len(actual_output))\n",
    "\n",
    "    return {\n",
    "        \"Precision\": precision,\n",
    "        \"Recall\": recall,\n",
    "        \"F1 Score\": f1_score,\n",
    "        \"Accuracy\": accuracy,\n",
    "        \"Exact Match\": exact_match_accuracy\n",
    "    }\n",
    "\n",
    "expected_outputs = [[1, 2, 2, 2, 1], [4, 5], [5]]\n",
    "actual_outputs_mod1 = [mod1_output1, mod1_output2, mod1_output3]\n",
    "print(\"Expected Output: \", expected_outputs)\n",
    "print(\"Actual Output: \", actual_outputs_mod1)\n",
    "\n",
    "metrics1 = [evaluate_list_metrics(expected, actual) for expected, actual in zip(expected_outputs, actual_outputs_mod1)]\n",
    "\n",
    "# Create DataFrame directly from the list of dictionaries\n",
    "df_metrics1_new = pd.DataFrame(metrics1)\n",
    "\n",
    "# Calculate the average for precision, recall, F1 score, accuracy, and exact match\n",
    "avg_metrics1 = df_metrics1_new.mean(axis=0)\n",
    "avg_metrics1.name = 'Model 1 Average'\n",
    "\n",
    "# # Append the average row to the DataFrame\n",
    "# df_metrics1_new = df_metrics1_new.append(avg_metrics1)\n",
    "\n",
    "# Concatenate the average row to the DataFrame\n",
    "df_metrics1_new = pd.concat([df_metrics1_new, avg_metrics1.to_frame().transpose()])\n",
    "\n",
    "# Print the new DataFrame\n",
    "print(df_metrics1_new)"
   ]
  },
  {
   "cell_type": "code",
   "execution_count": 11,
   "id": "5c9b5ae1-31b8-4350-89d5-b2a895c334ef",
   "metadata": {},
   "outputs": [
    {
     "name": "stdout",
     "output_type": "stream",
     "text": [
      "Updated List: [3, 52, 8, 1, 48, 95, 4, 47, 9]\n",
      "Execution time: 0.0010290145874023438 seconds\n"
     ]
    }
   ],
   "source": [
    "# Task ID: BIG-bench/c184\n",
    "# Code Snippet - ZS\n",
    "# Model 3\n",
    "# Sample 1\n",
    "\n",
    "import time\n",
    "# Record the starting time\n",
    "start_time_mol3_output1 = time.time()\n",
    "\n",
    "# input list of natural numbers\n",
    "input_list_1 = [3, 52, 8, 1, 48, 95, 4, 47, 9, 66]\n",
    "\n",
    "# Remove whichever are equal: the two elements or the last two\n",
    "input_list_1 = [input_list_1[i] for i in range(len(input_list_1) - 2)] if input_list_1[-1] == input_list_1[-2] else [input_list_1[i] for i in range(len(input_list_1) - 1)]\n",
    "\n",
    "print(\"Updated List:\", input_list_1)\n",
    "\n",
    "# Record the ending time\n",
    "end_time_mol3_output1 = time.time()\n",
    "\n",
    "\n",
    "mod3_output1 = input_list_1\n",
    "\n",
    "# Calculate and print the execution time\n",
    "execution_time_mod3_output1 = end_time_mol3_output1 - start_time_mol3_output1\n",
    "print(f\"Execution time: {execution_time_mod3_output1} seconds\")"
   ]
  },
  {
   "cell_type": "code",
   "execution_count": 12,
   "id": "6a86489a-00f5-4f1a-809e-3efd87cdfed2",
   "metadata": {},
   "outputs": [
    {
     "name": "stdout",
     "output_type": "stream",
     "text": [
      "Updated List: [56, 57, 96, 71, 9, 5, 7, 4, 6]\n",
      "Execution time: 0.0 seconds\n"
     ]
    }
   ],
   "source": [
    "# Task ID: BIG-bench/c184\n",
    "# Code Snippet - ZS\n",
    "# Model 3\n",
    "# Sample 2\n",
    "\n",
    "import time\n",
    "# Record the starting time\n",
    "start_time_mol3_output2 = time.time()\n",
    "input_list_2 = [56, 57, 96, 71, 9, 5, 7, 4, 6, 3]\n",
    "# Remove whichever are equal: the two elements or the last two\n",
    "input_list_2 = [input_list_2[i] for i in range(len(input_list_2) - 2)] if input_list_2[-1] == input_list_2[-2] else [input_list_2[i] for i in range(len(input_list_2) - 1)]\n",
    "\n",
    "print(\"Updated List:\", input_list_2)\n",
    "# Assign the combined list to mod2_output2\n",
    "mod3_output2 = input_list_2\n",
    "# Record the ending time\n",
    "end_time_mol3_output2 = time.time()\n",
    "\n",
    "# Calculate and print the execution time\n",
    "execution_time_mod3_output2 = end_time_mol3_output2 - start_time_mol3_output2\n",
    "print(f\"Execution time: {execution_time_mod3_output2} seconds\")"
   ]
  },
  {
   "cell_type": "code",
   "execution_count": 13,
   "id": "86abc94b-abc2-4e5a-9c15-6af481b05e2e",
   "metadata": {},
   "outputs": [
    {
     "name": "stdout",
     "output_type": "stream",
     "text": [
      "Updated List: [93, 35, 57, 1, 8, 91, 6, 7, 3]\n",
      "Execution time: 0.0 seconds\n"
     ]
    }
   ],
   "source": [
    "# Task ID: BIG-bench/c184\n",
    "# Code Snippet - ZS\n",
    "# Model 3\n",
    "# Sample 3\n",
    "\n",
    "import time\n",
    "# Record the starting time\n",
    "start_time_mol3_output3 = time.time()\n",
    "\n",
    "input_list_3 = [93, 35, 57, 1, 8, 91, 6, 7, 3, 19]\n",
    "# Remove whichever are equal: the two elements or the last two\n",
    "input_list_3 = [input_list_3[i] for i in range(len(input_list_3) - 2)] if input_list_3[-1] == input_list_3[-2] else [input_list_3[i] for i in range(len(input_list_3) - 1)]\n",
    "\n",
    "print(\"Updated List:\", input_list_3)\n",
    "# Record the ending time\n",
    "end_time_mol3_output3 = time.time()\n",
    "\n",
    "\n",
    "mod3_output3 = input_list_3\n",
    "\n",
    "# Calculate and print the execution time\n",
    "execution_time_mod3_output3 = end_time_mol3_output3 - start_time_mol3_output3\n",
    "print(f\"Execution time: {execution_time_mod3_output3} seconds\")\n"
   ]
  },
  {
   "cell_type": "code",
   "execution_count": 14,
   "id": "dd64953d-51ad-499f-8951-4861465a938b",
   "metadata": {},
   "outputs": [
    {
     "name": "stdout",
     "output_type": "stream",
     "text": [
      "Expected Output:  [[1, 2, 2, 2, 1], [4, 5], [5]]\n",
      "Actual Output:  [[3, 52, 8, 1, 48, 95, 4, 47, 9, 66], [56, 57, 96, 71, 9, 5, 7, 4, 6, 3], [93, 35, 57, 1, 8, 91, 6, 7, 3, 19]]\n",
      "                 Precision  Recall  F1 Score  Accuracy  Exact Match\n",
      "0                      0.0     0.0       0.0       0.0          0.0\n",
      "1                      0.0     0.0       0.0       0.0          0.0\n",
      "2                      0.0     0.0       0.0       0.0          0.0\n",
      "Model 1 Average        0.0     0.0       0.0       0.0          0.0\n"
     ]
    }
   ],
   "source": [
    "## Model 3 summary\n",
    "import pandas as pd\n",
    "def evaluate_list_metrics(expected_output, actual_output):\n",
    "    exact_match_accuracy = 1 if expected_output == actual_output else 0\n",
    "\n",
    "    # Calculate true positives\n",
    "    true_positives = sum(1 for i in range(min(len(expected_output), len(actual_output))) if expected_output[i] == actual_output[i])\n",
    "\n",
    "    # Calculate false positives\n",
    "    false_positives = sum(1 for i in range(len(actual_output)) if actual_output[i] not in expected_output)\n",
    "\n",
    "    # Calculate false negatives\n",
    "    false_negatives = sum(1 for i in range(len(expected_output)) if expected_output[i] != actual_output[i])\n",
    "\n",
    "    # Calculate precision, recall, and F1 score\n",
    "    precision = true_positives / (true_positives + false_positives) if true_positives + false_positives > 0 else 0\n",
    "    recall = true_positives / (true_positives + false_negatives) if true_positives + false_negatives > 0 else 0\n",
    "    f1_score = 2 * (precision * recall) / (precision + recall) if precision + recall > 0 else 0\n",
    "\n",
    "    # Calculate accuracy\n",
    "    accuracy = sum(1 for i in range(len(expected_output)) if expected_output[i] == actual_output[i]) / max(len(expected_output), len(actual_output))\n",
    "\n",
    "    return {\n",
    "        \"Precision\": precision,\n",
    "        \"Recall\": recall,\n",
    "        \"F1 Score\": f1_score,\n",
    "        \"Accuracy\": accuracy,\n",
    "        \"Exact Match\": exact_match_accuracy\n",
    "    }\n",
    "\n",
    "expected_outputs = [[1, 2, 2, 2, 1], [4, 5], [5]]\n",
    "actual_outputs_mod1 = [mod1_output1, mod1_output2, mod1_output3]\n",
    "print(\"Expected Output: \", expected_outputs)\n",
    "print(\"Actual Output: \", actual_outputs_mod1)\n",
    "\n",
    "metrics1 = [evaluate_list_metrics(expected, actual) for expected, actual in zip(expected_outputs, actual_outputs_mod1)]\n",
    "\n",
    "# Create DataFrame directly from the list of dictionaries\n",
    "df_metrics1_new = pd.DataFrame(metrics1)\n",
    "\n",
    "# Calculate the average for precision, recall, F1 score, accuracy, and exact match\n",
    "avg_metrics1 = df_metrics1_new.mean(axis=0)\n",
    "avg_metrics1.name = 'Model 1 Average'\n",
    "\n",
    "# # Append the average row to the DataFrame\n",
    "# df_metrics1_new = df_metrics1_new.append(avg_metrics1)\n",
    "\n",
    "# Concatenate the average row to the DataFrame\n",
    "df_metrics1_new = pd.concat([df_metrics1_new, avg_metrics1.to_frame().transpose()])\n",
    "\n",
    "# Print the new DataFrame\n",
    "print(df_metrics1_new)"
   ]
  },
  {
   "cell_type": "code",
   "execution_count": null,
   "id": "284474ca-c884-47b4-bc70-4e1434dd688c",
   "metadata": {},
   "outputs": [],
   "source": []
  }
 ],
 "metadata": {
  "kernelspec": {
   "display_name": "Python 3 (ipykernel)",
   "language": "python",
   "name": "python3"
  },
  "language_info": {
   "codemirror_mode": {
    "name": "ipython",
    "version": 3
   },
   "file_extension": ".py",
   "mimetype": "text/x-python",
   "name": "python",
   "nbconvert_exporter": "python",
   "pygments_lexer": "ipython3",
   "version": "3.11.7"
  }
 },
 "nbformat": 4,
 "nbformat_minor": 5
}
