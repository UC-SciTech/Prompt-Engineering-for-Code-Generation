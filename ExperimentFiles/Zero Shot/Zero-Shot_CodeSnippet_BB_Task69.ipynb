{
 "cells": [
  {
   "cell_type": "markdown",
   "id": "900dc362",
   "metadata": {},
   "source": [
    "<h2 style='text-align: center;'> Technology Capstone Research Project PG (11522) </h2>\n",
    "<h3 style='text-align: center;'> Project ID: 2024-S1-50 </h3>\n",
    "<h3 style='text-align: center;'> Group ID: 11522-24S1-41 </h3>\n",
    "<h4 style='text-align: center;'> Member: MD Alvee Rohan - U3235512 </h4>\n",
    "<h4 style='text-align: center;'> Prompt Technique: Zero Shot </h4>"
   ]
  },
  {
   "cell_type": "markdown",
   "id": "b3fe353d",
   "metadata": {},
   "source": [
    "### Revised Prompt for ZS\n",
    "\n",
    "### BIG-bench\\\\ c69\n",
    "Write a python code snippet that does not use a function or function definition over lists of natural numbers for a given single input given a predetermined set of examples The target is concatenate [9, 3, 4, 0], input, and [7, 2, 9, 1]"
   ]
  },
  {
   "cell_type": "code",
   "execution_count": 5,
   "id": "c9afb4ac-11c4-4d8a-8606-63cfc9e3b757",
   "metadata": {},
   "outputs": [
    {
     "name": "stdout",
     "output_type": "stream",
     "text": [
      "Concatenated list: [9, 3, 4, 0, 2, 6, 5, 8, 9, 1, 7, 2, 9, 1]\n",
      "Execution time: 0.0 seconds\n"
     ]
    }
   ],
   "source": [
    "# Task ID: BIG-bench/c69\n",
    "# Code Snippet - ZS\n",
    "# Model 1\n",
    "# Sample 1\n",
    "\n",
    "import time\n",
    "# Record the starting time\n",
    "start_time_mol1_output1 = time.time()\n",
    "\n",
    "# Given lists\n",
    "list_1 = [9, 3, 4, 0]\n",
    "# Manually input the list here\n",
    "input_list = [2, 6, 5, 8, 9, 1] # [9, 3, 4, 0, 2, 6, 5, 8, 9, 1, 7, 2, 9, 1]\n",
    "list_2 = [7, 2, 9, 1]\n",
    "\n",
    "# Concatenate lists\n",
    "concatenated_list = list_1 + input_list + list_2\n",
    "\n",
    "print(\"Concatenated list:\", concatenated_list)\n",
    "\n",
    "# Assign the combined list to mod1_output1\n",
    "mod1_output1 = concatenated_list\n",
    "# Record the ending time\n",
    "end_time_mol1_output1 = time.time()\n",
    "# Calculate and print the execution time\n",
    "execution_time_mod1_output1 = end_time_mol1_output1 - start_time_mol1_output1\n",
    "print(f\"Execution time: {execution_time_mod1_output1} seconds\")"
   ]
  },
  {
   "cell_type": "code",
   "execution_count": 6,
   "id": "da52565a-5674-45f5-bbfd-5d1ae789acee",
   "metadata": {},
   "outputs": [
    {
     "name": "stdout",
     "output_type": "stream",
     "text": [
      "Concatenated list: [9, 3, 4, 0, 4, 2, 7, 0, 5, 3, 7, 2, 9, 1]\n",
      "Execution time: 0.0010001659393310547 seconds\n"
     ]
    }
   ],
   "source": [
    "# Task ID: BIG-bench/c69\n",
    "# Code Snippet - ZS\n",
    "# Model 1\n",
    "# Sample 2\n",
    "\n",
    "import time\n",
    "\n",
    "# Record the starting time\n",
    "start_time_mol1_output2 = time.time()\n",
    "\n",
    "# Given lists\n",
    "list_1 = [9, 3, 4, 0]\n",
    "# Manually input the list here\n",
    "input_list = [4, 2, 7, 0, 5, 3] # [9, 3, 4, 0, 4, 2, 7, 0, 5, 3, 7, 2, 9, 1]\n",
    "list_2 = [7, 2, 9, 1]\n",
    "\n",
    "# Concatenate lists\n",
    "concatenated_list = list_1 + input_list + list_2\n",
    "\n",
    "print(\"Concatenated list:\", concatenated_list)\n",
    "\n",
    "# Assign the combined list to mod1_output1\n",
    "mod1_output2 = concatenated_list\n",
    "# Record the ending time\n",
    "end_time_mol1_output2 = time.time()\n",
    "\n",
    "# Calculate and print the execution time\n",
    "execution_time_mod1_output2 = end_time_mol1_output2 - start_time_mol1_output2\n",
    "print(f\"Execution time: {execution_time_mod1_output2} seconds\")"
   ]
  },
  {
   "cell_type": "code",
   "execution_count": 7,
   "id": "a9045123-64aa-4e24-a155-5bbba59140a5",
   "metadata": {},
   "outputs": [
    {
     "name": "stdout",
     "output_type": "stream",
     "text": [
      "Concatenated list: [9, 3, 4, 0, 5, 6, 7, 8, 7, 2, 9, 1]\n",
      "Execution time: 0.00017452239990234375 seconds\n"
     ]
    }
   ],
   "source": [
    "# Task ID: BIG-bench/c69\n",
    "# Code Snippet - ZS\n",
    "# Model 1\n",
    "# Sample 3\n",
    "\n",
    "import time\n",
    "\n",
    "# Record the starting time\n",
    "start_time_mol1_output3 = time.time()\n",
    "\n",
    "# Given lists\n",
    "list_1 = [9, 3, 4, 0]\n",
    "# Manually input the list here\n",
    "input_list = [5, 6, 7, 8] # [9, 3, 4, 0, 5, 6, 1, 7, 2, 9, 1]\n",
    "list_2 = [7, 2, 9, 1]\n",
    "\n",
    "# Concatenate lists\n",
    "concatenated_list = list_1 + input_list + list_2\n",
    "\n",
    "print(\"Concatenated list:\", concatenated_list)\n",
    "# Assign the combined list to mod1_output1\n",
    "mod1_output3 = concatenated_list\n",
    "# Record the ending time\n",
    "end_time_mol1_output3 = time.time()\n",
    "\n",
    "# Calculate and print the execution time\n",
    "execution_time_mod1_output3 = end_time_mol1_output3 - start_time_mol1_output3\n",
    "print(f\"Execution time: {execution_time_mod1_output3} seconds\")"
   ]
  },
  {
   "cell_type": "code",
   "execution_count": 8,
   "id": "ee8e8105-ea32-4508-a0a4-5fc061983cc2",
   "metadata": {},
   "outputs": [
    {
     "name": "stdout",
     "output_type": "stream",
     "text": [
      "Expected Output:  [[9, 3, 4, 0, 2, 6, 5, 8, 9, 1, 7, 2, 9, 1], [9, 3, 4, 0, 4, 2, 7, 0, 5, 3, 7, 2, 9, 1], [9, 3, 4, 0, 5, 6, 1, 7, 2, 9, 1]]\n",
      "Actual Output:  [[9, 3, 4, 0, 2, 6, 5, 8, 9, 1, 7, 2, 9, 1], [9, 3, 4, 0, 4, 2, 7, 0, 5, 3, 7, 2, 9, 1], [9, 3, 4, 0, 5, 6, 7, 8, 7, 2, 9, 1]]\n",
      "                 Precision    Recall  F1 Score  Accuracy  Exact Match\n",
      "0                 1.000000  1.000000  1.000000  1.000000     1.000000\n",
      "1                 1.000000  1.000000  1.000000  1.000000     1.000000\n",
      "2                 0.857143  0.545455  0.666667  0.500000     0.000000\n",
      "Model 1 Average   0.952381  0.848485  0.888889  0.833333     0.666667\n"
     ]
    }
   ],
   "source": [
    "## Model 1 summary\n",
    "import pandas as pd\n",
    "def evaluate_list_metrics(expected_output, actual_output):\n",
    "    exact_match_accuracy = 1 if expected_output == actual_output else 0\n",
    "\n",
    "    # Calculate true positives\n",
    "    true_positives = sum(1 for i in range(min(len(expected_output), len(actual_output))) if expected_output[i] == actual_output[i])\n",
    "\n",
    "    # Calculate false positives\n",
    "    false_positives = sum(1 for i in range(len(actual_output)) if actual_output[i] not in expected_output)\n",
    "\n",
    "    # Calculate false negatives\n",
    "    false_negatives = sum(1 for i in range(len(expected_output)) if expected_output[i] != actual_output[i])\n",
    "\n",
    "    # Calculate precision, recall, and F1 score\n",
    "    precision = true_positives / (true_positives + false_positives) if true_positives + false_positives > 0 else 0\n",
    "    recall = true_positives / (true_positives + false_negatives) if true_positives + false_negatives > 0 else 0\n",
    "    f1_score = 2 * (precision * recall) / (precision + recall) if precision + recall > 0 else 0\n",
    "\n",
    "    # Calculate accuracy\n",
    "    accuracy = sum(1 for i in range(len(expected_output)) if expected_output[i] == actual_output[i]) / max(len(expected_output), len(actual_output))\n",
    "\n",
    "    return {\n",
    "        \"Precision\": precision,\n",
    "        \"Recall\": recall,\n",
    "        \"F1 Score\": f1_score,\n",
    "        \"Accuracy\": accuracy,\n",
    "        \"Exact Match\": exact_match_accuracy\n",
    "    }\n",
    "\n",
    "expected_outputs = [[9, 3, 4, 0, 2, 6, 5, 8, 9, 1, 7, 2, 9, 1], [9, 3, 4, 0, 4, 2, 7, 0, 5, 3, 7, 2, 9, 1], [9, 3, 4, 0, 5, 6, 1, 7, 2, 9, 1]]\n",
    "actual_outputs_mod1 = [mod1_output1, mod1_output2, mod1_output3]\n",
    "print(\"Expected Output: \", expected_outputs)\n",
    "print(\"Actual Output: \", actual_outputs_mod1)\n",
    "\n",
    "metrics1 = [evaluate_list_metrics(expected, actual) for expected, actual in zip(expected_outputs, actual_outputs_mod1)]\n",
    "\n",
    "# Create DataFrame directly from the list of dictionaries\n",
    "df_metrics1_new = pd.DataFrame(metrics1)\n",
    "\n",
    "# Calculate the average for precision, recall, F1 score, accuracy, and exact match\n",
    "avg_metrics1 = df_metrics1_new.mean(axis=0)\n",
    "avg_metrics1.name = 'Model 1 Average'\n",
    "\n",
    "# # Append the average row to the DataFrame\n",
    "# df_metrics1_new = df_metrics1_new.append(avg_metrics1)\n",
    "\n",
    "# Concatenate the average row to the DataFrame\n",
    "df_metrics1_new = pd.concat([df_metrics1_new, avg_metrics1.to_frame().transpose()])\n",
    "\n",
    "# Print the new DataFrame\n",
    "print(df_metrics1_new)"
   ]
  },
  {
   "cell_type": "code",
   "execution_count": 9,
   "id": "4369e8cc-d9b6-49fb-8845-4c119052997b",
   "metadata": {},
   "outputs": [
    {
     "name": "stdout",
     "output_type": "stream",
     "text": [
      "Concatenated list: [9, 3, 4, 0, 5, 6, 7, 8, 7, 2, 9, 1]\n"
     ]
    }
   ],
   "source": [
    "\n"
   ]
  },
  {
   "cell_type": "code",
   "execution_count": 10,
   "id": "b92e8fda-d2f3-4c0f-b256-29950a5a07eb",
   "metadata": {},
   "outputs": [
    {
     "name": "stdout",
     "output_type": "stream",
     "text": [
      "Concatenated list: [9, 3, 4, 0, 2, 6, 5, 8, 9, 1, 7, 2, 9, 1]\n",
      "Execution time: 0.0 seconds\n"
     ]
    }
   ],
   "source": [
    "# Task ID: BIG-bench/c69\n",
    "# Code Snippet - ZS\n",
    "# Model 2\n",
    "# Sample 1\n",
    "\n",
    "import time\n",
    "# Record the starting time\n",
    "start_time_mol2_output1 = time.time()\n",
    "\n",
    "# Given lists\n",
    "list_1 = [9, 3, 4, 0]\n",
    "# Manually input the list here as a string\n",
    "input_list_str = \"[2, 6, 5, 8, 9, 1]\"\n",
    "# Convert the string representation of list to actual list\n",
    "input_list = [int(x) for x in input_list_str.strip(\"[]\").split(\",\")]\n",
    "list_2 = [7, 2, 9, 1]\n",
    "\n",
    "# Concatenate lists\n",
    "concatenated_list = list_1 + input_list + list_2\n",
    "\n",
    "print(\"Concatenated list:\", concatenated_list)\n",
    "# Assign the combined list to mod1_output1\n",
    "mod2_output1 = concatenated_list\n",
    "# Record the ending time\n",
    "end_time_mol2_output1 = time.time()\n",
    "# Calculate and print the execution time\n",
    "execution_time_mod2_output1 = end_time_mol2_output1 - start_time_mol2_output1\n",
    "print(f\"Execution time: {execution_time_mod2_output1} seconds\")"
   ]
  },
  {
   "cell_type": "code",
   "execution_count": 11,
   "id": "a2afaee6-073e-4830-a392-9f5412c647f3",
   "metadata": {},
   "outputs": [
    {
     "name": "stdout",
     "output_type": "stream",
     "text": [
      "Concatenated list: [9, 3, 4, 0, 4, 2, 7, 0, 5, 3, 7, 2, 9, 1]\n",
      "Execution time: 0.0 seconds\n"
     ]
    }
   ],
   "source": [
    "# Task ID: BIG-bench/c69\n",
    "# Code Snippet - ZS\n",
    "# Model 2\n",
    "# Sample 2\n",
    "\n",
    "import time\n",
    "\n",
    "# Record the starting time\n",
    "start_time_mol2_output2 = time.time()\n",
    "\n",
    "# Given lists\n",
    "list_1 = [9, 3, 4, 0]\n",
    "# Manually input the list here as a string\n",
    "input_list_str = \"[4, 2, 7, 0, 5, 3]\"\n",
    "# Convert the string representation of list to actual list\n",
    "input_list = [int(x) for x in input_list_str.strip(\"[]\").split(\",\")]\n",
    "list_2 = [7, 2, 9, 1]\n",
    "\n",
    "# Concatenate lists\n",
    "concatenated_list = list_1 + input_list + list_2\n",
    "\n",
    "print(\"Concatenated list:\", concatenated_list)\n",
    "# Assign the combined list to mod1_output1\n",
    "mod2_output2 = concatenated_list\n",
    "# Record the ending time\n",
    "end_time_mol2_output2 = time.time()\n",
    "\n",
    "# Calculate and print the execution time\n",
    "execution_time_mod2_output2 = end_time_mol2_output2 - start_time_mol2_output2\n",
    "print(f\"Execution time: {execution_time_mod2_output2} seconds\")\n"
   ]
  },
  {
   "cell_type": "code",
   "execution_count": 12,
   "id": "ebcf8da1-5172-4ffb-a897-ee09181d441c",
   "metadata": {},
   "outputs": [
    {
     "name": "stdout",
     "output_type": "stream",
     "text": [
      "Concatenated list: [9, 3, 4, 0, 5, 6, 7, 8, 7, 2, 9, 1]\n",
      "Execution time: 0.0010004043579101562 seconds\n"
     ]
    }
   ],
   "source": [
    "# Task ID: BIG-bench/c69\n",
    "# Code Snippet - ZS\n",
    "# Model 2\n",
    "# Sample 3\n",
    "\n",
    "import time\n",
    "\n",
    "# Record the starting time\n",
    "start_time_mol2_output3 = time.time()\n",
    "\n",
    "# Given lists\n",
    "list_1 = [9, 3, 4, 0]\n",
    "# Manually input the list here as a string\n",
    "input_list_str = \"[5, 6, 7, 8]\"\n",
    "# Convert the string representation of list to actual list\n",
    "input_list = [int(x) for x in input_list_str.strip(\"[]\").split(\",\")]\n",
    "list_2 = [7, 2, 9, 1]\n",
    "\n",
    "# Concatenate lists\n",
    "concatenated_list = list_1 + input_list + list_2\n",
    "\n",
    "print(\"Concatenated list:\", concatenated_list)\n",
    "# Assign the combined list to mod1_output1\n",
    "mod2_output3 = concatenated_list\n",
    "# Record the ending time\n",
    "end_time_mol2_output3 = time.time()\n",
    "\n",
    "# Calculate and print the execution time\n",
    "execution_time_mod2_output3 = end_time_mol2_output3 - start_time_mol2_output3\n",
    "print(f\"Execution time: {execution_time_mod2_output3} seconds\")"
   ]
  },
  {
   "cell_type": "code",
   "execution_count": 13,
   "id": "98c8eb71-cd23-4579-951b-63d746570be4",
   "metadata": {},
   "outputs": [
    {
     "name": "stdout",
     "output_type": "stream",
     "text": [
      "Expected Output:  [[9, 3, 4, 0, 2, 6, 5, 8, 9, 1, 7, 2, 9, 1], [9, 3, 4, 0, 4, 2, 7, 0, 5, 3, 7, 2, 9, 1], [9, 3, 4, 0, 5, 6, 1, 7, 2, 9, 1]]\n",
      "Actual Output:  [[9, 3, 4, 0, 2, 6, 5, 8, 9, 1, 7, 2, 9, 1], [9, 3, 4, 0, 4, 2, 7, 0, 5, 3, 7, 2, 9, 1], [9, 3, 4, 0, 5, 6, 7, 8, 7, 2, 9, 1]]\n",
      "                 Precision    Recall  F1 Score  Accuracy  Exact Match\n",
      "0                 1.000000  1.000000  1.000000  1.000000     1.000000\n",
      "1                 1.000000  1.000000  1.000000  1.000000     1.000000\n",
      "2                 0.857143  0.545455  0.666667  0.500000     0.000000\n",
      "Model 1 Average   0.952381  0.848485  0.888889  0.833333     0.666667\n"
     ]
    }
   ],
   "source": [
    "## Model 2 summary\n",
    "import pandas as pd\n",
    "def evaluate_list_metrics(expected_output, actual_output):\n",
    "    exact_match_accuracy = 1 if expected_output == actual_output else 0\n",
    "\n",
    "    # Calculate true positives\n",
    "    true_positives = sum(1 for i in range(min(len(expected_output), len(actual_output))) if expected_output[i] == actual_output[i])\n",
    "\n",
    "    # Calculate false positives\n",
    "    false_positives = sum(1 for i in range(len(actual_output)) if actual_output[i] not in expected_output)\n",
    "\n",
    "    # Calculate false negatives\n",
    "    false_negatives = sum(1 for i in range(len(expected_output)) if expected_output[i] != actual_output[i])\n",
    "\n",
    "    # Calculate precision, recall, and F1 score\n",
    "    precision = true_positives / (true_positives + false_positives) if true_positives + false_positives > 0 else 0\n",
    "    recall = true_positives / (true_positives + false_negatives) if true_positives + false_negatives > 0 else 0\n",
    "    f1_score = 2 * (precision * recall) / (precision + recall) if precision + recall > 0 else 0\n",
    "\n",
    "    # Calculate accuracy\n",
    "    accuracy = sum(1 for i in range(len(expected_output)) if expected_output[i] == actual_output[i]) / max(len(expected_output), len(actual_output))\n",
    "\n",
    "    return {\n",
    "        \"Precision\": precision,\n",
    "        \"Recall\": recall,\n",
    "        \"F1 Score\": f1_score,\n",
    "        \"Accuracy\": accuracy,\n",
    "        \"Exact Match\": exact_match_accuracy\n",
    "    }\n",
    "\n",
    "expected_outputs = [[9, 3, 4, 0, 2, 6, 5, 8, 9, 1, 7, 2, 9, 1], [9, 3, 4, 0, 4, 2, 7, 0, 5, 3, 7, 2, 9, 1], [9, 3, 4, 0, 5, 6, 1, 7, 2, 9, 1]]\n",
    "actual_outputs_mod1 = [mod2_output1, mod2_output2, mod2_output3]\n",
    "print(\"Expected Output: \", expected_outputs)\n",
    "print(\"Actual Output: \", actual_outputs_mod1)\n",
    "\n",
    "metrics1 = [evaluate_list_metrics(expected, actual) for expected, actual in zip(expected_outputs, actual_outputs_mod1)]\n",
    "\n",
    "# Create DataFrame directly from the list of dictionaries\n",
    "df_metrics1_new = pd.DataFrame(metrics1)\n",
    "\n",
    "# Calculate the average for precision, recall, F1 score, accuracy, and exact match\n",
    "avg_metrics1 = df_metrics1_new.mean(axis=0)\n",
    "avg_metrics1.name = 'Model 1 Average'\n",
    "\n",
    "# # Append the average row to the DataFrame\n",
    "# df_metrics1_new = df_metrics1_new.append(avg_metrics1)\n",
    "\n",
    "# Concatenate the average row to the DataFrame\n",
    "df_metrics1_new = pd.concat([df_metrics1_new, avg_metrics1.to_frame().transpose()])\n",
    "\n",
    "# Print the new DataFrame\n",
    "print(df_metrics1_new)"
   ]
  },
  {
   "cell_type": "code",
   "execution_count": 5,
   "id": "dbacd46f-09d9-4f13-b4e3-8bf5e947fbb3",
   "metadata": {},
   "outputs": [
    {
     "name": "stdout",
     "output_type": "stream",
     "text": [
      "Input: [2, 6, 5, 8, 9, 1]\n",
      "Result: [9, 3, 4, 0, 2, 6, 5, 8, 9, 1, 7, 2, 9, 1]\n"
     ]
    }
   ],
   "source": [
    "# Task ID: BIG-bench/c69\n",
    "# Code Snippet - ZS\n",
    "# Model 3\n",
    "# Sample 1\n",
    "\n",
    "import time\n",
    "# Record the starting time\n",
    "start_time_mol3_output1 = time.time()\n",
    "\n",
    "# Given lists\n",
    "list_1 = [9, 3, 4, 0]\n",
    "# Manually input the list here\n",
    "input_list = [2, 6, 5, 8, 9, 1]\n",
    "list_2 = [7, 2, 9, 1]\n",
    "\n",
    "# Extend list_1 with elements of input_list\n",
    "list_1.extend(input_list)\n",
    "# Append elements of list_2 to the extended list\n",
    "list_1.extend(list_2)\n",
    "\n",
    "concatenated_list = list_1\n",
    "\n",
    "print(\"Concatenated list:\", concatenated_list)\n",
    "\n",
    "\n",
    "# Assign the combined list to mod1_output1\n",
    "mod3_output1 = target_list\n",
    "# Record the ending time\n",
    "end_time_mol3_output1 = time.time()\n",
    "# Calculate and print the execution time\n",
    "execution_time_mod3_output1 = end_time_mol3_output1 - start_time_mol3_output1\n",
    "print(f\"Execution time: {execution_time_mod3_output1} seconds\")"
   ]
  },
  {
   "cell_type": "code",
   "execution_count": 14,
   "id": "0525f967-ef91-448b-bb90-38d5fe3795f8",
   "metadata": {},
   "outputs": [
    {
     "name": "stdout",
     "output_type": "stream",
     "text": [
      "Concatenated list: [9, 3, 4, 0, 4, 2, 7, 0, 5, 3, 7, 2, 9, 1]\n",
      "Execution time: 0.0 seconds\n"
     ]
    }
   ],
   "source": [
    "# Task ID: BIG-bench/c69\n",
    "# Code Snippet - ZS\n",
    "# Model 3\n",
    "# Sample 2\n",
    "\n",
    "import time\n",
    "\n",
    "# Record the starting time\n",
    "start_time_mol3_output2 = time.time()\n",
    "\n",
    "\n",
    "# Given lists\n",
    "list_1 = [9, 3, 4, 0]\n",
    "# Manually input the list here\n",
    "input_list = [4, 2, 7, 0, 5, 3]\n",
    "list_2 = [7, 2, 9, 1]\n",
    "\n",
    "# Extend list_1 with elements of input_list\n",
    "list_1.extend(input_list)\n",
    "# Append elements of list_2 to the extended list\n",
    "list_1.extend(list_2)\n",
    "\n",
    "concatenated_list = list_1\n",
    "\n",
    "print(\"Concatenated list:\", concatenated_list)\n",
    "# Assign the combined list to mod1_output1\n",
    "mod3_output2 = concatenated_list\n",
    "# Record the ending time\n",
    "end_time_mol3_output2 = time.time()\n",
    "\n",
    "# Calculate and print the execution time\n",
    "execution_time_mod3_output2 = end_time_mol3_output2 - start_time_mol3_output2\n",
    "print(f\"Execution time: {execution_time_mod3_output2} seconds\")\n"
   ]
  },
  {
   "cell_type": "code",
   "execution_count": 15,
   "id": "825cf69c-140c-4279-b443-0dc34fe0782c",
   "metadata": {},
   "outputs": [
    {
     "name": "stdout",
     "output_type": "stream",
     "text": [
      "Concatenated list: [9, 3, 4, 0, 5, 6, 7, 8, 7, 2, 9, 1]\n",
      "Execution time: 0.0 seconds\n"
     ]
    }
   ],
   "source": [
    "# Task ID: BIG-bench/c69\n",
    "# Code Snippet - ZS\n",
    "# Model 3\n",
    "# Sample 3\n",
    "\n",
    "import time\n",
    "\n",
    "# Record the starting time\n",
    "start_time_mol3_output3 = time.time()\n",
    "\n",
    "# Given lists\n",
    "list_1 = [9, 3, 4, 0]\n",
    "# Manually input the list here\n",
    "input_list = [5, 6, 7, 8]\n",
    "list_2 = [7, 2, 9, 1]\n",
    "\n",
    "# Extend list_1 with elements of input_list\n",
    "list_1.extend(input_list)\n",
    "# Append elements of list_2 to the extended list\n",
    "list_1.extend(list_2)\n",
    "\n",
    "concatenated_list = list_1\n",
    "\n",
    "print(\"Concatenated list:\", concatenated_list)\n",
    "# Assign the combined list to mod1_output1\n",
    "mod3_output3 = concatenated_list\n",
    "# Record the ending time\n",
    "end_time_mol3_output3 = time.time()\n",
    "\n",
    "# Calculate and print the execution time\n",
    "execution_time_mod3_output3 = end_time_mol3_output3 - start_time_mol3_output3\n",
    "print(f\"Execution time: {execution_time_mod3_output3} seconds\")\n",
    "\n"
   ]
  },
  {
   "cell_type": "code",
   "execution_count": 16,
   "id": "b8af4b2c-faa3-48f1-9131-84f63aa44a20",
   "metadata": {},
   "outputs": [
    {
     "ename": "NameError",
     "evalue": "name 'mod3_output1' is not defined",
     "output_type": "error",
     "traceback": [
      "\u001b[1;31m---------------------------------------------------------------------------\u001b[0m",
      "\u001b[1;31mNameError\u001b[0m                                 Traceback (most recent call last)",
      "Cell \u001b[1;32mIn[16], line 32\u001b[0m\n\u001b[0;32m     23\u001b[0m     \u001b[38;5;28;01mreturn\u001b[39;00m {\n\u001b[0;32m     24\u001b[0m         \u001b[38;5;124m\"\u001b[39m\u001b[38;5;124mPrecision\u001b[39m\u001b[38;5;124m\"\u001b[39m: precision,\n\u001b[0;32m     25\u001b[0m         \u001b[38;5;124m\"\u001b[39m\u001b[38;5;124mRecall\u001b[39m\u001b[38;5;124m\"\u001b[39m: recall,\n\u001b[1;32m   (...)\u001b[0m\n\u001b[0;32m     28\u001b[0m         \u001b[38;5;124m\"\u001b[39m\u001b[38;5;124mExact Match\u001b[39m\u001b[38;5;124m\"\u001b[39m: exact_match_accuracy\n\u001b[0;32m     29\u001b[0m     }\n\u001b[0;32m     31\u001b[0m expected_outputs \u001b[38;5;241m=\u001b[39m [[\u001b[38;5;241m9\u001b[39m, \u001b[38;5;241m3\u001b[39m, \u001b[38;5;241m4\u001b[39m, \u001b[38;5;241m0\u001b[39m, \u001b[38;5;241m2\u001b[39m, \u001b[38;5;241m6\u001b[39m, \u001b[38;5;241m5\u001b[39m, \u001b[38;5;241m8\u001b[39m, \u001b[38;5;241m9\u001b[39m, \u001b[38;5;241m1\u001b[39m, \u001b[38;5;241m7\u001b[39m, \u001b[38;5;241m2\u001b[39m, \u001b[38;5;241m9\u001b[39m, \u001b[38;5;241m1\u001b[39m], [\u001b[38;5;241m9\u001b[39m, \u001b[38;5;241m3\u001b[39m, \u001b[38;5;241m4\u001b[39m, \u001b[38;5;241m0\u001b[39m, \u001b[38;5;241m4\u001b[39m, \u001b[38;5;241m2\u001b[39m, \u001b[38;5;241m7\u001b[39m, \u001b[38;5;241m0\u001b[39m, \u001b[38;5;241m5\u001b[39m, \u001b[38;5;241m3\u001b[39m, \u001b[38;5;241m7\u001b[39m, \u001b[38;5;241m2\u001b[39m, \u001b[38;5;241m9\u001b[39m, \u001b[38;5;241m1\u001b[39m], [\u001b[38;5;241m9\u001b[39m, \u001b[38;5;241m3\u001b[39m, \u001b[38;5;241m4\u001b[39m, \u001b[38;5;241m0\u001b[39m, \u001b[38;5;241m5\u001b[39m, \u001b[38;5;241m6\u001b[39m, \u001b[38;5;241m1\u001b[39m, \u001b[38;5;241m7\u001b[39m, \u001b[38;5;241m2\u001b[39m, \u001b[38;5;241m9\u001b[39m, \u001b[38;5;241m1\u001b[39m]]\n\u001b[1;32m---> 32\u001b[0m actual_outputs_mod1 \u001b[38;5;241m=\u001b[39m [mod3_output1, mod3_output2, mod3_output3]\n\u001b[0;32m     33\u001b[0m \u001b[38;5;28mprint\u001b[39m(\u001b[38;5;124m\"\u001b[39m\u001b[38;5;124mExpected Output: \u001b[39m\u001b[38;5;124m\"\u001b[39m, expected_outputs)\n\u001b[0;32m     34\u001b[0m \u001b[38;5;28mprint\u001b[39m(\u001b[38;5;124m\"\u001b[39m\u001b[38;5;124mActual Output: \u001b[39m\u001b[38;5;124m\"\u001b[39m, actual_outputs_mod1)\n",
      "\u001b[1;31mNameError\u001b[0m: name 'mod3_output1' is not defined"
     ]
    }
   ],
   "source": [
    "## Model 3 summary\n",
    "import pandas as pd\n",
    "def evaluate_list_metrics(expected_output, actual_output):\n",
    "    exact_match_accuracy = 1 if expected_output == actual_output else 0\n",
    "\n",
    "    # Calculate true positives\n",
    "    true_positives = sum(1 for i in range(min(len(expected_output), len(actual_output))) if expected_output[i] == actual_output[i])\n",
    "\n",
    "    # Calculate false positives\n",
    "    false_positives = sum(1 for i in range(len(actual_output)) if actual_output[i] not in expected_output)\n",
    "\n",
    "    # Calculate false negatives\n",
    "    false_negatives = sum(1 for i in range(len(expected_output)) if expected_output[i] != actual_output[i])\n",
    "\n",
    "    # Calculate precision, recall, and F1 score\n",
    "    precision = true_positives / (true_positives + false_positives) if true_positives + false_positives > 0 else 0\n",
    "    recall = true_positives / (true_positives + false_negatives) if true_positives + false_negatives > 0 else 0\n",
    "    f1_score = 2 * (precision * recall) / (precision + recall) if precision + recall > 0 else 0\n",
    "\n",
    "    # Calculate accuracy\n",
    "    accuracy = sum(1 for i in range(len(expected_output)) if expected_output[i] == actual_output[i]) / max(len(expected_output), len(actual_output))\n",
    "\n",
    "    return {\n",
    "        \"Precision\": precision,\n",
    "        \"Recall\": recall,\n",
    "        \"F1 Score\": f1_score,\n",
    "        \"Accuracy\": accuracy,\n",
    "        \"Exact Match\": exact_match_accuracy\n",
    "    }\n",
    "\n",
    "expected_outputs = [[9, 3, 4, 0, 2, 6, 5, 8, 9, 1, 7, 2, 9, 1], [9, 3, 4, 0, 4, 2, 7, 0, 5, 3, 7, 2, 9, 1], [9, 3, 4, 0, 5, 6, 1, 7, 2, 9, 1]]\n",
    "actual_outputs_mod1 = [mod3_output1, mod3_output2, mod3_output3]\n",
    "print(\"Expected Output: \", expected_outputs)\n",
    "print(\"Actual Output: \", actual_outputs_mod1)\n",
    "\n",
    "metrics1 = [evaluate_list_metrics(expected, actual) for expected, actual in zip(expected_outputs, actual_outputs_mod1)]\n",
    "\n",
    "# Create DataFrame directly from the list of dictionaries\n",
    "df_metrics1_new = pd.DataFrame(metrics1)\n",
    "\n",
    "# Calculate the average for precision, recall, F1 score, accuracy, and exact match\n",
    "avg_metrics1 = df_metrics1_new.mean(axis=0)\n",
    "avg_metrics1.name = 'Model 1 Average'\n",
    "\n",
    "# # Append the average row to the DataFrame\n",
    "# df_metrics1_new = df_metrics1_new.append(avg_metrics1)\n",
    "\n",
    "# Concatenate the average row to the DataFrame\n",
    "df_metrics1_new = pd.concat([df_metrics1_new, avg_metrics1.to_frame().transpose()])\n",
    "\n",
    "# Print the new DataFrame\n",
    "print(df_metrics1_new)"
   ]
  },
  {
   "cell_type": "code",
   "execution_count": null,
   "id": "af82b1dc-27ac-4e9a-b562-68af104e801a",
   "metadata": {},
   "outputs": [],
   "source": []
  },
  {
   "cell_type": "code",
   "execution_count": null,
   "id": "81fb4aa7-6829-4982-bbf7-c65f31940626",
   "metadata": {},
   "outputs": [],
   "source": []
  },
  {
   "cell_type": "code",
   "execution_count": null,
   "id": "fb8a9664-dbce-4304-9553-972af45a3ff8",
   "metadata": {},
   "outputs": [],
   "source": []
  },
  {
   "cell_type": "code",
   "execution_count": null,
   "id": "e4591b51-e964-4ef0-88cd-337a5188019f",
   "metadata": {},
   "outputs": [],
   "source": []
  }
 ],
 "metadata": {
  "kernelspec": {
   "display_name": "Python 3 (ipykernel)",
   "language": "python",
   "name": "python3"
  },
  "language_info": {
   "codemirror_mode": {
    "name": "ipython",
    "version": 3
   },
   "file_extension": ".py",
   "mimetype": "text/x-python",
   "name": "python",
   "nbconvert_exporter": "python",
   "pygments_lexer": "ipython3",
   "version": "3.11.7"
  }
 },
 "nbformat": 4,
 "nbformat_minor": 5
}
