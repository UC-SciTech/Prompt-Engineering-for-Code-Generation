{
 "cells": [
  {
   "cell_type": "markdown",
   "id": "69d0a24d",
   "metadata": {},
   "source": [
    "<h2 style='text-align: center;'> Technology Capstone Research Project PG (11522) </h2>\n",
    "<h3 style='text-align: center;'> Project ID: 2024-S1-50 </h3>\n",
    "<h3 style='text-align: center;'> Group ID: 11522-24S1-41 </h3>\n",
    "<h4 style='text-align: center;'> Member: MD Alvee Rohan - U3235512 </h4>\n",
    "<h4 style='text-align: center;'> Prompt Technique: Few Shot </h4>"
   ]
  },
  {
   "cell_type": "markdown",
   "id": "b7ba8140",
   "metadata": {},
   "source": [
    "### Revised Prompt for Few Shot\n",
    "\n",
    "### BIG-bench\\\\ c69\n",
    "Write a python code snippet without using a function or function definition  that takes a list of natural numbers and concatenates concatenate [9, 3, 4, 0], input, and [7, 2, 9, 1]\n",
    "\n",
    "Example:\n",
    "\"\"\"input\"\": \"\"[7, 0, 6, 5]\"\",\n",
    "\"\"target\"\": \"\"[9, 3, 4, 0, 7, 0, 6, 5, 7, 2, 9, 1]\"\"\n",
    "\n",
    "\"\"input\"\": \"\"[6, 8, 5, 7]\"\",\n",
    "\"\"target\"\": \"\"[9, 3, 4, 0, 6, 8, 5, 7, 7, 2, 9, 1]\"\"\""
   ]
  },
  {
   "cell_type": "code",
   "execution_count": 1,
   "id": "00ced035-3ff2-46ff-8e01-39e1ca3e2a66",
   "metadata": {},
   "outputs": [
    {
     "name": "stdout",
     "output_type": "stream",
     "text": [
      "\"input\": [4, 0, 6, 5, 8],\n",
      "\"target\": [9, 3, 4, 0, 4, 0, 6, 5, 8, 7, 2, 9, 1]\n",
      "Execution time: 0.0009415149688720703 seconds\n"
     ]
    }
   ],
   "source": [
    "# Task ID: BIG-bench/c69\n",
    "# Code Snippet - FS\n",
    "# Model 1\n",
    "# Sample 1\n",
    "\n",
    "import time\n",
    "# Record the starting time\n",
    "start_time_mol1_output1 = time.time()\n",
    "\n",
    "input_list = [4, 0, 6, 5, 8]\n",
    "target_list = [9, 3, 4, 0] + input_list + [7, 2, 9, 1]\n",
    "\n",
    "print('\"input\":', str(input_list) + ',')\n",
    "print('\"target\":', str(target_list))\n",
    "# Assign the combined list to mod1_output1\n",
    "mod1_output1 = target_list\n",
    "# Record the ending time\n",
    "end_time_mol1_output1 = time.time()\n",
    "# Calculate and print the execution time\n",
    "execution_time_mod1_output1 = end_time_mol1_output1 - start_time_mol1_output1\n",
    "print(f\"Execution time: {execution_time_mod1_output1} seconds\")"
   ]
  },
  {
   "cell_type": "code",
   "execution_count": 2,
   "id": "a8b19b2e-004d-4255-8133-47ebb33b8188",
   "metadata": {},
   "outputs": [
    {
     "name": "stdout",
     "output_type": "stream",
     "text": [
      "\"input\": [2, 6, 5, 8, 9, 1],\n",
      "\"target\": [9, 3, 4, 0, 2, 6, 5, 8, 9, 1, 7, 2, 9, 1]\n",
      "Execution time: 0.0009987354278564453 seconds\n"
     ]
    }
   ],
   "source": [
    "# Task ID: BIG-bench/c69\n",
    "# Code Snippet - FS\n",
    "# Model 1\n",
    "# Sample 2\n",
    "\n",
    "import time\n",
    "\n",
    "# Record the starting time\n",
    "start_time_mol1_output2 = time.time()\n",
    "\n",
    "input_list = [2, 6, 5, 8, 9, 1]\n",
    "target_list = [9, 3, 4, 0] + input_list + [7, 2, 9, 1]\n",
    "\n",
    "print('\"input\":', str(input_list) + ',')\n",
    "print('\"target\":', str(target_list))\n",
    "# Assign the combined list to mod1_output1\n",
    "mod1_output2 = target_list\n",
    "# Record the ending time\n",
    "end_time_mol1_output2 = time.time()\n",
    "\n",
    "# Calculate and print the execution time\n",
    "execution_time_mod1_output2 = end_time_mol1_output2 - start_time_mol1_output2\n",
    "print(f\"Execution time: {execution_time_mod1_output2} seconds\")"
   ]
  },
  {
   "cell_type": "code",
   "execution_count": 3,
   "id": "2828295b-5dd5-4c88-8972-5cd8211cf862",
   "metadata": {},
   "outputs": [
    {
     "name": "stdout",
     "output_type": "stream",
     "text": [
      "\"input\": [4, 2, 7, 0, 5, 3],\n",
      "\"target\": [9, 3, 4, 0, 4, 2, 7, 0, 5, 3, 7, 2, 9, 1]\n",
      "Execution time: 0.0011188983917236328 seconds\n"
     ]
    }
   ],
   "source": [
    "# Task ID: BIG-bench/c69\n",
    "# Code Snippet - FS\n",
    "# Model 1\n",
    "# Sample 3\n",
    "\n",
    "import time\n",
    "\n",
    "# Record the starting time\n",
    "start_time_mol1_output3 = time.time()\n",
    "\n",
    "input_list = [4, 2, 7, 0, 5, 3]\n",
    "target_list = [9, 3, 4, 0] + input_list + [7, 2, 9, 1]\n",
    "\n",
    "print('\"input\":', str(input_list) + ',')\n",
    "print('\"target\":', str(target_list))\n",
    "# Assign the combined list to mod1_output1\n",
    "mod1_output3 = target_list\n",
    "# Record the ending time\n",
    "end_time_mol1_output3 = time.time()\n",
    "\n",
    "# Calculate and print the execution time\n",
    "execution_time_mod1_output3 = end_time_mol1_output3 - start_time_mol1_output3\n",
    "print(f\"Execution time: {execution_time_mod1_output3} seconds\")"
   ]
  },
  {
   "cell_type": "code",
   "execution_count": 4,
   "id": "d0987f5e-1e8d-47db-9681-de363c2f7187",
   "metadata": {},
   "outputs": [
    {
     "name": "stdout",
     "output_type": "stream",
     "text": [
      "Expected Output:  [[9, 3, 4, 0, 4, 0, 6, 5, 8, 7, 2, 9, 1], [9, 3, 4, 0, 2, 6, 5, 8, 9, 1, 7, 2, 9, 1], [9, 3, 4, 0, 7, 2, 9, 1]]\n",
      "Actual Output:  [[9, 3, 4, 0, 4, 0, 6, 5, 8, 7, 2, 9, 1], [9, 3, 4, 0, 2, 6, 5, 8, 9, 1, 7, 2, 9, 1], [9, 3, 4, 0, 4, 2, 7, 0, 5, 3, 7, 2, 9, 1]]\n",
      "                 Precision  Recall  F1 Score  Accuracy  Exact Match\n",
      "0                 1.000000   1.000  1.000000  1.000000     1.000000\n",
      "1                 1.000000   1.000  1.000000  1.000000     1.000000\n",
      "2                 0.833333   0.625  0.714286  0.357143     0.000000\n",
      "Model 1 Average   0.944444   0.875  0.904762  0.785714     0.666667\n"
     ]
    }
   ],
   "source": [
    "## Model 1 summary\n",
    "import pandas as pd\n",
    "def evaluate_list_metrics(expected_output, actual_output):\n",
    "    exact_match_accuracy = 1 if expected_output == actual_output else 0\n",
    "\n",
    "    # Calculate true positives\n",
    "    true_positives = sum(1 for i in range(min(len(expected_output), len(actual_output))) if expected_output[i] == actual_output[i])\n",
    "\n",
    "    # Calculate false positives\n",
    "    false_positives = sum(1 for i in range(len(actual_output)) if actual_output[i] not in expected_output)\n",
    "\n",
    "    # Calculate false negatives\n",
    "    false_negatives = sum(1 for i in range(len(expected_output)) if expected_output[i] != actual_output[i])\n",
    "\n",
    "    # Calculate precision, recall, and F1 score\n",
    "    precision = true_positives / (true_positives + false_positives) if true_positives + false_positives > 0 else 0\n",
    "    recall = true_positives / (true_positives + false_negatives) if true_positives + false_negatives > 0 else 0\n",
    "    f1_score = 2 * (precision * recall) / (precision + recall) if precision + recall > 0 else 0\n",
    "\n",
    "    # Calculate accuracy\n",
    "    accuracy = sum(1 for i in range(len(expected_output)) if expected_output[i] == actual_output[i]) / max(len(expected_output), len(actual_output))\n",
    "\n",
    "    return {\n",
    "        \"Precision\": precision,\n",
    "        \"Recall\": recall,\n",
    "        \"F1 Score\": f1_score,\n",
    "        \"Accuracy\": accuracy,\n",
    "        \"Exact Match\": exact_match_accuracy\n",
    "    }\n",
    "\n",
    "expected_outputs = [[9, 3, 4, 0, 4, 0, 6, 5, 8, 7, 2, 9, 1], [9, 3, 4, 0, 2, 6, 5, 8, 9, 1, 7, 2, 9, 1], [9, 3, 4, 0, 7, 2, 9, 1]]\n",
    "actual_outputs_mod1 = [mod1_output1, mod1_output2, mod1_output3]\n",
    "print(\"Expected Output: \", expected_outputs)\n",
    "print(\"Actual Output: \", actual_outputs_mod1)\n",
    "\n",
    "metrics1 = [evaluate_list_metrics(expected, actual) for expected, actual in zip(expected_outputs, actual_outputs_mod1)]\n",
    "\n",
    "# Create DataFrame directly from the list of dictionaries\n",
    "df_metrics1_new = pd.DataFrame(metrics1)\n",
    "\n",
    "# Calculate the average for precision, recall, F1 score, accuracy, and exact match\n",
    "avg_metrics1 = df_metrics1_new.mean(axis=0)\n",
    "avg_metrics1.name = 'Model 1 Average'\n",
    "\n",
    "# # Append the average row to the DataFrame\n",
    "# df_metrics1_new = df_metrics1_new.append(avg_metrics1)\n",
    "\n",
    "# Concatenate the average row to the DataFrame\n",
    "df_metrics1_new = pd.concat([df_metrics1_new, avg_metrics1.to_frame().transpose()])\n",
    "\n",
    "# Print the new DataFrame\n",
    "print(df_metrics1_new)"
   ]
  },
  {
   "cell_type": "code",
   "execution_count": 5,
   "id": "d549beaa-6d73-4062-afbb-b55338abe06c",
   "metadata": {},
   "outputs": [
    {
     "name": "stdout",
     "output_type": "stream",
     "text": [
      "\"input\": [4, 0, 6, 5, 8],\n",
      "\"target\": [9, 3, 4, 0, 4, 0, 6, 5, 8, 7, 2, 9, 1]\n",
      "Execution time: 0.0 seconds\n"
     ]
    }
   ],
   "source": [
    "# Task ID: BIG-bench/c69\n",
    "# Code Snippet - FS\n",
    "# Model 2\n",
    "# Sample 1\n",
    "\n",
    "import time\n",
    "# Record the starting time\n",
    "start_time_mol2_output1 = time.time()\n",
    "\n",
    "input_list = [4, 0, 6, 5, 8]\n",
    "# Define the target list by concatenating the three lists\n",
    "target_list = [9, 3, 4, 0]\n",
    "for num in input_list:\n",
    "    target_list.append(num)\n",
    "target_list.extend([7, 2, 9, 1])\n",
    "\n",
    "# Print the input and target lists in the specified format\n",
    "print('\"input\":', str(input_list) + ',')\n",
    "print('\"target\":', str(target_list))\n",
    "# Assign the combined list to mod1_output1\n",
    "mod2_output1 = target_list\n",
    "# Record the ending time\n",
    "end_time_mol2_output1 = time.time()\n",
    "# Calculate and print the execution time\n",
    "execution_time_mod2_output1 = end_time_mol2_output1 - start_time_mol2_output1\n",
    "print(f\"Execution time: {execution_time_mod2_output1} seconds\")"
   ]
  },
  {
   "cell_type": "code",
   "execution_count": 6,
   "id": "4fbbb6e2-46e4-486a-baaf-cc66749e3c89",
   "metadata": {},
   "outputs": [
    {
     "name": "stdout",
     "output_type": "stream",
     "text": [
      "\"input\": [2, 6, 5, 8, 9, 1],\n",
      "\"target\": [9, 3, 4, 0, 2, 6, 5, 8, 9, 1, 7, 2, 9, 1]\n",
      "Execution time: 0.0 seconds\n"
     ]
    }
   ],
   "source": [
    "# Task ID: BIG-bench/c69\n",
    "# Code Snippet - FS\n",
    "# Model 2\n",
    "# Sample 2\n",
    "\n",
    "import time\n",
    "\n",
    "# Record the starting time\n",
    "start_time_mol2_output2 = time.time()\n",
    "\n",
    "input_list = [2, 6, 5, 8, 9, 1]\n",
    "# Define the target list by concatenating the three lists\n",
    "target_list = [9, 3, 4, 0]\n",
    "for num in input_list:\n",
    "    target_list.append(num)\n",
    "target_list.extend([7, 2, 9, 1])\n",
    "\n",
    "# Print the input and target lists in the specified format\n",
    "print('\"input\":', str(input_list) + ',')\n",
    "print('\"target\":', str(target_list))\n",
    "# Assign the combined list to mod1_output1\n",
    "mod2_output2 = target_list\n",
    "# Record the ending time\n",
    "end_time_mol2_output2 = time.time()\n",
    "\n",
    "# Calculate and print the execution time\n",
    "execution_time_mod2_output2 = end_time_mol2_output2 - start_time_mol2_output2\n",
    "print(f\"Execution time: {execution_time_mod2_output2} seconds\")\n"
   ]
  },
  {
   "cell_type": "code",
   "execution_count": 7,
   "id": "f77dc67a-91f1-4f20-997a-06194f55818e",
   "metadata": {},
   "outputs": [
    {
     "name": "stdout",
     "output_type": "stream",
     "text": [
      "\"input\": [4, 2, 7, 0, 5, 3],\n",
      "\"target\": [9, 3, 4, 0, 4, 2, 7, 0, 5, 3, 7, 2, 9, 1]\n",
      "Execution time: 0.0 seconds\n"
     ]
    }
   ],
   "source": [
    "# Task ID: BIG-bench/c69\n",
    "# Code Snippet - FS\n",
    "# Model 2\n",
    "# Sample 3\n",
    "\n",
    "import time\n",
    "\n",
    "# Record the starting time\n",
    "start_time_mol2_output3 = time.time()\n",
    "\n",
    "input_list = [4, 2, 7, 0, 5, 3]\n",
    "# Define the target list by concatenating the three lists\n",
    "target_list = [9, 3, 4, 0]\n",
    "for num in input_list:\n",
    "    target_list.append(num)\n",
    "target_list.extend([7, 2, 9, 1])\n",
    "\n",
    "# Print the input and target lists in the specified format\n",
    "print('\"input\":', str(input_list) + ',')\n",
    "print('\"target\":', str(target_list))\n",
    "# Assign the combined list to mod1_output1\n",
    "mod2_output3 = target_list\n",
    "# Record the ending time\n",
    "end_time_mol2_output3 = time.time()\n",
    "\n",
    "# Calculate and print the execution time\n",
    "execution_time_mod2_output3 = end_time_mol2_output3 - start_time_mol2_output3\n",
    "print(f\"Execution time: {execution_time_mod2_output3} seconds\")"
   ]
  },
  {
   "cell_type": "code",
   "execution_count": 8,
   "id": "c3971200-7ef0-4314-a116-607a6dd1c60b",
   "metadata": {},
   "outputs": [
    {
     "name": "stdout",
     "output_type": "stream",
     "text": [
      "Expected Output:  [[9, 3, 4, 0, 4, 0, 6, 5, 8, 7, 2, 9, 1], [9, 3, 4, 0, 2, 6, 5, 8, 9, 1, 7, 2, 9, 1], [9, 3, 4, 0, 7, 2, 9, 1]]\n",
      "Actual Output:  [[9, 3, 4, 0, 4, 0, 6, 5, 8, 7, 2, 9, 1], [9, 3, 4, 0, 2, 6, 5, 8, 9, 1, 7, 2, 9, 1], [9, 3, 4, 0, 4, 2, 7, 0, 5, 3, 7, 2, 9, 1]]\n",
      "                 Precision  Recall  F1 Score  Accuracy  Exact Match\n",
      "0                 1.000000   1.000  1.000000  1.000000     1.000000\n",
      "1                 1.000000   1.000  1.000000  1.000000     1.000000\n",
      "2                 0.833333   0.625  0.714286  0.357143     0.000000\n",
      "Model 1 Average   0.944444   0.875  0.904762  0.785714     0.666667\n"
     ]
    }
   ],
   "source": [
    "## Model 2 summary\n",
    "import pandas as pd\n",
    "def evaluate_list_metrics(expected_output, actual_output):\n",
    "    exact_match_accuracy = 1 if expected_output == actual_output else 0\n",
    "\n",
    "    # Calculate true positives\n",
    "    true_positives = sum(1 for i in range(min(len(expected_output), len(actual_output))) if expected_output[i] == actual_output[i])\n",
    "\n",
    "    # Calculate false positives\n",
    "    false_positives = sum(1 for i in range(len(actual_output)) if actual_output[i] not in expected_output)\n",
    "\n",
    "    # Calculate false negatives\n",
    "    false_negatives = sum(1 for i in range(len(expected_output)) if expected_output[i] != actual_output[i])\n",
    "\n",
    "    # Calculate precision, recall, and F1 score\n",
    "    precision = true_positives / (true_positives + false_positives) if true_positives + false_positives > 0 else 0\n",
    "    recall = true_positives / (true_positives + false_negatives) if true_positives + false_negatives > 0 else 0\n",
    "    f1_score = 2 * (precision * recall) / (precision + recall) if precision + recall > 0 else 0\n",
    "\n",
    "    # Calculate accuracy\n",
    "    accuracy = sum(1 for i in range(len(expected_output)) if expected_output[i] == actual_output[i]) / max(len(expected_output), len(actual_output))\n",
    "\n",
    "    return {\n",
    "        \"Precision\": precision,\n",
    "        \"Recall\": recall,\n",
    "        \"F1 Score\": f1_score,\n",
    "        \"Accuracy\": accuracy,\n",
    "        \"Exact Match\": exact_match_accuracy\n",
    "    }\n",
    "\n",
    "expected_outputs = [[9, 3, 4, 0, 4, 0, 6, 5, 8, 7, 2, 9, 1], [9, 3, 4, 0, 2, 6, 5, 8, 9, 1, 7, 2, 9, 1], [9, 3, 4, 0, 7, 2, 9, 1]]\n",
    "actual_outputs_mod1 = [mod2_output1, mod2_output2, mod2_output3]\n",
    "print(\"Expected Output: \", expected_outputs)\n",
    "print(\"Actual Output: \", actual_outputs_mod1)\n",
    "\n",
    "metrics1 = [evaluate_list_metrics(expected, actual) for expected, actual in zip(expected_outputs, actual_outputs_mod1)]\n",
    "\n",
    "# Create DataFrame directly from the list of dictionaries\n",
    "df_metrics1_new = pd.DataFrame(metrics1)\n",
    "\n",
    "# Calculate the average for precision, recall, F1 score, accuracy, and exact match\n",
    "avg_metrics1 = df_metrics1_new.mean(axis=0)\n",
    "avg_metrics1.name = 'Model 1 Average'\n",
    "\n",
    "# # Append the average row to the DataFrame\n",
    "# df_metrics1_new = df_metrics1_new.append(avg_metrics1)\n",
    "\n",
    "# Concatenate the average row to the DataFrame\n",
    "df_metrics1_new = pd.concat([df_metrics1_new, avg_metrics1.to_frame().transpose()])\n",
    "\n",
    "# Print the new DataFrame\n",
    "print(df_metrics1_new)"
   ]
  },
  {
   "cell_type": "code",
   "execution_count": 9,
   "id": "eeec0293-39f9-43c7-99f4-3bd8b581c2b1",
   "metadata": {},
   "outputs": [
    {
     "name": "stdout",
     "output_type": "stream",
     "text": [
      "\"input\": [4, 0, 6, 5, 8],\n",
      "\"target\": [9, 3, 4, 0, 4, 0, 6, 5, 8, 7, 2, 9, 1]\n",
      "Execution time: 0.0009980201721191406 seconds\n"
     ]
    }
   ],
   "source": [
    "# Task ID: BIG-bench/c69\n",
    "# Code Snippet - FS\n",
    "# Model 3\n",
    "# Sample 1\n",
    "\n",
    "import time\n",
    "# Record the starting time\n",
    "start_time_mol3_output1 = time.time()\n",
    "\n",
    "input_list = [4, 0, 6, 5, 8]\n",
    "# Define the target list using list concatenation\n",
    "target_list = [9, 3, 4, 0] + input_list + [7, 2, 9, 1]\n",
    "\n",
    "# Print the input and target lists in the specified format\n",
    "print('\"input\":', str(input_list) + ',')\n",
    "print('\"target\":', str(target_list))\n",
    "# Assign the combined list to mod1_output1\n",
    "mod3_output1 = target_list\n",
    "# Record the ending time\n",
    "end_time_mol3_output1 = time.time()\n",
    "# Calculate and print the execution time\n",
    "execution_time_mod3_output1 = end_time_mol3_output1 - start_time_mol3_output1\n",
    "print(f\"Execution time: {execution_time_mod3_output1} seconds\")"
   ]
  },
  {
   "cell_type": "code",
   "execution_count": 10,
   "id": "b1f65a84-1d30-4f31-b10a-30f4f7950123",
   "metadata": {},
   "outputs": [
    {
     "name": "stdout",
     "output_type": "stream",
     "text": [
      "\"input\": [2, 6, 5, 8, 9, 1],\n",
      "\"target\": [9, 3, 4, 0, 2, 6, 5, 8, 9, 1, 7, 2, 9, 1]\n",
      "Execution time: 0.0 seconds\n"
     ]
    }
   ],
   "source": [
    "# Task ID: BIG-bench/c69\n",
    "# Code Snippet - FS\n",
    "# Model 3\n",
    "# Sample 2\n",
    "\n",
    "import time\n",
    "\n",
    "# Record the starting time\n",
    "start_time_mol3_output2 = time.time()\n",
    "\n",
    "input_list = [2, 6, 5, 8, 9, 1]\n",
    "# Define the target list using list concatenation\n",
    "target_list = [9, 3, 4, 0] + input_list + [7, 2, 9, 1]\n",
    "\n",
    "# Print the input and target lists in the specified format\n",
    "print('\"input\":', str(input_list) + ',')\n",
    "print('\"target\":', str(target_list))\n",
    "# Assign the combined list to mod1_output1\n",
    "mod3_output2 = target_list\n",
    "# Record the ending time\n",
    "end_time_mol3_output2 = time.time()\n",
    "\n",
    "# Calculate and print the execution time\n",
    "execution_time_mod3_output2 = end_time_mol3_output2 - start_time_mol3_output2\n",
    "print(f\"Execution time: {execution_time_mod3_output2} seconds\")\n"
   ]
  },
  {
   "cell_type": "code",
   "execution_count": 11,
   "id": "94413b63-bfee-4373-88e4-91263467a4a7",
   "metadata": {},
   "outputs": [
    {
     "name": "stdout",
     "output_type": "stream",
     "text": [
      "\"input\": [4, 2, 7, 0, 5, 3],\n",
      "\"target\": [9, 3, 4, 0, 4, 2, 7, 0, 5, 3, 7, 2, 9, 1]\n",
      "Execution time: 0.0 seconds\n"
     ]
    }
   ],
   "source": [
    "# Task ID: BIG-bench/c69\n",
    "# Code Snippet - FS\n",
    "# Model 3\n",
    "# Sample 3\n",
    "\n",
    "import time\n",
    "\n",
    "# Record the starting time\n",
    "start_time_mol3_output3 = time.time()\n",
    "\n",
    "input_list = [4, 2, 7, 0, 5, 3]\n",
    "# Define the target list using list concatenation\n",
    "target_list = [9, 3, 4, 0] + input_list + [7, 2, 9, 1]\n",
    "\n",
    "# Print the input and target lists in the specified format\n",
    "print('\"input\":', str(input_list) + ',')\n",
    "print('\"target\":', str(target_list))\n",
    "# Assign the combined list to mod1_output1\n",
    "mod3_output3 = target_list\n",
    "# Record the ending time\n",
    "end_time_mol3_output3 = time.time()\n",
    "\n",
    "# Calculate and print the execution time\n",
    "execution_time_mod3_output3 = end_time_mol3_output3 - start_time_mol3_output3\n",
    "print(f\"Execution time: {execution_time_mod3_output3} seconds\")"
   ]
  },
  {
   "cell_type": "code",
   "execution_count": 12,
   "id": "ca459f69-edf7-48e4-93ca-2073542731c5",
   "metadata": {},
   "outputs": [
    {
     "name": "stdout",
     "output_type": "stream",
     "text": [
      "Expected Output:  [[9, 3, 4, 0, 4, 0, 6, 5, 8, 7, 2, 9, 1], [9, 3, 4, 0, 2, 6, 5, 8, 9, 1, 7, 2, 9, 1], [9, 3, 4, 0, 7, 2, 9, 1]]\n",
      "Actual Output:  [[9, 3, 4, 0, 4, 0, 6, 5, 8, 7, 2, 9, 1], [9, 3, 4, 0, 2, 6, 5, 8, 9, 1, 7, 2, 9, 1], [9, 3, 4, 0, 4, 2, 7, 0, 5, 3, 7, 2, 9, 1]]\n",
      "                 Precision  Recall  F1 Score  Accuracy  Exact Match\n",
      "0                 1.000000   1.000  1.000000  1.000000     1.000000\n",
      "1                 1.000000   1.000  1.000000  1.000000     1.000000\n",
      "2                 0.833333   0.625  0.714286  0.357143     0.000000\n",
      "Model 1 Average   0.944444   0.875  0.904762  0.785714     0.666667\n"
     ]
    }
   ],
   "source": [
    "## Model 3 summary\n",
    "import pandas as pd\n",
    "def evaluate_list_metrics(expected_output, actual_output):\n",
    "    exact_match_accuracy = 1 if expected_output == actual_output else 0\n",
    "\n",
    "    # Calculate true positives\n",
    "    true_positives = sum(1 for i in range(min(len(expected_output), len(actual_output))) if expected_output[i] == actual_output[i])\n",
    "\n",
    "    # Calculate false positives\n",
    "    false_positives = sum(1 for i in range(len(actual_output)) if actual_output[i] not in expected_output)\n",
    "\n",
    "    # Calculate false negatives\n",
    "    false_negatives = sum(1 for i in range(len(expected_output)) if expected_output[i] != actual_output[i])\n",
    "\n",
    "    # Calculate precision, recall, and F1 score\n",
    "    precision = true_positives / (true_positives + false_positives) if true_positives + false_positives > 0 else 0\n",
    "    recall = true_positives / (true_positives + false_negatives) if true_positives + false_negatives > 0 else 0\n",
    "    f1_score = 2 * (precision * recall) / (precision + recall) if precision + recall > 0 else 0\n",
    "\n",
    "    # Calculate accuracy\n",
    "    accuracy = sum(1 for i in range(len(expected_output)) if expected_output[i] == actual_output[i]) / max(len(expected_output), len(actual_output))\n",
    "\n",
    "    return {\n",
    "        \"Precision\": precision,\n",
    "        \"Recall\": recall,\n",
    "        \"F1 Score\": f1_score,\n",
    "        \"Accuracy\": accuracy,\n",
    "        \"Exact Match\": exact_match_accuracy\n",
    "    }\n",
    "\n",
    "expected_outputs = [[9, 3, 4, 0, 4, 0, 6, 5, 8, 7, 2, 9, 1], [9, 3, 4, 0, 2, 6, 5, 8, 9, 1, 7, 2, 9, 1], [9, 3, 4, 0, 7, 2, 9, 1]]\n",
    "actual_outputs_mod1 = [mod3_output1, mod3_output2, mod3_output3]\n",
    "print(\"Expected Output: \", expected_outputs)\n",
    "print(\"Actual Output: \", actual_outputs_mod1)\n",
    "\n",
    "metrics1 = [evaluate_list_metrics(expected, actual) for expected, actual in zip(expected_outputs, actual_outputs_mod1)]\n",
    "\n",
    "# Create DataFrame directly from the list of dictionaries\n",
    "df_metrics1_new = pd.DataFrame(metrics1)\n",
    "\n",
    "# Calculate the average for precision, recall, F1 score, accuracy, and exact match\n",
    "avg_metrics1 = df_metrics1_new.mean(axis=0)\n",
    "avg_metrics1.name = 'Model 1 Average'\n",
    "\n",
    "# # Append the average row to the DataFrame\n",
    "# df_metrics1_new = df_metrics1_new.append(avg_metrics1)\n",
    "\n",
    "# Concatenate the average row to the DataFrame\n",
    "df_metrics1_new = pd.concat([df_metrics1_new, avg_metrics1.to_frame().transpose()])\n",
    "\n",
    "# Print the new DataFrame\n",
    "print(df_metrics1_new)"
   ]
  },
  {
   "cell_type": "code",
   "execution_count": null,
   "id": "48496145-e1d8-4e55-aa07-0d187a79e214",
   "metadata": {},
   "outputs": [],
   "source": []
  }
 ],
 "metadata": {
  "kernelspec": {
   "display_name": "Python 3 (ipykernel)",
   "language": "python",
   "name": "python3"
  },
  "language_info": {
   "codemirror_mode": {
    "name": "ipython",
    "version": 3
   },
   "file_extension": ".py",
   "mimetype": "text/x-python",
   "name": "python",
   "nbconvert_exporter": "python",
   "pygments_lexer": "ipython3",
   "version": "3.11.7"
  }
 },
 "nbformat": 4,
 "nbformat_minor": 5
}
