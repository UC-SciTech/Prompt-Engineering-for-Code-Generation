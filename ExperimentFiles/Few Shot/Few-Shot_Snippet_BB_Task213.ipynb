{
 "cells": [
  {
   "cell_type": "markdown",
   "id": "1b7ce532",
   "metadata": {},
   "source": [
    "<h2 style='text-align: center;'> Technology Capstone Research Project PG (11522) </h2>\n",
    "<h3 style='text-align: center;'> Project ID: 2024-S1-50 </h3>\n",
    "<h3 style='text-align: center;'> Group ID: 11522-24S1-41 </h3>\n",
    "<h4 style='text-align: center;'> Member: MD Alvee Rohan - U3235512 </h4>\n",
    "<h4 style='text-align: center;'> Prompt Technique: Few Shot </h4>"
   ]
  },
  {
   "cell_type": "markdown",
   "id": "4a221783",
   "metadata": {},
   "source": [
    "### Revised Prompt for Few Shot\n",
    "\n",
    "### BIG-bench\\\\ c213\n",
    "\n",
    "Write a python code snippet that does not uses a function or function definition to find that takes a list of natural numbers and returns a list containing the three smallest elements in ascending order. \n",
    "\n",
    "Example:\n",
    "\"\"\"\"input\"\"\"\": \"\"\"\"[66, 4, 75, 9, 2, 20, 81]\"\"\"\",\n",
    "\"\"\"\"target\"\"\"\": \"\"\"\"[2, 4, 9]\"\"\"\"\n",
    "\n",
    "\"\"\"\"input\"\"\"\": \"\"\"\"[2, 39, 8, 35]\"\"\"\",\n",
    "\"\"\"\"target\"\"\"\": \"\"\"\"[2, 8, 35]\"\"\"\"\"\"\""
   ]
  },
  {
   "cell_type": "code",
   "execution_count": 2,
   "id": "221e6bd9-ea4e-4ba7-a573-5c3e41e50462",
   "metadata": {},
   "outputs": [
    {
     "name": "stdout",
     "output_type": "stream",
     "text": [
      "[0, 6, 41]\n",
      "Execution time: 0.0009963512420654297 seconds\n"
     ]
    }
   ],
   "source": [
    "# Task ID: BIG-bench/c213\n",
    "# Code Snippet - FS\n",
    "# Model 1\n",
    "# Sample 1\n",
    "\n",
    "import time\n",
    "\n",
    "# Record the starting time\n",
    "start_time_mol1_output1 = time.time()\n",
    "\n",
    "# Given input list of natural numbers\n",
    "\n",
    "numbers = [66, 65, 0, 6, 69, 41]\n",
    "\n",
    "# Sort the list in ascending order\n",
    "numbers.sort()\n",
    "\n",
    "# Extract the three smallest elements\n",
    "smallest_elements = numbers[:3]\n",
    "\n",
    "print(smallest_elements)\n",
    "# Record the ending time\n",
    "end_time_mol1_output1 = time.time()\n",
    "\n",
    "\n",
    "# Assign the combined list to mod1_output1\n",
    "mod1_output1 = smallest_elements\n",
    "\n",
    "# Calculate and print the execution time\n",
    "execution_time_mod1_output1 = end_time_mol1_output1 - start_time_mol1_output1\n",
    "print(f\"Execution time: {execution_time_mod1_output1} seconds\")\n"
   ]
  },
  {
   "cell_type": "code",
   "execution_count": 5,
   "id": "16000b7e-28e2-46a0-898f-29af6ae07d99",
   "metadata": {},
   "outputs": [
    {
     "name": "stdout",
     "output_type": "stream",
     "text": [
      "[1, 2, 4]\n",
      "Execution time: 0.0 seconds\n"
     ]
    }
   ],
   "source": [
    "# Task ID: BIG-bench/c213\n",
    "# Code Snippet - FS\n",
    "# Model 1\n",
    "# Sample 2\n",
    "\n",
    "import time\n",
    "\n",
    "# Record the starting time\n",
    "start_time_mol1_output2 = time.time()\n",
    "\n",
    "# Given input list of natural numbers\n",
    "numbers = [47, 63, 98, 89, 1, 2, 94, 7, 4, 49]\n",
    "\n",
    "# Sort the list in ascending order\n",
    "numbers.sort()\n",
    "\n",
    "# Extract the three smallest elements\n",
    "smallest_elements = numbers[:3]\n",
    "\n",
    "print(smallest_elements)\n",
    "\n",
    "\n",
    "\n",
    "# Assign the combined list to mod1_output1\n",
    "mod1_output2 = smallest_elements\n",
    "# Record the ending time\n",
    "end_time_mol1_output2 = time.time()\n",
    "\n",
    "# Calculate and print the execution time\n",
    "execution_time_mod1_output2 = end_time_mol1_output2 - start_time_mol1_output2\n",
    "print(f\"Execution time: {execution_time_mod1_output2} seconds\")"
   ]
  },
  {
   "cell_type": "code",
   "execution_count": 6,
   "id": "a3ab9f95-9799-45ee-9ca3-f447c39295b2",
   "metadata": {},
   "outputs": [
    {
     "name": "stdout",
     "output_type": "stream",
     "text": [
      "[3, 4, 5]\n",
      "Execution time: 0.0009970664978027344 seconds\n"
     ]
    }
   ],
   "source": [
    "# Task ID: BIG-bench/c213\n",
    "# Code Snippet - FS\n",
    "# Model 1\n",
    "# Sample 3\n",
    "\n",
    "import time\n",
    "\n",
    "# Record the starting time\n",
    "start_time_mol1_output3 = time.time()\n",
    "\n",
    "# Given input list of natural numbers\n",
    "numbers = [60, 5, 13, 24, 3, 4, 86, 9, 78]\n",
    "\n",
    "# Sort the list in ascending order\n",
    "numbers.sort()\n",
    "\n",
    "# Extract the three smallest elements\n",
    "smallest_elements = numbers[:3]\n",
    "\n",
    "print(smallest_elements)\n",
    "\n",
    "# Record the ending time\n",
    "end_time_mol1_output3 = time.time()\n",
    "# Assign the combined list to mod1_output3\n",
    "mod1_output3 = smallest_elements\n",
    "# Calculate and print the execution time\n",
    "execution_time_mod1_output3 = end_time_mol1_output3 - start_time_mol1_output3\n",
    "print(f\"Execution time: {execution_time_mod1_output3} seconds\")\n",
    "\n"
   ]
  },
  {
   "cell_type": "code",
   "execution_count": 8,
   "id": "dd5d64d8-1f25-4bce-9d81-7953ad565998",
   "metadata": {},
   "outputs": [
    {
     "name": "stdout",
     "output_type": "stream",
     "text": [
      "Expected Output:  [[0, 6, 41], [1, 2, 4], [1, 2, 3]]\n",
      "Actual Output:  [[0, 6, 41], [1, 2, 4], [3, 4, 5]]\n",
      "                 Precision    Recall  F1 Score  Accuracy  Exact Match\n",
      "0                 1.000000  1.000000  1.000000  1.000000     1.000000\n",
      "1                 1.000000  1.000000  1.000000  1.000000     1.000000\n",
      "2                 0.000000  0.000000  0.000000  0.000000     0.000000\n",
      "Model 1 Average   0.666667  0.666667  0.666667  0.666667     0.666667\n"
     ]
    }
   ],
   "source": [
    "## Model 1 summary\n",
    "import pandas as pd\n",
    "def evaluate_list_metrics(expected_output, actual_output):\n",
    "    exact_match_accuracy = 1 if expected_output == actual_output else 0\n",
    "\n",
    "    # Calculate true positives\n",
    "    true_positives = sum(1 for i in range(min(len(expected_output), len(actual_output))) if expected_output[i] == actual_output[i])\n",
    "\n",
    "    # Calculate false positives\n",
    "    false_positives = sum(1 for i in range(len(actual_output)) if actual_output[i] not in expected_output)\n",
    "\n",
    "    # Calculate false negatives\n",
    "    false_negatives = sum(1 for i in range(len(expected_output)) if expected_output[i] != actual_output[i])\n",
    "\n",
    "    # Calculate precision, recall, and F1 score\n",
    "    precision = true_positives / (true_positives + false_positives) if true_positives + false_positives > 0 else 0\n",
    "    recall = true_positives / (true_positives + false_negatives) if true_positives + false_negatives > 0 else 0\n",
    "    f1_score = 2 * (precision * recall) / (precision + recall) if precision + recall > 0 else 0\n",
    "\n",
    "    # Calculate accuracy\n",
    "    accuracy = sum(1 for i in range(len(expected_output)) if expected_output[i] == actual_output[i]) / max(len(expected_output), len(actual_output))\n",
    "\n",
    "    return {\n",
    "        \"Precision\": precision,\n",
    "        \"Recall\": recall,\n",
    "        \"F1 Score\": f1_score,\n",
    "        \"Accuracy\": accuracy,\n",
    "        \"Exact Match\": exact_match_accuracy\n",
    "    }\n",
    "\n",
    "expected_outputs = [[0, 6, 41], [1, 2, 4], [1, 2, 3]]\n",
    "actual_outputs_mod1 = [mod1_output1, mod1_output2, mod1_output3]\n",
    "print(\"Expected Output: \", expected_outputs)\n",
    "print(\"Actual Output: \", actual_outputs_mod1)\n",
    "\n",
    "metrics1 = [evaluate_list_metrics(expected, actual) for expected, actual in zip(expected_outputs, actual_outputs_mod1)]\n",
    "\n",
    "# Create DataFrame directly from the list of dictionaries\n",
    "df_metrics1_new = pd.DataFrame(metrics1)\n",
    "\n",
    "# Calculate the average for precision, recall, F1 score, accuracy, and exact match\n",
    "avg_metrics1 = df_metrics1_new.mean(axis=0)\n",
    "avg_metrics1.name = 'Model 1 Average'\n",
    "\n",
    "# # Append the average row to the DataFrame\n",
    "# df_metrics1_new = df_metrics1_new.append(avg_metrics1)\n",
    "\n",
    "# Concatenate the average row to the DataFrame\n",
    "df_metrics1_new = pd.concat([df_metrics1_new, avg_metrics1.to_frame().transpose()])\n",
    "\n",
    "# Print the new DataFrame\n",
    "print(df_metrics1_new)"
   ]
  },
  {
   "cell_type": "code",
   "execution_count": 15,
   "id": "225aa40b-1b7d-4b86-ab8d-386bc07e359d",
   "metadata": {},
   "outputs": [
    {
     "name": "stdout",
     "output_type": "stream",
     "text": [
      "[0, 6, 41]\n",
      "Execution time: 0.0 seconds\n"
     ]
    }
   ],
   "source": [
    "# Task ID: BIG-bench/c213\n",
    "# Code Snippet - FS\n",
    "# Model 2\n",
    "# Sample 1\n",
    "\n",
    "import time\n",
    "\n",
    "# Record the starting time\n",
    "start_time_mol1_output1 = time.time()\n",
    "\n",
    "# Given input list of natural numbers\n",
    "numbers = [66, 65, 0, 6, 69, 41]\n",
    "\n",
    "# Find the three smallest elements using list comprehension\n",
    "smallest_elements = sorted([x for x in numbers if x in sorted(numbers)[:3]])\n",
    "\n",
    "print(smallest_elements)\n",
    "\n",
    "\n",
    "# Record the ending time\n",
    "end_time_mol1_output1 = time.time()\n",
    "\n",
    "\n",
    "mod2_output1 = smallest_elements\n",
    "\n",
    "# Calculate and print the execution time\n",
    "execution_time_mod1_output1 = end_time_mol1_output1 - start_time_mol1_output1\n",
    "print(f\"Execution time: {execution_time_mod1_output1} seconds\")"
   ]
  },
  {
   "cell_type": "code",
   "execution_count": 16,
   "id": "410ed680-69a2-43e1-ad3f-a826b74e82d0",
   "metadata": {},
   "outputs": [
    {
     "name": "stdout",
     "output_type": "stream",
     "text": [
      "[1, 2, 4]\n",
      "Execution time: 0.0009982585906982422 seconds\n"
     ]
    }
   ],
   "source": [
    "# Task ID: BIG-bench/c213\n",
    "# Code Snippet - FS\n",
    "# Model 2\n",
    "# Sample 2\n",
    "\n",
    "import time\n",
    "\n",
    "# Record the starting time\n",
    "start_time_mol1_output2 = time.time()\n",
    "\n",
    "# Given input list of natural numbers\n",
    "numbers = [47, 63, 98, 89, 1, 2, 94, 7, 4, 49]\n",
    "\n",
    "# Find the three smallest elements using list comprehension\n",
    "smallest_elements = sorted([x for x in numbers if x in sorted(numbers)[:3]])\n",
    "\n",
    "print(smallest_elements)\n",
    "\n",
    "# Assign the combined list to mod1_output1\n",
    "mod2_output2 = smallest_elements\n",
    "# Record the ending time\n",
    "end_time_mol1_output2 = time.time()\n",
    "\n",
    "# Calculate and print the execution time\n",
    "execution_time_mod1_output2 = end_time_mol1_output2 - start_time_mol1_output2\n",
    "print(f\"Execution time: {execution_time_mod1_output2} seconds\")"
   ]
  },
  {
   "cell_type": "code",
   "execution_count": 17,
   "id": "b1430657-29f3-4dd5-b72a-7e5eb9ad727e",
   "metadata": {},
   "outputs": [
    {
     "name": "stdout",
     "output_type": "stream",
     "text": [
      "[3, 4, 5]\n",
      "Execution time: 0.0 seconds\n"
     ]
    }
   ],
   "source": [
    "# Task ID: BIG-bench/c213\n",
    "# Code Snippet - FS\n",
    "# Model 2\n",
    "# Sample 3\n",
    "\n",
    "import time\n",
    "\n",
    "# Record the starting time\n",
    "start_time_mol2_output3 = time.time()\n",
    "\n",
    "# Given input list of natural numbers\n",
    "numbers = [60, 5, 13, 24, 3, 4, 86, 9, 78]\n",
    "\n",
    "# Find the three smallest elements using list comprehension\n",
    "smallest_elements = sorted([x for x in numbers if x in sorted(numbers)[:3]])\n",
    "\n",
    "print(smallest_elements)\n",
    "\n",
    "# Record the ending time\n",
    "end_time_mol2_output3 = time.time()\n",
    "# Assign the combined list to mod1_output1\n",
    "mod2_output3 = smallest_elements\n",
    "# Calculate and print the execution time\n",
    "execution_time_mod2_output3 = end_time_mol2_output3 - start_time_mol2_output3\n",
    "print(f\"Execution time: {execution_time_mod2_output3} seconds\")\n",
    "\n"
   ]
  },
  {
   "cell_type": "code",
   "execution_count": 18,
   "id": "f7beef36-de72-4888-88ae-543314892642",
   "metadata": {},
   "outputs": [
    {
     "name": "stdout",
     "output_type": "stream",
     "text": [
      "Expected Output:  [[0, 6, 41], [1, 2, 4], [1, 2, 3]]\n",
      "Actual Output:  [[0, 6, 41], [1, 2, 4], [3, 4, 5]]\n",
      "                 Precision    Recall  F1 Score  Accuracy  Exact Match\n",
      "0                 1.000000  1.000000  1.000000  1.000000     1.000000\n",
      "1                 1.000000  1.000000  1.000000  1.000000     1.000000\n",
      "2                 0.000000  0.000000  0.000000  0.000000     0.000000\n",
      "Model 1 Average   0.666667  0.666667  0.666667  0.666667     0.666667\n"
     ]
    }
   ],
   "source": [
    "## Model - 2 - Summary\n",
    "\n",
    "def evaluate_list_metrics(expected_output, actual_output):\n",
    "    exact_match_accuracy = 1 if expected_output == actual_output else 0\n",
    "\n",
    "    # Calculate true positives\n",
    "    true_positives = sum(1 for i in range(min(len(expected_output), len(actual_output))) if expected_output[i] == actual_output[i])\n",
    "\n",
    "    # Calculate false positives\n",
    "    false_positives = sum(1 for i in range(len(actual_output)) if actual_output[i] not in expected_output)\n",
    "\n",
    "    # Calculate false negatives\n",
    "    false_negatives = sum(1 for i in range(len(expected_output)) if expected_output[i] != actual_output[i])\n",
    "\n",
    "    # Calculate precision, recall, and F1 score\n",
    "    precision = true_positives / (true_positives + false_positives) if true_positives + false_positives > 0 else 0\n",
    "    recall = true_positives / (true_positives + false_negatives) if true_positives + false_negatives > 0 else 0\n",
    "    f1_score = 2 * (precision * recall) / (precision + recall) if precision + recall > 0 else 0\n",
    "\n",
    "    # Calculate accuracy\n",
    "    accuracy = sum(1 for i in range(len(expected_output)) if expected_output[i] == actual_output[i]) / max(len(expected_output), len(actual_output))\n",
    "\n",
    "    return {\n",
    "        \"Precision\": precision,\n",
    "        \"Recall\": recall,\n",
    "        \"F1 Score\": f1_score,\n",
    "        \"Accuracy\": accuracy,\n",
    "        \"Exact Match\": exact_match_accuracy\n",
    "    }\n",
    "\n",
    "expected_outputs = [[0, 6, 41], [1, 2, 4], [1, 2, 3]]\n",
    "actual_outputs_mod1 = [mod2_output1, mod2_output2, mod2_output3]\n",
    "print(\"Expected Output: \", expected_outputs)\n",
    "print(\"Actual Output: \", actual_outputs_mod1)\n",
    "\n",
    "metrics1 = [evaluate_list_metrics(expected, actual) for expected, actual in zip(expected_outputs, actual_outputs_mod1)]\n",
    "\n",
    "# Create DataFrame directly from the list of dictionaries\n",
    "df_metrics1_new = pd.DataFrame(metrics1)\n",
    "\n",
    "# Calculate the average for precision, recall, F1 score, accuracy, and exact match\n",
    "avg_metrics1 = df_metrics1_new.mean(axis=0)\n",
    "avg_metrics1.name = 'Model 1 Average'\n",
    "\n",
    "# # Append the average row to the DataFrame\n",
    "# df_metrics1_new = df_metrics1_new.append(avg_metrics1)\n",
    "\n",
    "# Concatenate the average row to the DataFrame\n",
    "df_metrics1_new = pd.concat([df_metrics1_new, avg_metrics1.to_frame().transpose()])\n",
    "\n",
    "# Print the new DataFrame\n",
    "print(df_metrics1_new)"
   ]
  },
  {
   "cell_type": "code",
   "execution_count": 21,
   "id": "078a4496-6458-4f02-ac0e-ab33e4bffd13",
   "metadata": {},
   "outputs": [
    {
     "name": "stdout",
     "output_type": "stream",
     "text": [
      "[0, 6, 41]\n",
      "Execution time: 0.0 seconds\n"
     ]
    }
   ],
   "source": [
    "# Task ID: BIG-bench/c213\n",
    "# Code Snippet - FS\n",
    "# Model 3\n",
    "# Sample 1\n",
    "\n",
    "import time\n",
    "\n",
    "# Record the starting time\n",
    "start_time_mol1_output1 = time.time()\n",
    "\n",
    "# Given input list of natural numbers\n",
    "numbers = [66, 65, 0, 6, 69, 41]\n",
    "import heapq\n",
    "# Use heapq to find the three smallest elements\n",
    "smallest_elements = heapq.nsmallest(3, numbers)\n",
    "\n",
    "print(smallest_elements)\n",
    "\n",
    "\n",
    "\n",
    "# Record the ending time\n",
    "end_time_mol1_output1 = time.time()\n",
    "# Assign the combined list to mod1_output3\n",
    "mod3_output1 = smallest_elements\n",
    "# Calculate and print the execution time\n",
    "execution_time_mod1_output1 = end_time_mol1_output1 - start_time_mol1_output1\n",
    "print(f\"Execution time: {execution_time_mod1_output1} seconds\")"
   ]
  },
  {
   "cell_type": "code",
   "execution_count": 22,
   "id": "9d513af9-7aa9-484f-8eeb-a7dac7cc37eb",
   "metadata": {},
   "outputs": [
    {
     "name": "stdout",
     "output_type": "stream",
     "text": [
      "[1, 2, 4]\n",
      "Execution time: 0.0 seconds\n"
     ]
    }
   ],
   "source": [
    "# Task ID: BIG-bench/c213\n",
    "# Code Snippet - FS\n",
    "# Model 3\n",
    "# Sample 2\n",
    "\n",
    "import time\n",
    "\n",
    "# Record the starting time\n",
    "start_time_mol1_output2 = time.time()\n",
    "\n",
    "# Given input list of natural numbers\n",
    "numbers = [47, 63, 98, 89, 1, 2, 94, 7, 4, 49]\n",
    "\n",
    "import heapq\n",
    "# Use heapq to find the three smallest elements\n",
    "smallest_elements = heapq.nsmallest(3, numbers)\n",
    "\n",
    "print(smallest_elements)\n",
    "\n",
    "# Assign the combined list to mod1_output1\n",
    "mod3_output2 = smallest_elements\n",
    "# Record the ending time\n",
    "end_time_mol1_output2 = time.time()\n",
    "\n",
    "# Calculate and print the execution time\n",
    "execution_time_mod1_output2 = end_time_mol1_output2 - start_time_mol1_output2\n",
    "print(f\"Execution time: {execution_time_mod1_output2} seconds\")"
   ]
  },
  {
   "cell_type": "code",
   "execution_count": 23,
   "id": "d9d39ce6-7118-453c-968e-ead68b4237fd",
   "metadata": {},
   "outputs": [
    {
     "name": "stdout",
     "output_type": "stream",
     "text": [
      "[3, 4, 5]\n",
      "Execution time: 0.0 seconds\n"
     ]
    }
   ],
   "source": [
    "# Task ID: BIG-bench/c213\n",
    "# Code Snippet - FS\n",
    "# Model 3\n",
    "# Sample 3\n",
    "\n",
    "import time\n",
    "\n",
    "# Record the starting time\n",
    "start_time_mol1_output3 = time.time()\n",
    "\n",
    "# Given input list of natural numbers\n",
    "numbers = [60, 5, 13, 24, 3, 4, 86, 9, 78]\n",
    "\n",
    "import heapq\n",
    "# Use heapq to find the three smallest elements\n",
    "smallest_elements = heapq.nsmallest(3, numbers)\n",
    "\n",
    "print(smallest_elements)\n",
    "\n",
    "# Assign the combined list to mod1_output3\n",
    "mod3_output3 = smallest_elements\n",
    "\n",
    "# Record the ending time\n",
    "end_time_mol1_output3 = time.time()\n",
    "\n",
    "# Calculate and print the execution time\n",
    "execution_time_mod1_output3 = end_time_mol1_output3 - start_time_mol1_output3\n",
    "print(f\"Execution time: {execution_time_mod1_output3} seconds\")\n",
    "\n"
   ]
  },
  {
   "cell_type": "code",
   "execution_count": 24,
   "id": "cefaf3d7-3905-470e-81a2-e4dfd159470f",
   "metadata": {},
   "outputs": [
    {
     "name": "stdout",
     "output_type": "stream",
     "text": [
      "Expected Output:  [[0, 6, 41], [1, 2, 4], [1, 2, 3]]\n",
      "Actual Output:  [[0, 6, 41], [1, 2, 4], [3, 4, 5]]\n",
      "                 Precision    Recall  F1 Score  Accuracy  Exact Match\n",
      "0                 1.000000  1.000000  1.000000  1.000000     1.000000\n",
      "1                 1.000000  1.000000  1.000000  1.000000     1.000000\n",
      "2                 0.000000  0.000000  0.000000  0.000000     0.000000\n",
      "Model 1 Average   0.666667  0.666667  0.666667  0.666667     0.666667\n"
     ]
    }
   ],
   "source": [
    "## Model - 3 Summary\n",
    "\n",
    "def evaluate_list_metrics(expected_output, actual_output):\n",
    "    exact_match_accuracy = 1 if expected_output == actual_output else 0\n",
    "\n",
    "    # Calculate true positives\n",
    "    true_positives = sum(1 for i in range(min(len(expected_output), len(actual_output))) if expected_output[i] == actual_output[i])\n",
    "\n",
    "    # Calculate false positives\n",
    "    false_positives = sum(1 for i in range(len(actual_output)) if actual_output[i] not in expected_output)\n",
    "\n",
    "    # Calculate false negatives\n",
    "    false_negatives = sum(1 for i in range(len(expected_output)) if expected_output[i] != actual_output[i])\n",
    "\n",
    "    # Calculate precision, recall, and F1 score\n",
    "    precision = true_positives / (true_positives + false_positives) if true_positives + false_positives > 0 else 0\n",
    "    recall = true_positives / (true_positives + false_negatives) if true_positives + false_negatives > 0 else 0\n",
    "    f1_score = 2 * (precision * recall) / (precision + recall) if precision + recall > 0 else 0\n",
    "\n",
    "    # Calculate accuracy\n",
    "    accuracy = sum(1 for i in range(len(expected_output)) if expected_output[i] == actual_output[i]) / max(len(expected_output), len(actual_output))\n",
    "\n",
    "    return {\n",
    "        \"Precision\": precision,\n",
    "        \"Recall\": recall,\n",
    "        \"F1 Score\": f1_score,\n",
    "        \"Accuracy\": accuracy,\n",
    "        \"Exact Match\": exact_match_accuracy\n",
    "    }\n",
    "\n",
    "expected_outputs = [[0, 6, 41], [1, 2, 4], [1, 2, 3]]\n",
    "actual_outputs_mod1 = [mod1_output1, mod1_output2, mod1_output3]\n",
    "print(\"Expected Output: \", expected_outputs)\n",
    "print(\"Actual Output: \", actual_outputs_mod1)\n",
    "\n",
    "metrics1 = [evaluate_list_metrics(expected, actual) for expected, actual in zip(expected_outputs, actual_outputs_mod1)]\n",
    "\n",
    "# Create DataFrame directly from the list of dictionaries\n",
    "df_metrics1_new = pd.DataFrame(metrics1)\n",
    "\n",
    "# Calculate the average for precision, recall, F1 score, accuracy, and exact match\n",
    "avg_metrics1 = df_metrics1_new.mean(axis=0)\n",
    "avg_metrics1.name = 'Model 1 Average'\n",
    "\n",
    "# # Append the average row to the DataFrame\n",
    "# df_metrics1_new = df_metrics1_new.append(avg_metrics1)\n",
    "\n",
    "# Concatenate the average row to the DataFrame\n",
    "df_metrics1_new = pd.concat([df_metrics1_new, avg_metrics1.to_frame().transpose()])\n",
    "\n",
    "# Print the new DataFrame\n",
    "print(df_metrics1_new)"
   ]
  },
  {
   "cell_type": "code",
   "execution_count": null,
   "id": "7da135e9-5140-405c-8158-fae8c5d02234",
   "metadata": {},
   "outputs": [],
   "source": []
  }
 ],
 "metadata": {
  "kernelspec": {
   "display_name": "Python 3 (ipykernel)",
   "language": "python",
   "name": "python3"
  },
  "language_info": {
   "codemirror_mode": {
    "name": "ipython",
    "version": 3
   },
   "file_extension": ".py",
   "mimetype": "text/x-python",
   "name": "python",
   "nbconvert_exporter": "python",
   "pygments_lexer": "ipython3",
   "version": "3.11.7"
  }
 },
 "nbformat": 4,
 "nbformat_minor": 5
}
