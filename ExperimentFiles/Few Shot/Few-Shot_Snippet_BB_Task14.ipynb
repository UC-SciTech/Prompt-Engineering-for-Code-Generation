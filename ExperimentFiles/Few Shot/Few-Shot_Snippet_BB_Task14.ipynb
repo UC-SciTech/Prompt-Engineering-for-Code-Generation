{
 "cells": [
  {
   "cell_type": "markdown",
   "id": "d7963d5d",
   "metadata": {},
   "source": [
    "<h2 style='text-align: center;'> Technology Capstone Research Project PG (11522) </h2>\n",
    "<h3 style='text-align: center;'> Project ID: 2024-S1-50 </h3>\n",
    "<h3 style='text-align: center;'> Group ID: 11522-24S1-41 </h3>\n",
    "<h4 style='text-align: center;'> Member: MD Alvee Rohan - U3235512 </h4>\n",
    "<h4 style='text-align: center;'> Prompt Technique: Few Shot </h4>"
   ]
  },
  {
   "cell_type": "markdown",
   "id": "dafa6dcd",
   "metadata": {},
   "source": [
    "### Revised Prompt for Few Shot\n",
    "\n",
    "### BIG-bench\\\\ c14\n",
    "\n",
    "Write a python code snippet without using a function or function definition  that takes a list of natural numbers and keeps only elements at indices 3 through 7 (inclusive). If the list has fewer than 7 elements, keep only those elements that exist within the specified range.\n",
    "\n",
    "Example:\n",
    "\"\"input\"\": \"\"[8, 1, 6, 9, 7, 2, 3]\"\",\n",
    "\"target\"\": \"\"[6, 9, 7, 2, 3]\"\"\n",
    "\n",
    "\"\"input\"\": \"\"[9, 7, 0, 6, 3, 5, 4, 8, 2]\"\",\n",
    "\"\"target\"\": \"\"[0, 6, 3, 5, 4]\"\"\""
   ]
  },
  {
   "cell_type": "code",
   "execution_count": 2,
   "id": "96c7f2bd-e5db-4ae1-a2ed-7d6db90d6914",
   "metadata": {},
   "outputs": [
    {
     "name": "stdout",
     "output_type": "stream",
     "text": [
      "[]\n",
      "Execution time: 0.0 seconds\n"
     ]
    }
   ],
   "source": [
    "# Task ID: BIG-bench/c14\n",
    "# Code Snippet - FS\n",
    "# Model 1\n",
    "# Sample 1\n",
    "\n",
    "import time\n",
    "# Record the starting time\n",
    "start_time_mol1_output1 = time.time()\n",
    "\n",
    "\n",
    "# Given list of natural numbers\n",
    "numbers = [4, 1]\n",
    "\n",
    "# List comprehension to filter elements at indices 3 through 7 (inclusive)\n",
    "result = [num for idx, num in enumerate(numbers) if 3 <= idx <= 7]\n",
    "\n",
    "# Print the result\n",
    "print(result)\n",
    "# Assign the combined list to mod1_output1\n",
    "mod1_output1 = result\n",
    "# Record the ending time\n",
    "end_time_mol1_output1 = time.time()\n",
    "# Calculate and print the execution time\n",
    "execution_time_mod1_output1 = end_time_mol1_output1 - start_time_mol1_output1\n",
    "print(f\"Execution time: {execution_time_mod1_output1} seconds\")\n"
   ]
  },
  {
   "cell_type": "code",
   "execution_count": 3,
   "id": "401fd8a0-a53c-47cb-ab3a-57c15f99776d",
   "metadata": {},
   "outputs": [
    {
     "name": "stdout",
     "output_type": "stream",
     "text": [
      "[2, 6]\n",
      "Execution time: 0.0 seconds\n"
     ]
    }
   ],
   "source": [
    "# Task ID: BIG-bench/c14\n",
    "# Code Snippet - FS\n",
    "# Model 1\n",
    "# Sample 2\n",
    "\n",
    "import time\n",
    "\n",
    "# Record the starting time\n",
    "start_time_mol1_output2 = time.time()\n",
    "# input example\n",
    "numbers = [8, 1, 9, 2, 6] # [9, 2, 6]\n",
    "\n",
    "# List comprehension to filter elements at indices 3 through 7 (inclusive)\n",
    "result = [num for idx, num in enumerate(numbers) if 3 <= idx <= 7]\n",
    "\n",
    "# Print the result\n",
    "print(result)\n",
    "# Assign the combined list to mod1_output1\n",
    "mod1_output2 = result\n",
    "# Record the ending time\n",
    "end_time_mol1_output2 = time.time()\n",
    "\n",
    "# Calculate and print the execution time\n",
    "execution_time_mod1_output2 = end_time_mol1_output2 - start_time_mol1_output2\n",
    "print(f\"Execution time: {execution_time_mod1_output2} seconds\")"
   ]
  },
  {
   "cell_type": "code",
   "execution_count": 4,
   "id": "d787431c-640e-4901-97e4-f03cf3a0670b",
   "metadata": {},
   "outputs": [
    {
     "name": "stdout",
     "output_type": "stream",
     "text": [
      "[2]\n",
      "Execution time: 0.0 seconds\n"
     ]
    }
   ],
   "source": [
    "# Task ID: BIG-bench/c14\n",
    "# Code Snippet - FS\n",
    "# Model 1\n",
    "# Sample 3\n",
    "\n",
    "import time\n",
    "\n",
    "# Record the starting time\n",
    "start_time_mol1_output3 = time.time()\n",
    "# input example\n",
    "numbers = [8, 1, 5, 2] # [5, 2]\n",
    "# List comprehension to filter elements at indices 3 through 7 (inclusive)\n",
    "result = [num for idx, num in enumerate(numbers) if 3 <= idx <= 7]\n",
    "\n",
    "# Print the result\n",
    "print(result)\n",
    "# Assign the combined list to mod1_output1\n",
    "mod1_output3 = result\n",
    "# Record the ending time\n",
    "end_time_mol1_output3 = time.time()\n",
    "\n",
    "# Calculate and print the execution time\n",
    "execution_time_mod1_output3 = end_time_mol1_output3 - start_time_mol1_output3\n",
    "print(f\"Execution time: {execution_time_mod1_output3} seconds\")"
   ]
  },
  {
   "cell_type": "code",
   "execution_count": 13,
   "id": "aac5b065-903e-4da9-a3ac-b4572d0802b0",
   "metadata": {},
   "outputs": [
    {
     "name": "stdout",
     "output_type": "stream",
     "text": [
      "                 Precision    Recall  F1 Score  Accuracy  Exact Match\n",
      "0                 0.000000  0.000000  0.000000  0.000000          1.0\n",
      "1                 1.000000  1.000000  1.000000  1.000000          1.0\n",
      "2                 1.000000  1.000000  1.000000  1.000000          1.0\n",
      "Model 1 Average   0.666667  0.666667  0.666667  0.666667          1.0\n"
     ]
    }
   ],
   "source": [
    "## Model 1 summary\n",
    "\n",
    "import pandas as pd\n",
    "\n",
    "def evaluate_list_metrics(expected_output, actual_output):\n",
    "    exact_match_accuracy = 1 if expected_output == actual_output else 0\n",
    "\n",
    "    # Calculate true positives\n",
    "    true_positives = sum(1 for i in range(min(len(expected_output), len(actual_output))) if expected_output[i] == actual_output[i])\n",
    "\n",
    "    # Calculate false positives\n",
    "    false_positives = sum(1 for i in range(len(actual_output)) if actual_output[i] not in expected_output)\n",
    "\n",
    "    # Calculate false negatives\n",
    "    false_negatives = sum(1 for i in range(len(expected_output)) if expected_output[i] != actual_output[i])\n",
    "\n",
    "    # Calculate precision, recall, and F1 score\n",
    "    precision = true_positives / (true_positives + false_positives) if true_positives + false_positives > 0 else 0\n",
    "    recall = true_positives / (true_positives + false_negatives) if true_positives + false_negatives > 0 else 0\n",
    "    f1_score = 2 * (precision * recall) / (precision + recall) if precision + recall > 0 else 0\n",
    "\n",
    "    # Calculate accuracy\n",
    "    if max(len(expected_output), len(actual_output)) > 0:\n",
    "        accuracy = sum(1 for i in range(len(expected_output)) if expected_output[i] == actual_output[i]) / max(len(expected_output), len(actual_output))\n",
    "    else:\n",
    "        accuracy = 0\n",
    "    return {\n",
    "        \"Precision\": precision,\n",
    "        \"Recall\": recall,\n",
    "        \"F1 Score\": f1_score,\n",
    "        \"Accuracy\": accuracy,\n",
    "        \"Exact Match\": exact_match_accuracy\n",
    "    }\n",
    "\n",
    "# Example expected outputs and actual outputs\n",
    "expected_outputs = [[], [9, 2, 6], [5, 2]]\n",
    "\n",
    "# Define mod1_output1, mod1_output2, and mod1_output3 lists\n",
    "mod1_output1 = []\n",
    "mod1_output2 = [9, 2, 6]\n",
    "mod1_output3 = [5, 2]\n",
    "\n",
    "# Combine the outputs into a list\n",
    "actual_outputs_mod1 = [mod1_output1, mod1_output2, mod1_output3]  # Example actual outputs\n",
    "\n",
    "# Call the function and calculate metrics\n",
    "metrics1 = [evaluate_list_metrics(expected, actual) for expected, actual in zip(expected_outputs, actual_outputs_mod1)]\n",
    "\n",
    "# Create DataFrame directly from the list of dictionaries\n",
    "df_metrics1_new = pd.DataFrame(metrics1)\n",
    "\n",
    "# Calculate the average for precision, recall, F1 score, accuracy, and exact match\n",
    "avg_metrics1 = df_metrics1_new.mean(axis=0)\n",
    "avg_metrics1.name = 'Model 1 Average'\n",
    "\n",
    "# Concatenate the average row to the DataFrame\n",
    "df_metrics1_new = pd.concat([df_metrics1_new, avg_metrics1.to_frame().transpose()])\n",
    "\n",
    "# Print the new DataFrame\n",
    "print(df_metrics1_new)\n"
   ]
  },
  {
   "cell_type": "code",
   "execution_count": 14,
   "id": "3e2e774b-c36e-4b8c-a418-720a15b77d81",
   "metadata": {},
   "outputs": [
    {
     "name": "stdout",
     "output_type": "stream",
     "text": [
      "[]\n",
      "Execution time: 0.0 seconds\n"
     ]
    }
   ],
   "source": [
    "# Task ID: BIG-bench/c24\n",
    "# Code Snippet - FS\n",
    "# Model 2\n",
    "# Sample 1\n",
    "\n",
    "import time\n",
    "# Record the starting time\n",
    "start_time_mol2_output1 = time.time()\n",
    "# Given list of natural numbers\n",
    "numbers = [4, 1]\n",
    "\n",
    "# Use slicing to extract elements at indices 3 through 7 (inclusive)\n",
    "result2 = numbers[3:8]\n",
    "\n",
    "# Print the result\n",
    "print(result2)\n",
    "\n",
    "# Assign the combined list to mod1_output1\n",
    "mod2_output1 = result2\n",
    "# Record the ending time\n",
    "end_time_mol2_output1 = time.time()\n",
    "# Calculate and print the execution time\n",
    "execution_time_mod2_output1 = end_time_mol2_output1 - start_time_mol2_output1\n",
    "print(f\"Execution time: {execution_time_mod2_output1} seconds\")"
   ]
  },
  {
   "cell_type": "code",
   "execution_count": 1,
   "id": "c6923512",
   "metadata": {},
   "outputs": [
    {
     "name": "stdout",
     "output_type": "stream",
     "text": [
      "[2, 6]\n",
      "Execution time: 0.0010008811950683594 seconds\n"
     ]
    }
   ],
   "source": [
    "# Task ID: BIG-bench/c24\n",
    "# Code Snippet - FS\n",
    "# Model 2\n",
    "# Sample 2\n",
    "\n",
    "import time\n",
    "# Record the starting time\n",
    "start_time_mol2_output2 = time.time()\n",
    "# Given list of natural numbers\n",
    "numbers = [8, 1, 9, 2, 6]\n",
    "\n",
    "# Use slicing to extract elements at indices 3 through 7 (inclusive)\n",
    "result2 = numbers[3:8]\n",
    "\n",
    "# Print the result\n",
    "print(result2)\n",
    "\n",
    "# Assign the combined list to mod1_output1\n",
    "mod2_output2 = result2\n",
    "# Record the ending time\n",
    "end_time_mol2_output2 = time.time()\n",
    "# Calculate and print the execution time\n",
    "execution_time_mod2_output2 = end_time_mol2_output2 - start_time_mol2_output2\n",
    "print(f\"Execution time: {execution_time_mod2_output2} seconds\")"
   ]
  },
  {
   "cell_type": "code",
   "execution_count": 16,
   "id": "43c1b7ea-92c4-428f-842d-b5f0ef5353dd",
   "metadata": {},
   "outputs": [
    {
     "name": "stdout",
     "output_type": "stream",
     "text": [
      "[2]\n",
      "Execution time: 0.0 seconds\n"
     ]
    }
   ],
   "source": [
    "# Task ID: BIG-bench/c214\n",
    "# Code Snippet - FS\n",
    "# Model 2\n",
    "# Sample 3\n",
    "\n",
    "import time\n",
    "# Record the starting time\n",
    "start_time_mol2_output3 = time.time()\n",
    "\n",
    "# Given list of natural numbers\n",
    "numbers = [8, 1, 5, 2]\n",
    "\n",
    "# Use slicing to extract elements at indices 3 through 7 (inclusive)\n",
    "result = numbers[3:8]\n",
    "\n",
    "# Print the result\n",
    "print(result)\n",
    "# Record the ending time\n",
    "end_time_mol2_output3 = time.time()\n",
    "\n",
    "# Assign the combined list\n",
    "mod2_output3 = result\n",
    "\n",
    "# Calculate and print the execution time\n",
    "execution_time_mod2_output3 = end_time_mol1_output3 - start_time_mol1_output3\n",
    "print(f\"Execution time: {execution_time_mod1_output3} seconds\")"
   ]
  },
  {
   "cell_type": "code",
   "execution_count": 17,
   "id": "b235b1c9-3b3c-4bc0-9854-d0dbfe3560ea",
   "metadata": {},
   "outputs": [
    {
     "name": "stdout",
     "output_type": "stream",
     "text": [
      "Expected Output:  [[], [9, 2, 6], [5, 2]]\n",
      "Actual Output:  [[], [9, 2, 6], [5, 2]]\n",
      "                 Precision    Recall  F1 Score  Accuracy  Exact Match\n",
      "0                 0.000000  0.000000  0.000000  0.000000          1.0\n",
      "1                 1.000000  1.000000  1.000000  1.000000          1.0\n",
      "2                 1.000000  1.000000  1.000000  1.000000          1.0\n",
      "Model 1 Average   0.666667  0.666667  0.666667  0.666667          1.0\n"
     ]
    }
   ],
   "source": [
    "## Model 2 summary\n",
    "import pandas as pd\n",
    "def evaluate_list_metrics(expected_output, actual_output):\n",
    "    exact_match_accuracy = 1 if expected_output == actual_output else 0\n",
    "\n",
    "    # Calculate true positives\n",
    "    true_positives = sum(1 for i in range(min(len(expected_output), len(actual_output))) if expected_output[i] == actual_output[i])\n",
    "\n",
    "    # Calculate false positives\n",
    "    false_positives = sum(1 for i in range(len(actual_output)) if actual_output[i] not in expected_output)\n",
    "\n",
    "    # Calculate false negatives\n",
    "    false_negatives = sum(1 for i in range(len(expected_output)) if expected_output[i] != actual_output[i])\n",
    "\n",
    "    # Calculate precision, recall, and F1 score\n",
    "    precision = true_positives / (true_positives + false_positives) if true_positives + false_positives > 0 else 0\n",
    "    recall = true_positives / (true_positives + false_negatives) if true_positives + false_negatives > 0 else 0\n",
    "    f1_score = 2 * (precision * recall) / (precision + recall) if precision + recall > 0 else 0\n",
    "\n",
    "    # Calculate accuracy\n",
    "    if max(len(expected_output), len(actual_output)) > 0:\n",
    "        accuracy = sum(1 for i in range(len(expected_output)) if expected_output[i] == actual_output[i]) / max(len(expected_output), len(actual_output))\n",
    "    else:\n",
    "        accuracy = 0\n",
    "    return {\n",
    "        \"Precision\": precision,\n",
    "        \"Recall\": recall,\n",
    "        \"F1 Score\": f1_score,\n",
    "        \"Accuracy\": accuracy,\n",
    "        \"Exact Match\": exact_match_accuracy\n",
    "    }\n",
    "\n",
    "expected_outputs = [[], [9, 2, 6], [5, 2]]\n",
    "actual_outputs_mod1 = [mod1_output1, mod1_output2, mod1_output3]\n",
    "print(\"Expected Output: \", expected_outputs)\n",
    "print(\"Actual Output: \", actual_outputs_mod1)\n",
    "\n",
    "metrics1 = [evaluate_list_metrics(expected, actual) for expected, actual in zip(expected_outputs, actual_outputs_mod1)]\n",
    "\n",
    "# Create DataFrame directly from the list of dictionaries\n",
    "df_metrics1_new = pd.DataFrame(metrics1)\n",
    "\n",
    "# Calculate the average for precision, recall, F1 score, accuracy, and exact match\n",
    "avg_metrics1 = df_metrics1_new.mean(axis=0)\n",
    "avg_metrics1.name = 'Model 1 Average'\n",
    "\n",
    "# # Append the average row to the DataFrame\n",
    "# df_metrics1_new = df_metrics1_new.append(avg_metrics1)\n",
    "\n",
    "# Concatenate the average row to the DataFrame\n",
    "df_metrics1_new = pd.concat([df_metrics1_new, avg_metrics1.to_frame().transpose()])\n",
    "\n",
    "# Print the new DataFrame\n",
    "print(df_metrics1_new)"
   ]
  },
  {
   "cell_type": "code",
   "execution_count": 26,
   "id": "9e00037a-9f19-4699-995c-57145ddac173",
   "metadata": {},
   "outputs": [
    {
     "name": "stdout",
     "output_type": "stream",
     "text": [
      "[]\n",
      "Execution time: 0.0 seconds\n"
     ]
    }
   ],
   "source": [
    "# Task ID: BIG-bench/c14\n",
    "# Code Snippet - FS\n",
    "# Model 3\n",
    "# Sample 1\n",
    "\n",
    "import time\n",
    "# Record the starting time\n",
    "start_time_mol3_output1 = time.time()\n",
    "# input example\n",
    "input_list = [4, 1] # []\n",
    "# Target indices\n",
    "start_index = 3\n",
    "end_index = 7\n",
    "\n",
    "# Trimming the list to keep only elements at indices 3 through 7 (inclusive)\n",
    "input_list = input_list[start_index:end_index+1]\n",
    "\n",
    "print(input_list)\n",
    "# Record the ending time\n",
    "end_time_mol3_output1 = time.time()\n",
    "\n",
    "mod3_output1 = input_list\n",
    "\n",
    "# Calculate and print the execution time\n",
    "execution_time_mod3_output1 = end_time_mol3_output1 - start_time_mol3_output1\n",
    "print(f\"Execution time: {execution_time_mod3_output1} seconds\")"
   ]
  },
  {
   "cell_type": "code",
   "execution_count": 27,
   "id": "a26d2875-2ae9-4f6a-bd98-84f76d3a6e4e",
   "metadata": {},
   "outputs": [
    {
     "name": "stdout",
     "output_type": "stream",
     "text": [
      "[2, 6]\n",
      "Execution time: 0.0009970664978027344 seconds\n"
     ]
    }
   ],
   "source": [
    "# Task ID: BIG-bench/c14\n",
    "# Code Snippet - FS\n",
    "# Model 3\n",
    "# Sample 2\n",
    "\n",
    "# Record the starting time\n",
    "start_time_mol3_output2 = time.time()\n",
    "# input example\n",
    "input_list = [8, 1, 9, 2, 6] # [9, 2, 6]\n",
    "# Target indices\n",
    "start_index = 3\n",
    "end_index = 7\n",
    "\n",
    "# Trimming the list to keep only elements at indices 3 through 7 (inclusive)\n",
    "input_list = input_list[start_index:end_index+1]\n",
    "\n",
    "print(input_list)\n",
    "\n",
    "# Assign the combined list to mod2_output2\n",
    "mod3_output2 = input_list\n",
    "# Record the ending time\n",
    "end_time_mol3_output2 = time.time()\n",
    "\n",
    "# Calculate and print the execution time\n",
    "execution_time_mod3_output2 = end_time_mol3_output2 - start_time_mol3_output2\n",
    "print(f\"Execution time: {execution_time_mod3_output2} seconds\")"
   ]
  },
  {
   "cell_type": "code",
   "execution_count": 28,
   "id": "603af7f5-e602-4613-b718-4d6df1870a17",
   "metadata": {},
   "outputs": [
    {
     "name": "stdout",
     "output_type": "stream",
     "text": [
      "[2]\n",
      "Execution time: 0.0010280609130859375 seconds\n"
     ]
    }
   ],
   "source": [
    "# Task ID: BIG-bench/c14\n",
    "# Code Snippet - FS\n",
    "# Model 3\n",
    "# Sample 3\n",
    "\n",
    "import time\n",
    "# Record the starting time\n",
    "start_time_mol3_output3 = time.time()\n",
    "# input example\n",
    "input_list = [8, 1, 5, 2] # [5, 2]\n",
    "# Target indices\n",
    "start_index = 3\n",
    "end_index = 7\n",
    "\n",
    "# Trimming the list to keep only elements at indices 3 through 7 (inclusive)\n",
    "input_list = input_list[start_index:end_index+1]\n",
    "\n",
    "print(input_list)\n",
    "# Record the ending time\n",
    "end_time_mol3_output3 = time.time()\n",
    "\n",
    "\n",
    "mod3_output3 = input_list\n",
    "\n",
    "# Calculate and print the execution time\n",
    "execution_time_mod3_output3 = end_time_mol3_output3 - start_time_mol3_output3\n",
    "print(f\"Execution time: {execution_time_mod3_output3} seconds\")"
   ]
  },
  {
   "cell_type": "code",
   "execution_count": 33,
   "id": "e76b5fb4-120a-4bdd-b45b-f28d977dbd0a",
   "metadata": {},
   "outputs": [
    {
     "name": "stdout",
     "output_type": "stream",
     "text": [
      "Expected Output:  [[], [9, 2, 6], [5, 2]]\n",
      "Actual Output:  [[], [2, 6], [2]]\n",
      "                 Precision    Recall  F1 Score  Accuracy  Exact Match\n",
      "0                 1.000000  1.000000  1.000000  1.000000     1.000000\n",
      "1                 0.000000  0.000000  0.000000  0.000000     0.000000\n",
      "2                 0.000000  0.000000  0.000000  0.000000     0.000000\n",
      "Model 1 Average   0.333333  0.333333  0.333333  0.333333     0.333333\n"
     ]
    }
   ],
   "source": [
    "## Model 3 summary\n",
    "\n",
    "import pandas as pd\n",
    "\n",
    "def evaluate_list_metrics(expected_output, actual_output):\n",
    "    exact_match_accuracy = 1 if expected_output == actual_output else 0\n",
    "\n",
    "    # Calculate true positives\n",
    "    true_positives = sum(1 for i in range(min(len(expected_output), len(actual_output))) if expected_output[i] == actual_output[i])\n",
    "\n",
    "    # If exact match is 1, set other metrics accordingly\n",
    "    if exact_match_accuracy == 1:\n",
    "        precision = recall = f1_score = accuracy = 1\n",
    "    else:\n",
    "        # Calculate false positives\n",
    "        false_positives = sum(1 for i in range(len(actual_output)) if actual_output[i] not in expected_output)\n",
    "\n",
    "        # Calculate false negatives\n",
    "        false_negatives = sum(1 for i in range(min(len(expected_output), len(actual_output))) if expected_output[i] != actual_output[i])\n",
    "\n",
    "        # Calculate precision, recall, and F1 score\n",
    "        precision = true_positives / (true_positives + false_positives) if true_positives + false_positives > 0 else 0\n",
    "        recall = true_positives / (true_positives + false_negatives) if true_positives + false_negatives > 0 else 0\n",
    "        f1_score = 2 * (precision * recall) / (precision + recall) if precision + recall > 0 else 0\n",
    "\n",
    "        # Calculate accuracy\n",
    "        if max(len(expected_output), len(actual_output)) > 0:\n",
    "            accuracy = sum(1 for i in range(min(len(expected_output), len(actual_output))) if expected_output[i] == actual_output[i]) / max(len(expected_output), len(actual_output))\n",
    "        else:\n",
    "            accuracy = 0\n",
    "    \n",
    "    return {\n",
    "        \"Precision\": precision,\n",
    "        \"Recall\": recall,\n",
    "        \"F1 Score\": f1_score,\n",
    "        \"Accuracy\": accuracy,\n",
    "        \"Exact Match\": exact_match_accuracy\n",
    "    }\n",
    "\n",
    "expected_outputs = [[], [9, 2, 6], [5, 2]]\n",
    "actual_outputs_mod1 = [[], [2, 6], [2]]\n",
    "\n",
    "print(\"Expected Output: \", expected_outputs)\n",
    "print(\"Actual Output: \", actual_outputs_mod1)\n",
    "\n",
    "metrics1 = [evaluate_list_metrics(expected, actual) for expected, actual in zip(expected_outputs, actual_outputs_mod1)]\n",
    "\n",
    "# Create DataFrame directly from the list of dictionaries\n",
    "df_metrics1_new = pd.DataFrame(metrics1)\n",
    "\n",
    "# Calculate the average for precision, recall, F1 score, accuracy, and exact match\n",
    "avg_metrics1 = df_metrics1_new.mean(axis=0)\n",
    "avg_metrics1.name = 'Model 1 Average'\n",
    "\n",
    "# Concatenate the average row to the DataFrame\n",
    "df_metrics1_new = pd.concat([df_metrics1_new, avg_metrics1.to_frame().transpose()])\n",
    "\n",
    "# Print the new DataFrame\n",
    "print(df_metrics1_new)\n"
   ]
  },
  {
   "cell_type": "code",
   "execution_count": null,
   "id": "42213d17-def2-4eeb-9e88-2a59fb36956a",
   "metadata": {},
   "outputs": [],
   "source": []
  }
 ],
 "metadata": {
  "kernelspec": {
   "display_name": "Python 3 (ipykernel)",
   "language": "python",
   "name": "python3"
  },
  "language_info": {
   "codemirror_mode": {
    "name": "ipython",
    "version": 3
   },
   "file_extension": ".py",
   "mimetype": "text/x-python",
   "name": "python",
   "nbconvert_exporter": "python",
   "pygments_lexer": "ipython3",
   "version": "3.11.7"
  }
 },
 "nbformat": 4,
 "nbformat_minor": 5
}
