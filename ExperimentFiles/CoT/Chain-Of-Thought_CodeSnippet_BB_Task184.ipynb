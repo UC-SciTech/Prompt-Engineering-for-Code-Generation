{
 "cells": [
  {
   "cell_type": "markdown",
   "id": "472b7b3f",
   "metadata": {},
   "source": [
    "<h2 style='text-align: center;'> Technology Capstone Research Project PG (11522) </h2>\n",
    "<h3 style='text-align: center;'> Project ID: 2024-S1-50 </h3>\n",
    "<h3 style='text-align: center;'> Group ID: 11522-24S1-41 </h3>\n",
    "<h4 style='text-align: center;'> Member: MD Alvee Rohan - U3235512 </h4>\n",
    "<h4 style='text-align: center;'> Prompt Technique: Chain of Thought </h4>"
   ]
  },
  {
   "cell_type": "markdown",
   "id": "42fac9a4",
   "metadata": {},
   "source": [
    "### Revised Prompt for CoT\n",
    "\n",
    "### BIG-bench\\\\ c184\n",
    "Write a Python code snippet that does not use a function or function definition to filter elements from a list of natural numbers based on specific conditions. Let's think step by step: \n",
    "\n",
    "1. Iterate Through the List: Loop through the list of natural numbers.\n",
    "\n",
    "2. Check Conditions: For each element, check if it is an odd number and if its index is even.\n",
    "\n",
    "3. Filter Elements: Keep only the elements that satisfy both conditions.\n",
    "\n",
    "4. Return Result: Return the modified list containing only odd numbers with even indices."
   ]
  },
  {
   "cell_type": "code",
   "execution_count": 1,
   "id": "dc39f32a-5f88-4f5c-ab56-55c0ee0b374d",
   "metadata": {},
   "outputs": [
    {
     "name": "stdout",
     "output_type": "stream",
     "text": [
      "[3, 9]\n",
      "Execution time: 0.0 seconds\n"
     ]
    }
   ],
   "source": [
    "# Task ID: BIG-bench/c184\n",
    "# Code Snippet - CoT\n",
    "# Model 1\n",
    "# Sample 1\n",
    "\n",
    "import time\n",
    "# Record the starting time\n",
    "start_time_mol1_output1 = time.time()\n",
    "# input list of natural numbers\n",
    "numbers = [3, 52, 8, 1, 48, 95, 4, 47, 9, 66]\n",
    "\n",
    "# Iterate through the list and filter elements based on conditions\n",
    "filtered_numbers = [num for idx, num in enumerate(numbers) if num % 2 != 0 and idx % 2 == 0]\n",
    "\n",
    "# Print the filtered list\n",
    "print(filtered_numbers)\n",
    "# Assign the combined list to mod1_output1\n",
    "mod1_output1 = filtered_numbers\n",
    "# Record the ending time\n",
    "end_time_mol1_output1 = time.time()\n",
    "# Calculate and print the execution time\n",
    "execution_time_mod1_output1 = end_time_mol1_output1 - start_time_mol1_output1\n",
    "print(f\"Execution time: {execution_time_mod1_output1} seconds\")\n"
   ]
  },
  {
   "cell_type": "code",
   "execution_count": 2,
   "id": "f2b6fb8b-2304-4dfb-9b58-ae6d5d712ac3",
   "metadata": {},
   "outputs": [
    {
     "name": "stdout",
     "output_type": "stream",
     "text": [
      "[9, 7]\n",
      "Execution time: 0.001008749008178711 seconds\n"
     ]
    }
   ],
   "source": [
    "# Task ID: BIG-bench/c184\n",
    "# Code Snippet - CoT\n",
    "# Model 1\n",
    "# Sample 2\n",
    "\n",
    "import time\n",
    "\n",
    "# Record the starting time\n",
    "start_time_mol1_output2 = time.time()\n",
    "numbers = [56, 57, 96, 71, 9, 5, 7, 4, 6, 3]\n",
    "# Iterate through the list and filter elements based on conditions\n",
    "filtered_numbers = [num for idx, num in enumerate(numbers) if num % 2 != 0 and idx % 2 == 0]\n",
    "\n",
    "# Print the filtered list\n",
    "print(filtered_numbers)\n",
    "\n",
    "# Assign the combined list to mod1_output1\n",
    "mod1_output2 = filtered_numbers\n",
    "# Record the ending time\n",
    "end_time_mol1_output2 = time.time()\n",
    "\n",
    "# Calculate and print the execution time\n",
    "execution_time_mod1_output2 = end_time_mol1_output2 - start_time_mol1_output2\n",
    "print(f\"Execution time: {execution_time_mod1_output2} seconds\")"
   ]
  },
  {
   "cell_type": "code",
   "execution_count": 3,
   "id": "9d424368-7e39-4091-894b-a357bf685191",
   "metadata": {},
   "outputs": [
    {
     "name": "stdout",
     "output_type": "stream",
     "text": [
      "[93, 57, 3]\n",
      "Execution time: 0.0 seconds\n"
     ]
    }
   ],
   "source": [
    "# Task ID: BIG-bench/c184\n",
    "# Code Snippet - CoT\n",
    "# Model 1\n",
    "# Sample 3\n",
    "\n",
    "import time\n",
    "\n",
    "# Record the starting time\n",
    "start_time_mol1_output3 = time.time()\n",
    "\n",
    "numbers = [93, 35, 57, 1, 8, 91, 6, 7, 3, 19]\n",
    "# Iterate through the list and filter elements based on conditions\n",
    "filtered_numbers = [num for idx, num in enumerate(numbers) if num % 2 != 0 and idx % 2 == 0]\n",
    "\n",
    "# Print the filtered list\n",
    "print(filtered_numbers)\n",
    "# Assign the combined list to mod1_output1\n",
    "mod1_output3 = filtered_numbers\n",
    "# Record the ending time\n",
    "end_time_mol1_output3 = time.time()\n",
    "\n",
    "# Calculate and print the execution time\n",
    "execution_time_mod1_output3 = end_time_mol1_output3 - start_time_mol1_output3\n",
    "print(f\"Execution time: {execution_time_mod1_output3} seconds\")"
   ]
  },
  {
   "cell_type": "code",
   "execution_count": 4,
   "id": "9f49df07-7947-4f31-8337-6ee71cfc8c1c",
   "metadata": {},
   "outputs": [
    {
     "name": "stdout",
     "output_type": "stream",
     "text": [
      "Expected Output:  [[1, 95, 47], [57, 71, 5, 3], [35, 1, 91, 7, 19]]\n",
      "Actual Output:  [[3, 9], [9, 7], [93, 57, 3]]\n",
      "                 Precision  Recall  F1 Score  Accuracy  Exact Match\n",
      "0                      0.0     0.0       0.0       0.0          0.0\n",
      "1                      0.0     0.0       0.0       0.0          0.0\n",
      "2                      0.0     0.0       0.0       0.0          0.0\n",
      "Model 1 Average        0.0     0.0       0.0       0.0          0.0\n"
     ]
    }
   ],
   "source": [
    "## Model 1 summary\n",
    "\n",
    "import pandas as pd\n",
    "def evaluate_list_metrics(expected_output, actual_output):\n",
    "    exact_match_accuracy = 1 if expected_output == actual_output else 0\n",
    "\n",
    "    # Calculate true positives\n",
    "    min_len = min(len(expected_output), len(actual_output))\n",
    "    true_positives = sum(1 for i in range(min_len) if expected_output[i] == actual_output[i])\n",
    "\n",
    "    # Calculate false positives\n",
    "    false_positives = sum(1 for item in actual_output if item not in expected_output)\n",
    "\n",
    "    # Calculate false negatives\n",
    "    false_negatives = sum(1 for item in expected_output if item not in actual_output)\n",
    "\n",
    "    # Calculate precision, recall, and F1 score\n",
    "    precision = true_positives / (true_positives + false_positives) if true_positives + false_positives > 0 else 0\n",
    "    recall = true_positives / (true_positives + false_negatives) if true_positives + false_negatives > 0 else 0\n",
    "    f1_score = 2 * (precision * recall) / (precision + recall) if precision + recall > 0 else 0\n",
    "\n",
    "    # Calculate accuracy\n",
    "    accuracy = sum(1 for i in range(min_len) if expected_output[i] == actual_output[i]) / max(len(expected_output), len(actual_output))\n",
    "\n",
    "    return {\n",
    "        \"Precision\": precision,\n",
    "        \"Recall\": recall,\n",
    "        \"F1 Score\": f1_score,\n",
    "        \"Accuracy\": accuracy,\n",
    "        \"Exact Match\": exact_match_accuracy\n",
    "    }\n",
    "\n",
    "\n",
    "expected_outputs = [[1, 95, 47], [57, 71, 5, 3], [35, 1, 91, 7, 19]]\n",
    "actual_outputs_mod1 = [mod1_output1, mod1_output2, mod1_output3]\n",
    "print(\"Expected Output: \", expected_outputs)\n",
    "print(\"Actual Output: \", actual_outputs_mod1)\n",
    "\n",
    "metrics1 = [evaluate_list_metrics(expected, actual) for expected, actual in zip(expected_outputs, actual_outputs_mod1)]\n",
    "\n",
    "# Create DataFrame directly from the list of dictionaries\n",
    "df_metrics1_new = pd.DataFrame(metrics1)\n",
    "\n",
    "# Calculate the average for precision, recall, F1 score, accuracy, and exact match\n",
    "avg_metrics1 = df_metrics1_new.mean(axis=0)\n",
    "avg_metrics1.name = 'Model 1 Average'\n",
    "\n",
    "# # Append the average row to the DataFrame\n",
    "# df_metrics1_new = df_metrics1_new.append(avg_metrics1)\n",
    "\n",
    "# Concatenate the average row to the DataFrame\n",
    "df_metrics1_new = pd.concat([df_metrics1_new, avg_metrics1.to_frame().transpose()])\n",
    "\n",
    "# Print the new DataFrame\n",
    "print(df_metrics1_new)"
   ]
  },
  {
   "cell_type": "code",
   "execution_count": 6,
   "id": "74fab1d1-9471-478b-a4d6-cf9c4b57b50d",
   "metadata": {},
   "outputs": [
    {
     "name": "stdout",
     "output_type": "stream",
     "text": [
      "[3, 9]\n",
      "Execution time: 0.0 seconds\n"
     ]
    }
   ],
   "source": [
    "# Task ID: BIG-bench/c184\n",
    "# Code Snippet - CoT\n",
    "# Model 2\n",
    "# Sample 1\n",
    "\n",
    "import time\n",
    "# Record the starting time\n",
    "start_time_mol2_output1 = time.time()\n",
    "# input list of natural numbers\n",
    "numbers = [3, 52, 8, 1, 48, 95, 4, 47, 9, 66]\n",
    "\n",
    "# Initialize an empty list to store filtered numbers\n",
    "filtered_numbers = []\n",
    "\n",
    "# Loop through the list and filter elements based on conditions\n",
    "for idx, num in enumerate(numbers):\n",
    "    if num % 2 != 0 and idx % 2 == 0:\n",
    "        filtered_numbers.append(num)\n",
    "\n",
    "# Print the filtered list\n",
    "print(filtered_numbers)\n",
    "\n",
    "# Assign the combined list to mod1_output1\n",
    "mod2_output1 = filtered_numbers\n",
    "# Record the ending time\n",
    "end_time_mol2_output1 = time.time()\n",
    "# Calculate and print the execution time\n",
    "execution_time_mod2_output1 = end_time_mol2_output1 - start_time_mol2_output1\n",
    "print(f\"Execution time: {execution_time_mod2_output1} seconds\")"
   ]
  },
  {
   "cell_type": "code",
   "execution_count": 7,
   "id": "1cb8e2ed-05f1-4736-a3f3-4c773d7dc5f5",
   "metadata": {},
   "outputs": [
    {
     "name": "stdout",
     "output_type": "stream",
     "text": [
      "[9, 7]\n",
      "Execution time: 0.0 seconds\n"
     ]
    }
   ],
   "source": [
    "# Task ID: BIG-bench/c184\n",
    "# Code Snippet - CoT\n",
    "# Model 2\n",
    "# Sample 2\n",
    "\n",
    "import time\n",
    "# Record the starting time\n",
    "start_time_mol2_output2 = time.time()\n",
    "\n",
    "numbers = [56, 57, 96, 71, 9, 5, 7, 4, 6, 3]\n",
    "# Initialize an empty list to store filtered numbers\n",
    "filtered_numbers = []\n",
    "\n",
    "# Loop through the list and filter elements based on conditions\n",
    "for idx, num in enumerate(numbers):\n",
    "    if num % 2 != 0 and idx % 2 == 0:\n",
    "        filtered_numbers.append(num)\n",
    "\n",
    "# Print the filtered list\n",
    "print(filtered_numbers)\n",
    "# Assign the combined list to mod2_output2\n",
    "mod2_output2 = filtered_numbers\n",
    "# Record the ending time\n",
    "end_time_mol2_output2 = time.time()\n",
    "\n",
    "# Calculate and print the execution time\n",
    "execution_time_mod2_output2 = end_time_mol2_output2 - start_time_mol2_output2\n",
    "print(f\"Execution time: {execution_time_mod2_output2} seconds\")"
   ]
  },
  {
   "cell_type": "code",
   "execution_count": 8,
   "id": "58e48fbc-2cce-4ec3-a71f-6fb566ee13f1",
   "metadata": {},
   "outputs": [
    {
     "name": "stdout",
     "output_type": "stream",
     "text": [
      "[93, 57, 3]\n",
      "Execution time: 0.0 seconds\n"
     ]
    }
   ],
   "source": [
    "# Task ID: BIG-bench/c184\n",
    "# Code Snippet - CoT\n",
    "# Model 2\n",
    "# Sample 3\n",
    "\n",
    "import time\n",
    "# Record the starting time\n",
    "start_time_mol2_output3 = time.time()\n",
    "numbers = [93, 35, 57, 1, 8, 91, 6, 7, 3, 19]\n",
    "\n",
    "# Initialize an empty list to store filtered numbers\n",
    "filtered_numbers = []\n",
    "\n",
    "# Loop through the list and filter elements based on conditions\n",
    "for idx, num in enumerate(numbers):\n",
    "    if num % 2 != 0 and idx % 2 == 0:\n",
    "        filtered_numbers.append(num)\n",
    "\n",
    "# Print the filtered list\n",
    "print(filtered_numbers)\n",
    "# Record the ending time\n",
    "end_time_mol2_output3 = time.time()\n",
    "\n",
    "# Assign the combined list\n",
    "mod2_output3 = filtered_numbers\n",
    "\n",
    "# Calculate and print the execution time\n",
    "execution_time_mod2_output3 = end_time_mol1_output3 - start_time_mol1_output3\n",
    "print(f\"Execution time: {execution_time_mod1_output3} seconds\")"
   ]
  },
  {
   "cell_type": "code",
   "execution_count": 9,
   "id": "b7b6f74e-faba-4787-86e9-a82dc9609ce3",
   "metadata": {},
   "outputs": [
    {
     "name": "stdout",
     "output_type": "stream",
     "text": [
      "Expected Output:  [[1, 2, 2, 2, 1], [4, 5], [5]]\n",
      "Actual Output:  [[3, 9], [9, 7], [93, 57, 3]]\n",
      "                 Precision  Recall  F1 Score  Accuracy  Exact Match\n",
      "0                      0.0     0.0       0.0       0.0          0.0\n",
      "1                      0.0     0.0       0.0       0.0          0.0\n",
      "2                      0.0     0.0       0.0       0.0          0.0\n",
      "Model 1 Average        0.0     0.0       0.0       0.0          0.0\n"
     ]
    }
   ],
   "source": [
    "## Model 2 summary\n",
    "\n",
    "import pandas as pd\n",
    "def evaluate_list_metrics(expected_output, actual_output):\n",
    "    exact_match_accuracy = 1 if expected_output == actual_output else 0\n",
    "\n",
    "    # Calculate true positives\n",
    "    min_len = min(len(expected_output), len(actual_output))\n",
    "    true_positives = sum(1 for i in range(min_len) if expected_output[i] == actual_output[i])\n",
    "\n",
    "    # Calculate false positives\n",
    "    false_positives = sum(1 for item in actual_output if item not in expected_output)\n",
    "\n",
    "    # Calculate false negatives\n",
    "    false_negatives = sum(1 for item in expected_output if item not in actual_output)\n",
    "\n",
    "    # Calculate precision, recall, and F1 score\n",
    "    precision = true_positives / (true_positives + false_positives) if true_positives + false_positives > 0 else 0\n",
    "    recall = true_positives / (true_positives + false_negatives) if true_positives + false_negatives > 0 else 0\n",
    "    f1_score = 2 * (precision * recall) / (precision + recall) if precision + recall > 0 else 0\n",
    "\n",
    "    # Calculate accuracy\n",
    "    accuracy = sum(1 for i in range(min_len) if expected_output[i] == actual_output[i]) / max(len(expected_output), len(actual_output))\n",
    "\n",
    "    return {\n",
    "        \"Precision\": precision,\n",
    "        \"Recall\": recall,\n",
    "        \"F1 Score\": f1_score,\n",
    "        \"Accuracy\": accuracy,\n",
    "        \"Exact Match\": exact_match_accuracy\n",
    "    }\n",
    "\n",
    "expected_outputs = [[1, 2, 2, 2, 1], [4, 5], [5]]\n",
    "actual_outputs_mod1 = [mod1_output1, mod1_output2, mod1_output3]\n",
    "print(\"Expected Output: \", expected_outputs)\n",
    "print(\"Actual Output: \", actual_outputs_mod1)\n",
    "\n",
    "metrics1 = [evaluate_list_metrics(expected, actual) for expected, actual in zip(expected_outputs, actual_outputs_mod1)]\n",
    "\n",
    "# Create DataFrame directly from the list of dictionaries\n",
    "df_metrics1_new = pd.DataFrame(metrics1)\n",
    "\n",
    "# Calculate the average for precision, recall, F1 score, accuracy, and exact match\n",
    "avg_metrics1 = df_metrics1_new.mean(axis=0)\n",
    "avg_metrics1.name = 'Model 1 Average'\n",
    "\n",
    "# # Append the average row to the DataFrame\n",
    "# df_metrics1_new = df_metrics1_new.append(avg_metrics1)\n",
    "\n",
    "# Concatenate the average row to the DataFrame\n",
    "df_metrics1_new = pd.concat([df_metrics1_new, avg_metrics1.to_frame().transpose()])\n",
    "\n",
    "# Print the new DataFrame\n",
    "print(df_metrics1_new)"
   ]
  },
  {
   "cell_type": "code",
   "execution_count": 5,
   "id": "f3befe4d-d642-4ef6-87e0-3b7f93e6fa61",
   "metadata": {},
   "outputs": [
    {
     "name": "stdout",
     "output_type": "stream",
     "text": [
      "[3, 9]\n",
      "Execution time: 0.0 seconds\n"
     ]
    }
   ],
   "source": [
    "# Task ID: BIG-bench/c184\n",
    "# Code Snippet - CoT\n",
    "# Model 3\n",
    "# Sample 1\n",
    "\n",
    "import time\n",
    "# Record the starting time\n",
    "start_time_mol3_output1 = time.time()\n",
    "\n",
    "# input list of natural numbers\n",
    "numbers = [3, 52, 8, 1, 48, 95, 4, 47, 9, 66]\n",
    "\n",
    "# Initialize index counter\n",
    "idx = 0\n",
    "\n",
    "# Initialize an empty list to store filtered numbers\n",
    "filtered_numbers = []\n",
    "\n",
    "# Loop through the list and filter elements based on conditions using a while loop\n",
    "while idx < len(numbers):\n",
    "    if numbers[idx] % 2 != 0 and idx % 2 == 0:\n",
    "        filtered_numbers.append(numbers[idx])\n",
    "    idx += 1\n",
    "\n",
    "# Print the filtered list\n",
    "print(filtered_numbers)\n",
    "\n",
    "# Record the ending time\n",
    "end_time_mol3_output1 = time.time()\n",
    "\n",
    "\n",
    "mod3_output1 = filtered_numbers\n",
    "\n",
    "# Calculate and print the execution time\n",
    "execution_time_mod3_output1 = end_time_mol3_output1 - start_time_mol3_output1\n",
    "print(f\"Execution time: {execution_time_mod3_output1} seconds\")"
   ]
  },
  {
   "cell_type": "code",
   "execution_count": 6,
   "id": "2ce9a308-d5c1-41c5-ae3e-4afb4096c210",
   "metadata": {},
   "outputs": [
    {
     "name": "stdout",
     "output_type": "stream",
     "text": [
      "[3, 9]\n",
      "Execution time: 0.000997304916381836 seconds\n"
     ]
    }
   ],
   "source": [
    "# Task ID: BIG-bench/c184\n",
    "# Code Snippet - CoT\n",
    "# Model 3\n",
    "# Sample 2\n",
    "\n",
    "import time\n",
    "# Record the starting time\n",
    "start_time_mol3_output2 = time.time()\n",
    "nnumbers = [56, 57, 96, 71, 9, 5, 7, 4, 6, 3]\n",
    "\n",
    "# Initialize index counter\n",
    "idx = 0\n",
    "\n",
    "# Initialize an empty list to store filtered numbers\n",
    "filtered_numbers = []\n",
    "\n",
    "# Loop through the list and filter elements based on conditions using a while loop\n",
    "while idx < len(numbers):\n",
    "    if numbers[idx] % 2 != 0 and idx % 2 == 0:\n",
    "        filtered_numbers.append(numbers[idx])\n",
    "    idx += 1\n",
    "\n",
    "# Print the filtered list\n",
    "print(filtered_numbers)\n",
    "# Assign the combined list to mod2_output2\n",
    "mod3_output2 = filtered_numbers\n",
    "# Record the ending time\n",
    "end_time_mol3_output2 = time.time()\n",
    "\n",
    "# Calculate and print the execution time\n",
    "execution_time_mod3_output2 = end_time_mol3_output2 - start_time_mol3_output2\n",
    "print(f\"Execution time: {execution_time_mod3_output2} seconds\")"
   ]
  },
  {
   "cell_type": "code",
   "execution_count": 7,
   "id": "16654f23-99fc-4c36-a685-643b1635fec0",
   "metadata": {},
   "outputs": [
    {
     "name": "stdout",
     "output_type": "stream",
     "text": [
      "[93, 57, 3]\n",
      "Execution time: 0.001070261001586914 seconds\n"
     ]
    }
   ],
   "source": [
    "# Task ID: BIG-bench/c184\n",
    "# Code Snippet - CoT\n",
    "# Model 3\n",
    "# Sample 3\n",
    "\n",
    "import time\n",
    "# Record the starting time\n",
    "start_time_mol3_output3 = time.time()\n",
    "\n",
    "numbers = [93, 35, 57, 1, 8, 91, 6, 7, 3, 19]\n",
    "# Initialize index counter\n",
    "idx = 0\n",
    "\n",
    "# Initialize an empty list to store filtered numbers\n",
    "filtered_numbers = []\n",
    "\n",
    "# Loop through the list and filter elements based on conditions using a while loop\n",
    "while idx < len(numbers):\n",
    "    if numbers[idx] % 2 != 0 and idx % 2 == 0:\n",
    "        filtered_numbers.append(numbers[idx])\n",
    "    idx += 1\n",
    "\n",
    "# Print the filtered list\n",
    "print(filtered_numbers)\n",
    "# Record the ending time\n",
    "end_time_mol3_output3 = time.time()\n",
    "\n",
    "\n",
    "mod3_output3 = filtered_numbers\n",
    "\n",
    "# Calculate and print the execution time\n",
    "execution_time_mod3_output3 = end_time_mol3_output3 - start_time_mol3_output3\n",
    "print(f\"Execution time: {execution_time_mod3_output3} seconds\")\n"
   ]
  },
  {
   "cell_type": "code",
   "execution_count": 8,
   "id": "21ff98ab-d25c-46b2-929e-cf71ed76ed54",
   "metadata": {},
   "outputs": [
    {
     "name": "stdout",
     "output_type": "stream",
     "text": [
      "Expected Output:  [[1, 2, 2, 2, 1], [4, 5], [5]]\n",
      "Actual Output:  [[3, 9], [3, 9], [93, 57, 3]]\n",
      "                 Precision  Recall  F1 Score  Accuracy  Exact Match\n",
      "0                      0.0     0.0       0.0       0.0          0.0\n",
      "1                      0.0     0.0       0.0       0.0          0.0\n",
      "2                      0.0     0.0       0.0       0.0          0.0\n",
      "Model 1 Average        0.0     0.0       0.0       0.0          0.0\n"
     ]
    }
   ],
   "source": [
    "## Model 3 summary\n",
    "\n",
    "import pandas as pd\n",
    "def evaluate_list_metrics(expected_output, actual_output):\n",
    "    exact_match_accuracy = 1 if expected_output == actual_output else 0\n",
    "\n",
    "    # Calculate true positives\n",
    "    min_len = min(len(expected_output), len(actual_output))\n",
    "    true_positives = sum(1 for i in range(min_len) if expected_output[i] == actual_output[i])\n",
    "\n",
    "    # Calculate false positives\n",
    "    false_positives = sum(1 for item in actual_output if item not in expected_output)\n",
    "\n",
    "    # Calculate false negatives\n",
    "    false_negatives = sum(1 for item in expected_output if item not in actual_output)\n",
    "\n",
    "    # Calculate precision, recall, and F1 score\n",
    "    precision = true_positives / (true_positives + false_positives) if true_positives + false_positives > 0 else 0\n",
    "    recall = true_positives / (true_positives + false_negatives) if true_positives + false_negatives > 0 else 0\n",
    "    f1_score = 2 * (precision * recall) / (precision + recall) if precision + recall > 0 else 0\n",
    "\n",
    "    # Calculate accuracy\n",
    "    accuracy = sum(1 for i in range(min_len) if expected_output[i] == actual_output[i]) / max(len(expected_output), len(actual_output))\n",
    "\n",
    "    return {\n",
    "        \"Precision\": precision,\n",
    "        \"Recall\": recall,\n",
    "        \"F1 Score\": f1_score,\n",
    "        \"Accuracy\": accuracy,\n",
    "        \"Exact Match\": exact_match_accuracy\n",
    "    }\n",
    "\n",
    "expected_outputs = [[1, 2, 2, 2, 1], [4, 5], [5]]\n",
    "actual_outputs_mod1 = [mod3_output1, mod3_output2, mod3_output3]\n",
    "print(\"Expected Output: \", expected_outputs)\n",
    "print(\"Actual Output: \", actual_outputs_mod1)\n",
    "\n",
    "metrics1 = [evaluate_list_metrics(expected, actual) for expected, actual in zip(expected_outputs, actual_outputs_mod1)]\n",
    "\n",
    "# Create DataFrame directly from the list of dictionaries\n",
    "df_metrics1_new = pd.DataFrame(metrics1)\n",
    "\n",
    "# Calculate the average for precision, recall, F1 score, accuracy, and exact match\n",
    "avg_metrics1 = df_metrics1_new.mean(axis=0)\n",
    "avg_metrics1.name = 'Model 1 Average'\n",
    "\n",
    "# # Append the average row to the DataFrame\n",
    "# df_metrics1_new = df_metrics1_new.append(avg_metrics1)\n",
    "\n",
    "# Concatenate the average row to the DataFrame\n",
    "df_metrics1_new = pd.concat([df_metrics1_new, avg_metrics1.to_frame().transpose()])\n",
    "\n",
    "# Print the new DataFrame\n",
    "print(df_metrics1_new)"
   ]
  },
  {
   "cell_type": "code",
   "execution_count": null,
   "id": "eab35557",
   "metadata": {},
   "outputs": [],
   "source": []
  }
 ],
 "metadata": {
  "kernelspec": {
   "display_name": "Python 3 (ipykernel)",
   "language": "python",
   "name": "python3"
  },
  "language_info": {
   "codemirror_mode": {
    "name": "ipython",
    "version": 3
   },
   "file_extension": ".py",
   "mimetype": "text/x-python",
   "name": "python",
   "nbconvert_exporter": "python",
   "pygments_lexer": "ipython3",
   "version": "3.11.7"
  }
 },
 "nbformat": 4,
 "nbformat_minor": 5
}
