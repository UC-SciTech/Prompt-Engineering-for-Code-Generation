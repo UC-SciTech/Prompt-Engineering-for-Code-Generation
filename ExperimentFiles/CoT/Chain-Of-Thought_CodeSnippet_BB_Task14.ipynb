{
 "cells": [
  {
   "cell_type": "markdown",
   "id": "a8ec2acc-cec6-4022-b139-04728e1e855d",
   "metadata": {
    "id": "3uDmMmdDo9CA"
   },
   "source": [
    "<h2 style='text-align: center;'> Technology Capstone Research Project PG (11522) </h2>\n",
    "<h3 style='text-align: center;'> Project ID: 2024-S1-50 </h3>\n",
    "<h3 style='text-align: center;'> Group ID: 11522-24S1-41 </h3>\n",
    "<h4 style='text-align: center;'> Member: MD Alvee Rohan - U3235512 </h4>\n",
    "<h4 style='text-align: center;'> Prompt Technique: Chain of Thought </h4>"
   ]
  },
  {
   "cell_type": "markdown",
   "id": "1a07e91d-fb03-4cc3-add6-3381cf363233",
   "metadata": {
    "id": "d26b4d04-d7ed-4698-8d87-63e7fd3dc90d"
   },
   "source": [
    "### Revised Prompt for CoT\n",
    "\n",
    "### BIG-bench\\\\ c14\n",
    "Write a Python code snippet that does not use a function or function definition to filter elements from a list of natural numbers based on specific index criteria. Let's think step by step:\n",
    "\n",
    "1. Check List Length: Determine if the length of the list is at least 7.\n",
    "\n",
    "2. Filter Elements: If the list has 7 or more elements, keep only the elements at indices 3 through 7 (inclusive).\n",
    "\n",
    "3. Handle Shorter Lists: If the list has fewer than 7 elements, keep only the elements that exist within the range of indices specified (3 through min(7, length_of_list)).\n",
    "\n",
    "4. Return Result: Return the modified list containing only the selected elements."
   ]
  },
  {
   "cell_type": "code",
   "execution_count": null,
   "id": "036a66c3-27ac-4dc2-a4da-e85fcb95346a",
   "metadata": {
    "id": "036a66c3-27ac-4dc2-a4da-e85fcb95346a",
    "outputId": "d7847639-a8ee-4854-9bea-023dceb30123"
   },
   "outputs": [
    {
     "name": "stdout",
     "output_type": "stream",
     "text": [
      "[]\n",
      "Execution time: 0.0 seconds\n"
     ]
    }
   ],
   "source": [
    "# Task ID: BIG-bench/c14\n",
    "# Code Snippet - CoT\n",
    "# Model 1\n",
    "# Sample 1\n",
    "\n",
    "import time\n",
    "# Record the starting time\n",
    "start_time_mol1_output1 = time.time()\n",
    "\n",
    "\n",
    "# Given list of natural numbers\n",
    "num_list = [4, 1]\n",
    "\n",
    "# Step 1: Check List Length\n",
    "if len(num_list) >= 7:\n",
    "    # Step 2: Filter Elements\n",
    "    num_list = num_list[3:8]\n",
    "else:\n",
    "    # Step 3: Handle Shorter Lists\n",
    "    num_list = num_list[3:min(8, len(num_list))]\n",
    "\n",
    "# Step 4: Return Result\n",
    "print(num_list)\n",
    "# Assign the combined list to mod1_output1\n",
    "mod1_output1 = num_list\n",
    "# Record the ending time\n",
    "end_time_mol1_output1 = time.time()\n",
    "# Calculate and print the execution time\n",
    "execution_time_mod1_output1 = end_time_mol1_output1 - start_time_mol1_output1\n",
    "print(f\"Execution time: {execution_time_mod1_output1} seconds\")\n"
   ]
  },
  {
   "cell_type": "code",
   "execution_count": null,
   "id": "6ff3bcbb-2460-48b3-a0aa-2b1966ecafd5",
   "metadata": {
    "id": "6ff3bcbb-2460-48b3-a0aa-2b1966ecafd5",
    "outputId": "e38bdeb5-fa44-48e1-d18f-7fb4a7679fce"
   },
   "outputs": [
    {
     "name": "stdout",
     "output_type": "stream",
     "text": [
      "[2, 6]\n",
      "Execution time: 0.0 seconds\n"
     ]
    }
   ],
   "source": [
    "# Task ID: BIG-bench/c14\n",
    "# Code Snippet - CoT\n",
    "# Model 1\n",
    "# Sample 2\n",
    "\n",
    "import time\n",
    "\n",
    "# Record the starting time\n",
    "start_time_mol1_output2 = time.time()\n",
    "# input example\n",
    "num_list = [8, 1, 9, 2, 6] # [9, 2, 6]\n",
    "\n",
    "# Step 1: Check List Length\n",
    "if len(num_list) >= 7:\n",
    "    # Step 2: Filter Elements\n",
    "    num_list = num_list[3:8]\n",
    "else:\n",
    "    # Step 3: Handle Shorter Lists\n",
    "    num_list = num_list[3:min(8, len(num_list))]\n",
    "\n",
    "# Step 4: Return Result\n",
    "print(num_list)\n",
    "# Assign the combined list to mod1_output1\n",
    "mod1_output2 = num_list\n",
    "# Record the ending time\n",
    "end_time_mol1_output2 = time.time()\n",
    "\n",
    "# Calculate and print the execution time\n",
    "execution_time_mod1_output2 = end_time_mol1_output2 - start_time_mol1_output2\n",
    "print(f\"Execution time: {execution_time_mod1_output2} seconds\")"
   ]
  },
  {
   "cell_type": "code",
   "execution_count": null,
   "id": "9acf752e-7663-41dc-a7e3-510f3cfa2753",
   "metadata": {
    "id": "9acf752e-7663-41dc-a7e3-510f3cfa2753",
    "outputId": "bab3cc31-59a3-4729-a51b-d0762f994a94"
   },
   "outputs": [
    {
     "name": "stdout",
     "output_type": "stream",
     "text": [
      "[2]\n",
      "Execution time: 0.0 seconds\n"
     ]
    }
   ],
   "source": [
    "# Task ID: BIG-bench/c14\n",
    "# Code Snippet - CoT\n",
    "# Model 1\n",
    "# Sample 3\n",
    "\n",
    "import time\n",
    "\n",
    "# Record the starting time\n",
    "start_time_mol1_output3 = time.time()\n",
    "# input example\n",
    "num_list = [8, 1, 5, 2] # [5, 2]\n",
    "# Step 1: Check List Length\n",
    "if len(num_list) >= 7:\n",
    "    # Step 2: Filter Elements\n",
    "    num_list = num_list[3:8]\n",
    "else:\n",
    "    # Step 3: Handle Shorter Lists\n",
    "    num_list = num_list[3:min(8, len(num_list))]\n",
    "\n",
    "# Step 4: Return Result\n",
    "print(num_list)\n",
    "# Assign the combined list to mod1_output1\n",
    "mod1_output3 = num_list\n",
    "# Record the ending time\n",
    "end_time_mol1_output3 = time.time()\n",
    "\n",
    "# Calculate and print the execution time\n",
    "execution_time_mod1_output3 = end_time_mol1_output3 - start_time_mol1_output3\n",
    "print(f\"Execution time: {execution_time_mod1_output3} seconds\")"
   ]
  },
  {
   "cell_type": "code",
   "execution_count": null,
   "id": "918ba261-3887-49ae-a99f-29dd23ae0124",
   "metadata": {
    "id": "918ba261-3887-49ae-a99f-29dd23ae0124",
    "outputId": "1c0dacf0-19cb-4dd6-db3d-ed3a7541de5e"
   },
   "outputs": [
    {
     "name": "stdout",
     "output_type": "stream",
     "text": [
      "                 Precision    Recall  F1 Score  Accuracy  Exact Match\n",
      "0                 0.000000  0.000000  0.000000  0.000000          1.0\n",
      "1                 1.000000  1.000000  1.000000  1.000000          1.0\n",
      "2                 1.000000  1.000000  1.000000  1.000000          1.0\n",
      "Model 1 Average   0.666667  0.666667  0.666667  0.666667          1.0\n"
     ]
    }
   ],
   "source": [
    "## Model 1 summary\n",
    "\n",
    "import pandas as pd\n",
    "\n",
    "def evaluate_list_metrics(expected_output, actual_output):\n",
    "    exact_match_accuracy = 1 if expected_output == actual_output else 0\n",
    "\n",
    "    # Calculate true positives\n",
    "    true_positives = sum(1 for i in range(min(len(expected_output), len(actual_output))) if expected_output[i] == actual_output[i])\n",
    "\n",
    "    # Calculate false positives\n",
    "    false_positives = sum(1 for i in range(len(actual_output)) if actual_output[i] not in expected_output)\n",
    "\n",
    "    # Calculate false negatives\n",
    "    false_negatives = sum(1 for i in range(len(expected_output)) if expected_output[i] != actual_output[i])\n",
    "\n",
    "    # Calculate precision, recall, and F1 score\n",
    "    precision = true_positives / (true_positives + false_positives) if true_positives + false_positives > 0 else 0\n",
    "    recall = true_positives / (true_positives + false_negatives) if true_positives + false_negatives > 0 else 0\n",
    "    f1_score = 2 * (precision * recall) / (precision + recall) if precision + recall > 0 else 0\n",
    "\n",
    "    # Calculate accuracy\n",
    "    if max(len(expected_output), len(actual_output)) > 0:\n",
    "        accuracy = sum(1 for i in range(len(expected_output)) if expected_output[i] == actual_output[i]) / max(len(expected_output), len(actual_output))\n",
    "    else:\n",
    "        accuracy = 0\n",
    "    return {\n",
    "        \"Precision\": precision,\n",
    "        \"Recall\": recall,\n",
    "        \"F1 Score\": f1_score,\n",
    "        \"Accuracy\": accuracy,\n",
    "        \"Exact Match\": exact_match_accuracy\n",
    "    }\n",
    "\n",
    "# Example expected outputs and actual outputs\n",
    "expected_outputs = [[], [9, 2, 6], [5, 2]]\n",
    "\n",
    "# Define mod1_output1, mod1_output2, and mod1_output3 lists\n",
    "mod1_output1 = []\n",
    "mod1_output2 = [9, 2, 6]\n",
    "mod1_output3 = [5, 2]\n",
    "\n",
    "# Combine the outputs into a list\n",
    "actual_outputs_mod1 = [mod1_output1, mod1_output2, mod1_output3]  # Example actual outputs\n",
    "\n",
    "# Call the function and calculate metrics\n",
    "metrics1 = [evaluate_list_metrics(expected, actual) for expected, actual in zip(expected_outputs, actual_outputs_mod1)]\n",
    "\n",
    "# Create DataFrame directly from the list of dictionaries\n",
    "df_metrics1_new = pd.DataFrame(metrics1)\n",
    "\n",
    "# Calculate the average for precision, recall, F1 score, accuracy, and exact match\n",
    "avg_metrics1 = df_metrics1_new.mean(axis=0)\n",
    "avg_metrics1.name = 'Model 1 Average'\n",
    "\n",
    "# Concatenate the average row to the DataFrame\n",
    "df_metrics1_new = pd.concat([df_metrics1_new, avg_metrics1.to_frame().transpose()])\n",
    "\n",
    "# Print the new DataFrame\n",
    "print(df_metrics1_new)\n"
   ]
  },
  {
   "cell_type": "code",
   "execution_count": null,
   "id": "c34ebf67-cfe4-4142-9b5b-40fb6e034f32",
   "metadata": {
    "id": "c34ebf67-cfe4-4142-9b5b-40fb6e034f32"
   },
   "outputs": [],
   "source": [
    "# Task ID: BIG-bench/c14\n",
    "# Code Snippet - CoT\n",
    "# Model 2\n",
    "# Sample 1\n",
    "\n",
    "import time\n",
    "# Record the starting time\n",
    "start_time_mol2_output1 = time.time()\n",
    "# Given list of natural numbers\n",
    "num_list = [4, 1]\n",
    "\n",
    "# Step 1: Check List Length\n",
    "if len(num_list) >= 7:\n",
    "    # Step 2: Filter Elements\n",
    "    num_list = num_list[3:8]\n",
    "else:\n",
    "    # Step 3: Handle Shorter Lists\n",
    "    num_list = num_list[3:3 + min(7, len(num_list))]\n",
    "\n",
    "# Step 4: Return Result\n",
    "print(num_list)\n",
    "\n",
    "# Assign the combined list to mod1_output1\n",
    "mod2_output1 = num_list\n",
    "# Record the ending time\n",
    "end_time_mol2_output1 = time.time()\n",
    "# Calculate and print the execution time\n",
    "execution_time_mod2_output1 = end_time_mol2_output1 - start_time_mol2_output1\n",
    "print(f\"Execution time: {execution_time_mod2_output1} seconds\")"
   ]
  },
  {
   "cell_type": "code",
   "execution_count": null,
   "id": "663e4c97-f6a7-4cf2-95f1-f617a2193869",
   "metadata": {
    "id": "663e4c97-f6a7-4cf2-95f1-f617a2193869",
    "outputId": "ff511e44-c14b-4d65-9c46-964c62d20441"
   },
   "outputs": [
    {
     "name": "stdout",
     "output_type": "stream",
     "text": [
      "[]\n",
      "Execution time: 0.0010263919830322266 seconds\n"
     ]
    }
   ],
   "source": [
    "# Task ID: BIG-bench/c14\n",
    "# Code Snippet - CoT\n",
    "# Model 2\n",
    "# Sample 2\n",
    "\n",
    "import time\n",
    "# Record the starting time\n",
    "start_time_mol2_output2 = time.time()\n",
    "# Given list of natural numbers\n",
    "num_list = [4, 1]\n",
    "\n",
    "# Step 1: Check List Length\n",
    "if len(num_list) >= 7:\n",
    "    # Step 2: Filter Elements\n",
    "    num_list = num_list[3:8]\n",
    "else:\n",
    "    # Step 3: Handle Shorter Lists\n",
    "    num_list = num_list[3:3 + min(7, len(num_list))]\n",
    "\n",
    "# Step 4: Return Result\n",
    "print(num_list)\n",
    "\n",
    "# Assign the combined list to mod1_output1\n",
    "mod2_output2 = num_list\n",
    "# Record the ending time\n",
    "end_time_mol2_output2 = time.time()\n",
    "# Calculate and print the execution time\n",
    "execution_time_mod2_output2 = end_time_mol2_output2 - start_time_mol2_output2\n",
    "print(f\"Execution time: {execution_time_mod2_output2} seconds\")"
   ]
  },
  {
   "cell_type": "code",
   "execution_count": null,
   "id": "8afd836c-4b91-4355-935f-bf17dfbd9267",
   "metadata": {
    "id": "8afd836c-4b91-4355-935f-bf17dfbd9267",
    "outputId": "7c5d6c5b-10f5-4821-f4fc-d55c440ad2be"
   },
   "outputs": [
    {
     "name": "stdout",
     "output_type": "stream",
     "text": [
      "[2]\n",
      "Execution time: 0.0 seconds\n"
     ]
    }
   ],
   "source": [
    "# Task ID: BIG-bench/c14\n",
    "# Code Snippet - CoT\n",
    "# Model 2\n",
    "# Sample 3\n",
    "\n",
    "import time\n",
    "# Record the starting time\n",
    "start_time_mol2_output3 = time.time()\n",
    "\n",
    "# Given list of natural numbers\n",
    "num_list = [8, 1, 5, 2]\n",
    "\n",
    "# Step 1: Check List Length\n",
    "if len(num_list) >= 7:\n",
    "    # Step 2: Filter Elements\n",
    "    num_list = num_list[3:8]\n",
    "else:\n",
    "    # Step 3: Handle Shorter Lists\n",
    "    num_list = num_list[3:3 + min(7, len(num_list))]\n",
    "\n",
    "# Step 4: Return Result\n",
    "print(num_list)\n",
    "# Record the ending time\n",
    "end_time_mol2_output3 = time.time()\n",
    "\n",
    "# Assign the combined list\n",
    "mod2_output3 = num_list\n",
    "\n",
    "# Calculate and print the execution time\n",
    "execution_time_mod2_output3 = end_time_mol1_output3 - start_time_mol1_output3\n",
    "print(f\"Execution time: {execution_time_mod1_output3} seconds\")"
   ]
  },
  {
   "cell_type": "code",
   "execution_count": null,
   "id": "42b305e7-527a-479d-acbc-dfd98424fdc3",
   "metadata": {
    "id": "42b305e7-527a-479d-acbc-dfd98424fdc3",
    "outputId": "5319fdcc-de27-4e49-cd0f-ff0c00c7b710"
   },
   "outputs": [
    {
     "name": "stdout",
     "output_type": "stream",
     "text": [
      "Expected Output:  [[], [9, 2, 6], [5, 2]]\n",
      "Actual Output:  [[], [9, 2, 6], [5, 2]]\n",
      "                 Precision    Recall  F1 Score  Accuracy  Exact Match\n",
      "0                 0.000000  0.000000  0.000000  0.000000          1.0\n",
      "1                 1.000000  1.000000  1.000000  1.000000          1.0\n",
      "2                 1.000000  1.000000  1.000000  1.000000          1.0\n",
      "Model 1 Average   0.666667  0.666667  0.666667  0.666667          1.0\n"
     ]
    }
   ],
   "source": [
    "## Model 2 summary\n",
    "\n",
    "import pandas as pd\n",
    "def evaluate_list_metrics(expected_output, actual_output):\n",
    "    exact_match_accuracy = 1 if expected_output == actual_output else 0\n",
    "\n",
    "    # Calculate true positives\n",
    "    true_positives = sum(1 for i in range(min(len(expected_output), len(actual_output))) if expected_output[i] == actual_output[i])\n",
    "\n",
    "    # Calculate false positives\n",
    "    false_positives = sum(1 for i in range(len(actual_output)) if actual_output[i] not in expected_output)\n",
    "\n",
    "    # Calculate false negatives\n",
    "    false_negatives = sum(1 for i in range(len(expected_output)) if expected_output[i] != actual_output[i])\n",
    "\n",
    "    # Calculate precision, recall, and F1 score\n",
    "    precision = true_positives / (true_positives + false_positives) if true_positives + false_positives > 0 else 0\n",
    "    recall = true_positives / (true_positives + false_negatives) if true_positives + false_negatives > 0 else 0\n",
    "    f1_score = 2 * (precision * recall) / (precision + recall) if precision + recall > 0 else 0\n",
    "\n",
    "    # Calculate accuracy\n",
    "    if max(len(expected_output), len(actual_output)) > 0:\n",
    "        accuracy = sum(1 for i in range(len(expected_output)) if expected_output[i] == actual_output[i]) / max(len(expected_output), len(actual_output))\n",
    "    else:\n",
    "        accuracy = 0\n",
    "    return {\n",
    "        \"Precision\": precision,\n",
    "        \"Recall\": recall,\n",
    "        \"F1 Score\": f1_score,\n",
    "        \"Accuracy\": accuracy,\n",
    "        \"Exact Match\": exact_match_accuracy\n",
    "    }\n",
    "\n",
    "expected_outputs = [[], [9, 2, 6], [5, 2]]\n",
    "actual_outputs_mod1 = [mod1_output1, mod1_output2, mod1_output3]\n",
    "print(\"Expected Output: \", expected_outputs)\n",
    "print(\"Actual Output: \", actual_outputs_mod1)\n",
    "\n",
    "metrics1 = [evaluate_list_metrics(expected, actual) for expected, actual in zip(expected_outputs, actual_outputs_mod1)]\n",
    "\n",
    "# Create DataFrame directly from the list of dictionaries\n",
    "df_metrics1_new = pd.DataFrame(metrics1)\n",
    "\n",
    "# Calculate the average for precision, recall, F1 score, accuracy, and exact match\n",
    "avg_metrics1 = df_metrics1_new.mean(axis=0)\n",
    "avg_metrics1.name = 'Model 1 Average'\n",
    "\n",
    "# # Append the average row to the DataFrame\n",
    "# df_metrics1_new = df_metrics1_new.append(avg_metrics1)\n",
    "\n",
    "# Concatenate the average row to the DataFrame\n",
    "df_metrics1_new = pd.concat([df_metrics1_new, avg_metrics1.to_frame().transpose()])\n",
    "\n",
    "# Print the new DataFrame\n",
    "print(df_metrics1_new)"
   ]
  },
  {
   "cell_type": "code",
   "execution_count": 3,
   "id": "0ac5af22-a16b-4a5a-8f8a-80089985060b",
   "metadata": {
    "id": "0ac5af22-a16b-4a5a-8f8a-80089985060b",
    "outputId": "8d2384c7-a7fd-4a06-82a2-427b14c3e762"
   },
   "outputs": [
    {
     "name": "stdout",
     "output_type": "stream",
     "text": [
      "[]\n",
      "Execution time: 0.0 seconds\n"
     ]
    }
   ],
   "source": [
    "# Task ID: BIG-bench/c14\n",
    "# Code Snippet - CoT\n",
    "# Model 3\n",
    "# Sample 1\n",
    "\n",
    "import time\n",
    "# Record the starting time\n",
    "start_time_mol3_output1 = time.time()\n",
    "\n",
    "# Given list of natural numbers\n",
    "num_list = [4, 1]\n",
    "\n",
    "# Step 1: Check List Length\n",
    "if len(num_list) >= 7:\n",
    "    # Step 2: Filter Elements\n",
    "    num_list = [num_list[i] for i in range(3, 8)]\n",
    "else:\n",
    "    # Step 3: Handle Shorter Lists\n",
    "    num_list = [num_list[i] for i in range(3, min(8, len(num_list)))]\n",
    "\n",
    "# Step 4: Return Result\n",
    "print(num_list)\n",
    "# Record the ending time\n",
    "end_time_mol3_output1 = time.time()\n",
    "mod3_output1 = num_list\n",
    "\n",
    "# Calculate and print the execution time\n",
    "execution_time_mod3_output1 = end_time_mol3_output1 - start_time_mol3_output1\n",
    "print(f\"Execution time: {execution_time_mod3_output1} seconds\")"
   ]
  },
  {
   "cell_type": "code",
   "execution_count": 5,
   "id": "0ee9f294-1c42-4cbb-8b07-5b6fe2e80fd0",
   "metadata": {
    "id": "0ee9f294-1c42-4cbb-8b07-5b6fe2e80fd0",
    "outputId": "e269dede-f37b-4257-f998-8fa47fb1c8e6"
   },
   "outputs": [
    {
     "name": "stdout",
     "output_type": "stream",
     "text": [
      "[2]\n",
      "Execution time: 0.0 seconds\n"
     ]
    }
   ],
   "source": [
    "# Task ID: BIG-bench/c14\n",
    "# Code Snippet - CoT\n",
    "# Model 3\n",
    "# Sample 2\n",
    "\n",
    "import time\n",
    "# Record the starting time\n",
    "start_time_mol3_output2 = time.time()\n",
    "# input example\n",
    "num_list = [8, 1, 5, 2] # [5, 2]\n",
    "# Step 1: Check List Length\n",
    "if len(num_list) >= 7:\n",
    "    # Step 2: Filter Elements\n",
    "    num_list = [num_list[i] for i in range(3, 8)]\n",
    "else:\n",
    "    # Step 3: Handle Shorter Lists\n",
    "    num_list = [num_list[i] for i in range(3, min(8, len(num_list)))]\n",
    "\n",
    "# Step 4: Return Result\n",
    "print(num_list)\n",
    "# Record the ending time\n",
    "end_time_mol3_output2 = time.time()\n",
    "\n",
    "\n",
    "mod3_output2 = num_list\n",
    "\n",
    "# Calculate and print the execution time\n",
    "execution_time_mod3_output2 = end_time_mol3_output2 - start_time_mol3_output2\n",
    "print(f\"Execution time: {execution_time_mod3_output2} seconds\")"
   ]
  },
  {
   "cell_type": "code",
   "execution_count": 7,
   "id": "c82bc60b-b271-4de3-a412-5b324f0e4368",
   "metadata": {
    "id": "c82bc60b-b271-4de3-a412-5b324f0e4368",
    "outputId": "ffd7799a-99a7-49da-d272-e3b2c1f5e83e"
   },
   "outputs": [
    {
     "name": "stdout",
     "output_type": "stream",
     "text": [
      "[2]\n",
      "Execution time: 0.0003955364227294922 seconds\n"
     ]
    }
   ],
   "source": [
    "# Task ID: BIG-bench/c14\n",
    "# Code Snippet - CoT\n",
    "# Model 3\n",
    "# Sample 3\n",
    "\n",
    "import time\n",
    "# Record the starting time\n",
    "start_time_mol3_output3 = time.time()\n",
    "# input example\n",
    "num_list = [8, 1, 5, 2] # [5, 2]\n",
    "# Step 1: Check List Length\n",
    "if len(num_list) >= 7:\n",
    "    # Step 2: Filter Elements\n",
    "    num_list = [num_list[i] for i in range(3, 8)]\n",
    "else:\n",
    "    # Step 3: Handle Shorter Lists\n",
    "    num_list = [num_list[i] for i in range(3, min(8, len(num_list)))]\n",
    "\n",
    "# Step 4: Return Result\n",
    "print(num_list)\n",
    "# Record the ending time\n",
    "end_time_mol3_output3 = time.time()\n",
    "\n",
    "\n",
    "mod3_output3 = num_list\n",
    "\n",
    "# Calculate and print the execution time\n",
    "execution_time_mod3_output3 = end_time_mol3_output3 - start_time_mol3_output3\n",
    "print(f\"Execution time: {execution_time_mod3_output3} seconds\")"
   ]
  },
  {
   "cell_type": "code",
   "execution_count": 8,
   "id": "2e4392fb-bbad-4889-9ca5-7c15ef666b56",
   "metadata": {
    "id": "2e4392fb-bbad-4889-9ca5-7c15ef666b56"
   },
   "outputs": [
    {
     "name": "stdout",
     "output_type": "stream",
     "text": [
      "Expected Output:  [[], [9, 2, 6], [5, 2]]\n",
      "Actual Output:  [[], [2], [2]]\n",
      "                 Precision    Recall  F1 Score  Accuracy  Exact Match\n",
      "0                 1.000000  1.000000  1.000000  1.000000     1.000000\n",
      "1                 0.000000  0.000000  0.000000  0.000000     0.000000\n",
      "2                 0.000000  0.000000  0.000000  0.000000     0.000000\n",
      "Model 1 Average   0.333333  0.333333  0.333333  0.333333     0.333333\n"
     ]
    }
   ],
   "source": [
    "## Model 3 summary\n",
    "\n",
    "import pandas as pd\n",
    "\n",
    "def evaluate_list_metrics(expected_output, actual_output):\n",
    "    exact_match_accuracy = 1 if expected_output == actual_output else 0\n",
    "\n",
    "    # Calculate true positives\n",
    "    true_positives = sum(1 for i in range(min(len(expected_output), len(actual_output))) if expected_output[i] == actual_output[i])\n",
    "\n",
    "    # If exact match is 1, set other metrics accordingly\n",
    "    if exact_match_accuracy == 1:\n",
    "        precision = recall = f1_score = accuracy = 1\n",
    "    else:\n",
    "        # Calculate false positives\n",
    "        false_positives = sum(1 for i in range(len(actual_output)) if actual_output[i] not in expected_output)\n",
    "\n",
    "        # Calculate false negatives\n",
    "        false_negatives = sum(1 for i in range(min(len(expected_output), len(actual_output))) if expected_output[i] != actual_output[i])\n",
    "\n",
    "        # Calculate precision, recall, and F1 score\n",
    "        precision = true_positives / (true_positives + false_positives) if true_positives + false_positives > 0 else 0\n",
    "        recall = true_positives / (true_positives + false_negatives) if true_positives + false_negatives > 0 else 0\n",
    "        f1_score = 2 * (precision * recall) / (precision + recall) if precision + recall > 0 else 0\n",
    "\n",
    "        # Calculate accuracy\n",
    "        if max(len(expected_output), len(actual_output)) > 0:\n",
    "            accuracy = sum(1 for i in range(min(len(expected_output), len(actual_output))) if expected_output[i] == actual_output[i]) / max(len(expected_output), len(actual_output))\n",
    "        else:\n",
    "            accuracy = 0\n",
    "    \n",
    "    return {\n",
    "        \"Precision\": precision,\n",
    "        \"Recall\": recall,\n",
    "        \"F1 Score\": f1_score,\n",
    "        \"Accuracy\": accuracy,\n",
    "        \"Exact Match\": exact_match_accuracy\n",
    "    }\n",
    "\n",
    "expected_outputs = [[], [9, 2, 6], [5, 2]]\n",
    "actual_outputs_mod1 = [mod3_output1, mod3_output2, mod3_output3]\n",
    "\n",
    "print(\"Expected Output: \", expected_outputs)\n",
    "print(\"Actual Output: \", actual_outputs_mod1)\n",
    "\n",
    "metrics1 = [evaluate_list_metrics(expected, actual) for expected, actual in zip(expected_outputs, actual_outputs_mod1)]\n",
    "\n",
    "# Create DataFrame directly from the list of dictionaries\n",
    "df_metrics1_new = pd.DataFrame(metrics1)\n",
    "\n",
    "# Calculate the average for precision, recall, F1 score, accuracy, and exact match\n",
    "avg_metrics1 = df_metrics1_new.mean(axis=0)\n",
    "avg_metrics1.name = 'Model 1 Average'\n",
    "\n",
    "# Concatenate the average row to the DataFrame\n",
    "df_metrics1_new = pd.concat([df_metrics1_new, avg_metrics1.to_frame().transpose()])\n",
    "\n",
    "# Print the new DataFrame\n",
    "print(df_metrics1_new)\n"
   ]
  },
  {
   "cell_type": "code",
   "execution_count": null,
   "id": "4ac99dab",
   "metadata": {},
   "outputs": [],
   "source": []
  }
 ],
 "metadata": {
  "colab": {
   "provenance": []
  },
  "kernelspec": {
   "display_name": "Python 3 (ipykernel)",
   "language": "python",
   "name": "python3"
  },
  "language_info": {
   "codemirror_mode": {
    "name": "ipython",
    "version": 3
   },
   "file_extension": ".py",
   "mimetype": "text/x-python",
   "name": "python",
   "nbconvert_exporter": "python",
   "pygments_lexer": "ipython3",
   "version": "3.11.7"
  }
 },
 "nbformat": 4,
 "nbformat_minor": 5
}
