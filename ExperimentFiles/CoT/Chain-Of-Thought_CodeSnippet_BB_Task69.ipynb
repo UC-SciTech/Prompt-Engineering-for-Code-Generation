{
 "cells": [
  {
   "cell_type": "markdown",
   "id": "370f2803",
   "metadata": {
    "id": "4451aecf-7901-4797-b57b-652f8f70e1fe"
   },
   "source": [
    "<h2 style='text-align: center;'> Technology Capstone Research Project PG (11522) </h2>\n",
    "<h3 style='text-align: center;'> Project ID: 2024-S1-50 </h3>\n",
    "<h3 style='text-align: center;'> Group ID: 11522-24S1-41 </h3>\n",
    "<h4 style='text-align: center;'> Member: MD Alvee Rohan - U3235512 </h4>\n",
    "<h4 style='text-align: center;'> Prompt Technique: Chain of Thought </h4>"
   ]
  },
  {
   "cell_type": "markdown",
   "id": "80f499b4",
   "metadata": {},
   "source": [
    "### Revised Prompt for CoT\n",
    "\n",
    "### BIG-bench\\\\ c69\n",
    "Write a Python code snippet that does not use a function or function definition to concatenate lists of natural numbers. Let's think step by step:\n",
    "\n",
    "1. Define Lists: Define the lists [9, 3, 4, 0] and [7, 2, 9, 1].\n",
    "\n",
    "2. Concatenate Lists: Concatenate the lists in the following order: [9, 3, 4, 0], input list, [7, 2, 9, 1].\n",
    "\n",
    "3. Return Result: Return the concatenated list."
   ]
  },
  {
   "cell_type": "code",
   "execution_count": null,
   "id": "3858923e-0ca4-4f4e-8cdc-e54558d0b123",
   "metadata": {
    "id": "3858923e-0ca4-4f4e-8cdc-e54558d0b123",
    "outputId": "a114209b-3448-4ebd-9278-4c5148cd6240"
   },
   "outputs": [
    {
     "name": "stdout",
     "output_type": "stream",
     "text": [
      "Concatenated List: [9, 3, 4, 0, 4, 0, 6, 5, 8, 7, 2, 9, 1]\n",
      "Execution time: 0.015653610229492188 seconds\n"
     ]
    }
   ],
   "source": [
    "# Task ID: BIG-bench/c69\n",
    "# Code Snippet - CoT\n",
    "# Model 1\n",
    "# Sample 1\n",
    "\n",
    "import time\n",
    "# Record the starting time\n",
    "start_time_mol1_output1 = time.time()\n",
    "\n",
    "# Define Lists\n",
    "list1 = [9, 3, 4, 0]\n",
    "list2 = [7, 2, 9, 1]\n",
    "\n",
    "# Input List\n",
    "input_list = [4, 0, 6, 5, 8]\n",
    "\n",
    "# Concatenate Lists\n",
    "concatenated_list = list1 + input_list + list2\n",
    "\n",
    "# Return Result\n",
    "print(\"Concatenated List:\", concatenated_list)\n",
    "\n",
    "# Assign the combined list to mod1_output1\n",
    "mod1_output1 = concatenated_list\n",
    "# Record the ending time\n",
    "end_time_mol1_output1 = time.time()\n",
    "# Calculate and print the execution time\n",
    "execution_time_mod1_output1 = end_time_mol1_output1 - start_time_mol1_output1\n",
    "print(f\"Execution time: {execution_time_mod1_output1} seconds\")"
   ]
  },
  {
   "cell_type": "code",
   "execution_count": null,
   "id": "0cdea496-7855-4f8d-9641-0a483368ec00",
   "metadata": {
    "id": "0cdea496-7855-4f8d-9641-0a483368ec00",
    "outputId": "3da170de-53ea-4182-b62c-2aa9e082add9"
   },
   "outputs": [
    {
     "name": "stdout",
     "output_type": "stream",
     "text": [
      "Concatenated List: [9, 3, 4, 0, 2, 6, 5, 8, 9, 1, 7, 2, 9, 1]\n",
      "Execution time: 0.0009980201721191406 seconds\n"
     ]
    }
   ],
   "source": [
    "# Task ID: BIG-bench/c69\n",
    "# Code Snippet - CoT\n",
    "# Model 1\n",
    "# Sample 2\n",
    "\n",
    "import time\n",
    "\n",
    "# Record the starting time\n",
    "start_time_mol1_output2 = time.time()\n",
    "\n",
    "\n",
    "# Define Lists\n",
    "list1 = [9, 3, 4, 0]\n",
    "list2 = [7, 2, 9, 1]\n",
    "\n",
    "# Input List\n",
    "input_list = [2, 6, 5, 8, 9, 1]\n",
    "\n",
    "# Concatenate Lists\n",
    "concatenated_list = list1 + input_list + list2\n",
    "\n",
    "# Return Result\n",
    "print(\"Concatenated List:\", concatenated_list)\n",
    "\n",
    "# Assign the combined list to mod1_output1\n",
    "mod1_output2 = concatenated_list\n",
    "# Record the ending time\n",
    "end_time_mol1_output2 = time.time()\n",
    "\n",
    "# Calculate and print the execution time\n",
    "execution_time_mod1_output2 = end_time_mol1_output2 - start_time_mol1_output2\n",
    "print(f\"Execution time: {execution_time_mod1_output2} seconds\")"
   ]
  },
  {
   "cell_type": "code",
   "execution_count": null,
   "id": "c82656d6-9870-4a7e-8c89-e3e536d5d709",
   "metadata": {
    "id": "c82656d6-9870-4a7e-8c89-e3e536d5d709",
    "outputId": "5cad5834-e573-4dc1-848a-9c87e1bc1e29"
   },
   "outputs": [
    {
     "name": "stdout",
     "output_type": "stream",
     "text": [
      "Concatenated List: [9, 3, 4, 0, 4, 2, 7, 0, 5, 3, 7, 2, 9, 1]\n",
      "Execution time: 0.0019943714141845703 seconds\n"
     ]
    }
   ],
   "source": [
    "# Task ID: BIG-bench/c69\n",
    "# Code Snippet - CoT\n",
    "# Model 1\n",
    "# Sample 3\n",
    "\n",
    "\n",
    "import time\n",
    "\n",
    "# Record the starting time\n",
    "start_time_mol1_output3 = time.time()\n",
    "# Define Lists\n",
    "list1 = [9, 3, 4, 0]\n",
    "list2 = [7, 2, 9, 1]\n",
    "\n",
    "# Input List\n",
    "input_list = [4, 2, 7, 0, 5, 3]\n",
    "\n",
    "# Concatenate Lists\n",
    "concatenated_list = list1 + input_list + list2\n",
    "\n",
    "# Return Result\n",
    "print(\"Concatenated List:\", concatenated_list)\n",
    "\n",
    "# Assign the combined list to mod1_output1\n",
    "mod1_output3 = concatenated_list\n",
    "# Record the ending time\n",
    "end_time_mol1_output3 = time.time()\n",
    "\n",
    "# Calculate and print the execution time\n",
    "execution_time_mod1_output3 = end_time_mol1_output3 - start_time_mol1_output3\n",
    "print(f\"Execution time: {execution_time_mod1_output3} seconds\")"
   ]
  },
  {
   "cell_type": "code",
   "execution_count": null,
   "id": "b14c2a63-df6d-414c-80dd-38277beec357",
   "metadata": {
    "id": "b14c2a63-df6d-414c-80dd-38277beec357",
    "outputId": "c5daa357-23a9-48f3-91f0-ea107f70761d"
   },
   "outputs": [
    {
     "name": "stdout",
     "output_type": "stream",
     "text": [
      "Expected Output:  [[9, 3, 4, 0, 4, 0, 6, 5, 8, 7, 2, 9, 1], [9, 3, 4, 0, 2, 6, 5, 8, 9, 1, 7, 2, 9, 1], [9, 3, 4, 0, 7, 2, 9, 1]]\n",
      "Actual Output:  [[9, 3, 4, 0, 4, 0, 6, 5, 8, 7, 2, 9, 1], [9, 3, 4, 0, 2, 6, 5, 8, 9, 1, 7, 2, 9, 1], [9, 3, 4, 0, 4, 2, 7, 0, 5, 3, 7, 2, 9, 1]]\n",
      "                 Precision  Recall  F1 Score  Accuracy  Exact Match\n",
      "0                 1.000000   1.000  1.000000  1.000000     1.000000\n",
      "1                 1.000000   1.000  1.000000  1.000000     1.000000\n",
      "2                 0.833333   0.625  0.714286  0.357143     0.000000\n",
      "Model 1 Average   0.944444   0.875  0.904762  0.785714     0.666667\n"
     ]
    }
   ],
   "source": [
    "## Model 1 summary\n",
    "\n",
    "import pandas as pd\n",
    "def evaluate_list_metrics(expected_output, actual_output):\n",
    "    exact_match_accuracy = 1 if expected_output == actual_output else 0\n",
    "\n",
    "    # Calculate true positives\n",
    "    true_positives = sum(1 for i in range(min(len(expected_output), len(actual_output))) if expected_output[i] == actual_output[i])\n",
    "\n",
    "    # Calculate false positives\n",
    "    false_positives = sum(1 for i in range(len(actual_output)) if actual_output[i] not in expected_output)\n",
    "\n",
    "    # Calculate false negatives\n",
    "    false_negatives = sum(1 for i in range(len(expected_output)) if expected_output[i] != actual_output[i])\n",
    "\n",
    "    # Calculate precision, recall, and F1 score\n",
    "    precision = true_positives / (true_positives + false_positives) if true_positives + false_positives > 0 else 0\n",
    "    recall = true_positives / (true_positives + false_negatives) if true_positives + false_negatives > 0 else 0\n",
    "    f1_score = 2 * (precision * recall) / (precision + recall) if precision + recall > 0 else 0\n",
    "\n",
    "    # Calculate accuracy\n",
    "    accuracy = sum(1 for i in range(len(expected_output)) if expected_output[i] == actual_output[i]) / max(len(expected_output), len(actual_output))\n",
    "\n",
    "    return {\n",
    "        \"Precision\": precision,\n",
    "        \"Recall\": recall,\n",
    "        \"F1 Score\": f1_score,\n",
    "        \"Accuracy\": accuracy,\n",
    "        \"Exact Match\": exact_match_accuracy\n",
    "    }\n",
    "\n",
    "expected_outputs = [[9, 3, 4, 0, 4, 0, 6, 5, 8, 7, 2, 9, 1], [9, 3, 4, 0, 2, 6, 5, 8, 9, 1, 7, 2, 9, 1], [9, 3, 4, 0, 7, 2, 9, 1]]\n",
    "actual_outputs_mod1 = [mod1_output1, mod1_output2, mod1_output3]\n",
    "print(\"Expected Output: \", expected_outputs)\n",
    "print(\"Actual Output: \", actual_outputs_mod1)\n",
    "\n",
    "metrics1 = [evaluate_list_metrics(expected, actual) for expected, actual in zip(expected_outputs, actual_outputs_mod1)]\n",
    "\n",
    "# Create DataFrame directly from the list of dictionaries\n",
    "df_metrics1_new = pd.DataFrame(metrics1)\n",
    "\n",
    "# Calculate the average for precision, recall, F1 score, accuracy, and exact match\n",
    "avg_metrics1 = df_metrics1_new.mean(axis=0)\n",
    "avg_metrics1.name = 'Model 1 Average'\n",
    "\n",
    "# # Append the average row to the DataFrame\n",
    "# df_metrics1_new = df_metrics1_new.append(avg_metrics1)\n",
    "\n",
    "# Concatenate the average row to the DataFrame\n",
    "df_metrics1_new = pd.concat([df_metrics1_new, avg_metrics1.to_frame().transpose()])\n",
    "\n",
    "# Print the new DataFrame\n",
    "print(df_metrics1_new)"
   ]
  },
  {
   "cell_type": "code",
   "execution_count": 9,
   "id": "71535b15-54c3-4d33-bc45-fe8eaa6262d2",
   "metadata": {
    "id": "71535b15-54c3-4d33-bc45-fe8eaa6262d2",
    "outputId": "c7d5206d-f896-481d-966e-aa8625f1ecd5"
   },
   "outputs": [
    {
     "name": "stdout",
     "output_type": "stream",
     "text": [
      "Concatenated List: [9, 3, 4, 0, 4, 0, 6, 5, 8, 7, 2, 9, 1]\n",
      "Execution time: 0.0 seconds\n"
     ]
    }
   ],
   "source": [
    "# Task ID: BIG-bench/c69\n",
    "# Code Snippet - CoT\n",
    "# Model 2\n",
    "# Sample 1 \n",
    "\n",
    "import time\n",
    "# Record the starting time\n",
    "start_time_mol2_output1 = time.time()\n",
    "\n",
    "# Define Lists\n",
    "list1 = [9, 3, 4, 0]\n",
    "list2 = [7, 2, 9, 1]\n",
    "\n",
    "# Input List\n",
    "input_list = [4, 0, 6, 5, 8]\n",
    "\n",
    "# Concatenate Lists\n",
    "concatenated_list = []\n",
    "concatenated_list.extend(list1)\n",
    "concatenated_list.extend(input_list)\n",
    "concatenated_list.extend(list2)\n",
    "\n",
    "# Return Result\n",
    "print(\"Concatenated List:\", concatenated_list)\n",
    "\n",
    "# Assign the combined list to mod1_output1\n",
    "mod2_output1 = concatenated_list\n",
    "# Record the ending time\n",
    "end_time_mol2_output1 = time.time()\n",
    "# Calculate and print the execution time\n",
    "execution_time_mod2_output1 = end_time_mol2_output1 - start_time_mol2_output1\n",
    "print(f\"Execution time: {execution_time_mod2_output1} seconds\")"
   ]
  },
  {
   "cell_type": "code",
   "execution_count": 10,
   "id": "588e94ba-be68-4164-bca5-03b9679d6ce0",
   "metadata": {
    "id": "588e94ba-be68-4164-bca5-03b9679d6ce0",
    "outputId": "5879b81b-a86d-4956-c9c4-05e3cdd5e6f0"
   },
   "outputs": [
    {
     "name": "stdout",
     "output_type": "stream",
     "text": [
      "Concatenated List: [9, 3, 4, 0, 2, 6, 5, 8, 9, 1, 7, 2, 9, 1]\n",
      "Execution time: 0.0010306835174560547 seconds\n"
     ]
    }
   ],
   "source": [
    "# Task ID: BIG-bench/c69\n",
    "# Code Snippet - CoT\n",
    "# Model 2\n",
    "# Sample 2\n",
    "\n",
    "import time\n",
    "\n",
    "# Record the starting time\n",
    "start_time_mol2_output2 = time.time()\n",
    "\n",
    "\n",
    "# Define Lists\n",
    "list1 = [9, 3, 4, 0]\n",
    "list2 = [7, 2, 9, 1]\n",
    "\n",
    "# Input List\n",
    "input_list = [2, 6, 5, 8, 9, 1]\n",
    "\n",
    "# Concatenate Lists\n",
    "concatenated_list = []\n",
    "concatenated_list.extend(list1)\n",
    "concatenated_list.extend(input_list)\n",
    "concatenated_list.extend(list2)\n",
    "\n",
    "# Return Result\n",
    "print(\"Concatenated List:\", concatenated_list)\n",
    "\n",
    "# Assign the combined list to mod1_output1\n",
    "mod2_output2 = concatenated_list\n",
    "# Record the ending time\n",
    "end_time_mol2_output2 = time.time()\n",
    "\n",
    "# Calculate and print the execution time\n",
    "execution_time_mod2_output2 = end_time_mol2_output2 - start_time_mol2_output2\n",
    "print(f\"Execution time: {execution_time_mod2_output2} seconds\")\n"
   ]
  },
  {
   "cell_type": "code",
   "execution_count": 11,
   "id": "d093b2c3-f3eb-4566-8956-3069cc6b6fd3",
   "metadata": {
    "id": "d093b2c3-f3eb-4566-8956-3069cc6b6fd3",
    "outputId": "59883624-272f-40df-88f5-aae3530d1b84"
   },
   "outputs": [
    {
     "name": "stdout",
     "output_type": "stream",
     "text": [
      "Concatenated List: [9, 3, 4, 0, 4, 2, 7, 0, 5, 3, 7, 2, 9, 1]\n",
      "Execution time: 0.0 seconds\n"
     ]
    }
   ],
   "source": [
    "# Task ID: BIG-bench/c69\n",
    "# Code Snippet - CoT\n",
    "# Model 2\n",
    "# Sample 3\n",
    "\n",
    "import time\n",
    "\n",
    "# Record the starting time\n",
    "start_time_mol2_output3 = time.time()\n",
    "\n",
    "\n",
    "# Define Lists\n",
    "list1 = [9, 3, 4, 0]\n",
    "list2 = [7, 2, 9, 1]\n",
    "\n",
    "# Input List\n",
    "input_list = [4, 2, 7, 0, 5, 3]\n",
    "\n",
    "# Concatenate Lists\n",
    "concatenated_list = []\n",
    "concatenated_list.extend(list1)\n",
    "concatenated_list.extend(input_list)\n",
    "concatenated_list.extend(list2)\n",
    "\n",
    "# Return Result\n",
    "print(\"Concatenated List:\", concatenated_list)\n",
    "\n",
    "# Assign the combined list to mod1_output1\n",
    "mod2_output3 = concatenated_list\n",
    "# Record the ending time\n",
    "end_time_mol2_output3 = time.time()\n",
    "\n",
    "# Calculate and print the execution time\n",
    "execution_time_mod2_output3 = end_time_mol2_output3 - start_time_mol2_output3\n",
    "print(f\"Execution time: {execution_time_mod2_output3} seconds\")"
   ]
  },
  {
   "cell_type": "code",
   "execution_count": null,
   "id": "90f55c8c-e5db-455a-bfa1-0af8b0e5132f",
   "metadata": {
    "id": "90f55c8c-e5db-455a-bfa1-0af8b0e5132f",
    "outputId": "1bf2f684-97e5-438f-9c49-71efd2f1fdb1"
   },
   "outputs": [
    {
     "name": "stdout",
     "output_type": "stream",
     "text": [
      "Expected Output:  [[9, 3, 4, 0, 4, 0, 6, 5, 8, 7, 2, 9, 1], [9, 3, 4, 0, 2, 6, 5, 8, 9, 1, 7, 2, 9, 1], [9, 3, 4, 0, 7, 2, 9, 1]]\n",
      "Actual Output:  [[9, 3, 4, 0, 4, 0, 6, 5, 8, 7, 2, 9, 1], [9, 3, 4, 0, 2, 6, 5, 8, 9, 1, 7, 2, 9, 1], [9, 3, 4, 0, 4, 2, 7, 0, 5, 3, 7, 2, 9, 1]]\n",
      "                 Precision  Recall  F1 Score  Accuracy  Exact Match\n",
      "0                 1.000000   1.000  1.000000  1.000000     1.000000\n",
      "1                 1.000000   1.000  1.000000  1.000000     1.000000\n",
      "2                 0.833333   0.625  0.714286  0.357143     0.000000\n",
      "Model 1 Average   0.944444   0.875  0.904762  0.785714     0.666667\n"
     ]
    }
   ],
   "source": [
    "## Model 2 summary\n",
    "\n",
    "import pandas as pd\n",
    "def evaluate_list_metrics(expected_output, actual_output):\n",
    "    exact_match_accuracy = 1 if expected_output == actual_output else 0\n",
    "\n",
    "    # Calculate true positives\n",
    "    true_positives = sum(1 for i in range(min(len(expected_output), len(actual_output))) if expected_output[i] == actual_output[i])\n",
    "\n",
    "    # Calculate false positives\n",
    "    false_positives = sum(1 for i in range(len(actual_output)) if actual_output[i] not in expected_output)\n",
    "\n",
    "    # Calculate false negatives\n",
    "    false_negatives = sum(1 for i in range(len(expected_output)) if expected_output[i] != actual_output[i])\n",
    "\n",
    "    # Calculate precision, recall, and F1 score\n",
    "    precision = true_positives / (true_positives + false_positives) if true_positives + false_positives > 0 else 0\n",
    "    recall = true_positives / (true_positives + false_negatives) if true_positives + false_negatives > 0 else 0\n",
    "    f1_score = 2 * (precision * recall) / (precision + recall) if precision + recall > 0 else 0\n",
    "\n",
    "    # Calculate accuracy\n",
    "    accuracy = sum(1 for i in range(len(expected_output)) if expected_output[i] == actual_output[i]) / max(len(expected_output), len(actual_output))\n",
    "\n",
    "    return {\n",
    "        \"Precision\": precision,\n",
    "        \"Recall\": recall,\n",
    "        \"F1 Score\": f1_score,\n",
    "        \"Accuracy\": accuracy,\n",
    "        \"Exact Match\": exact_match_accuracy\n",
    "    }\n",
    "\n",
    "expected_outputs = [[9, 3, 4, 0, 4, 0, 6, 5, 8, 7, 2, 9, 1], [9, 3, 4, 0, 2, 6, 5, 8, 9, 1, 7, 2, 9, 1], [9, 3, 4, 0, 7, 2, 9, 1]]\n",
    "actual_outputs_mod1 = [mod2_output1, mod2_output2, mod2_output3]\n",
    "print(\"Expected Output: \", expected_outputs)\n",
    "print(\"Actual Output: \", actual_outputs_mod1)\n",
    "\n",
    "metrics1 = [evaluate_list_metrics(expected, actual) for expected, actual in zip(expected_outputs, actual_outputs_mod1)]\n",
    "\n",
    "# Create DataFrame directly from the list of dictionaries\n",
    "df_metrics1_new = pd.DataFrame(metrics1)\n",
    "\n",
    "# Calculate the average for precision, recall, F1 score, accuracy, and exact match\n",
    "avg_metrics1 = df_metrics1_new.mean(axis=0)\n",
    "avg_metrics1.name = 'Model 1 Average'\n",
    "\n",
    "# # Append the average row to the DataFrame\n",
    "# df_metrics1_new = df_metrics1_new.append(avg_metrics1)\n",
    "\n",
    "# Concatenate the average row to the DataFrame\n",
    "df_metrics1_new = pd.concat([df_metrics1_new, avg_metrics1.to_frame().transpose()])\n",
    "\n",
    "# Print the new DataFrame\n",
    "print(df_metrics1_new)"
   ]
  },
  {
   "cell_type": "code",
   "execution_count": 2,
   "id": "f9a4927d-7c1d-42e4-8d5c-dce63df5f950",
   "metadata": {
    "id": "f9a4927d-7c1d-42e4-8d5c-dce63df5f950"
   },
   "outputs": [
    {
     "name": "stdout",
     "output_type": "stream",
     "text": [
      "Concatenated List: [9, 3, 4, 0, 4, 0, 6, 5, 8, 7, 2, 9, 1]\n",
      "Execution time: 0.0009975433349609375 seconds\n"
     ]
    }
   ],
   "source": [
    "# Task ID: BIG-bench/c69\n",
    "# Code Snippet - CoT\n",
    "# Model 3\n",
    "# Sample 1\n",
    "\n",
    "import time\n",
    "# Record the starting time\n",
    "start_time_mol3_output1 = time.time()\n",
    "\n",
    "input_list = [4, 0, 6, 5, 8]\n",
    "# Define Lists\n",
    "list1 = [9, 3, 4, 0]\n",
    "list2 = [7, 2, 9, 1]\n",
    "\n",
    "# Input List\n",
    "input_list = [4, 0, 6, 5, 8]\n",
    "\n",
    "# Concatenate Lists\n",
    "concatenated_list = list1[:]  # Make a copy of list1\n",
    "concatenated_list[len(list1):len(list1)] = input_list  # Insert input_list at the end of list1\n",
    "concatenated_list[len(list1) + len(input_list):len(list1) + len(input_list)] = list2  # Insert list2 at the end of the concatenated list\n",
    "\n",
    "# Return Result\n",
    "print(\"Concatenated List:\", concatenated_list)\n",
    "\n",
    "mod3_output1 = concatenated_list\n",
    "# Record the ending time\n",
    "end_time_mol3_output1 = time.time()\n",
    "# Calculate and print the execution time\n",
    "execution_time_mod3_output1 = end_time_mol3_output1 - start_time_mol3_output1\n",
    "print(f\"Execution time: {execution_time_mod3_output1} seconds\")"
   ]
  },
  {
   "cell_type": "code",
   "execution_count": 3,
   "id": "e7a967ba-b071-49d3-a547-0b9c3d5965ea",
   "metadata": {
    "id": "e7a967ba-b071-49d3-a547-0b9c3d5965ea"
   },
   "outputs": [
    {
     "name": "stdout",
     "output_type": "stream",
     "text": [
      "Concatenated List: [9, 3, 4, 0, 4, 0, 6, 5, 8, 7, 2, 9, 1]\n",
      "Execution time: 0.0009949207305908203 seconds\n"
     ]
    }
   ],
   "source": [
    "# Task ID: BIG-bench/c69\n",
    "# Code Snippet - CoT\n",
    "# Model 3\n",
    "# Sample 2\n",
    "\n",
    "import time\n",
    "\n",
    "# Record the starting time\n",
    "start_time_mol3_output2 = time.time()\n",
    "\n",
    "input_list = [2, 6, 5, 8, 9, 1]\n",
    "# Define Lists\n",
    "list1 = [9, 3, 4, 0]\n",
    "list2 = [7, 2, 9, 1]\n",
    "\n",
    "# Input List\n",
    "input_list = [4, 0, 6, 5, 8]\n",
    "\n",
    "# Concatenate Lists\n",
    "concatenated_list = list1[:]  # Make a copy of list1\n",
    "concatenated_list[len(list1):len(list1)] = input_list  # Insert input_list at the end of list1\n",
    "concatenated_list[len(list1) + len(input_list):len(list1) + len(input_list)] = list2  # Insert list2 at the end of the concatenated list\n",
    "\n",
    "# Return Result\n",
    "print(\"Concatenated List:\", concatenated_list)\n",
    "\n",
    "# Assign the combined list to mod1_output1\n",
    "mod3_output2 = concatenated_list\n",
    "# Record the ending time\n",
    "end_time_mol3_output2 = time.time()\n",
    "\n",
    "# Calculate and print the execution time\n",
    "execution_time_mod3_output2 = end_time_mol3_output2 - start_time_mol3_output2\n",
    "print(f\"Execution time: {execution_time_mod3_output2} seconds\")\n"
   ]
  },
  {
   "cell_type": "code",
   "execution_count": 4,
   "id": "d36bff0b-4f86-4991-8d52-6cec6f20cb17",
   "metadata": {
    "id": "d36bff0b-4f86-4991-8d52-6cec6f20cb17"
   },
   "outputs": [
    {
     "name": "stdout",
     "output_type": "stream",
     "text": [
      "Concatenated List: [9, 3, 4, 0, 4, 2, 7, 0, 5, 3, 7, 2, 9, 1]\n",
      "Execution time: 0.0010323524475097656 seconds\n"
     ]
    }
   ],
   "source": [
    "# Task ID: BIG-bench/c69\n",
    "# Code Snippet - CoT\n",
    "# Model 3\n",
    "# Sample 3\n",
    "\n",
    "import time\n",
    "\n",
    "# Record the starting time\n",
    "start_time_mol3_output3 = time.time()\n",
    "\n",
    "\n",
    "# Define Lists\n",
    "list1 = [9, 3, 4, 0]\n",
    "list2 = [7, 2, 9, 1]\n",
    "\n",
    "# Input List\n",
    "input_list = [4, 2, 7, 0, 5, 3]\n",
    "\n",
    "# Concatenate Lists\n",
    "concatenated_list = list1[:]  # Make a copy of list1\n",
    "concatenated_list[len(list1):len(list1)] = input_list  # Insert input_list at the end of list1\n",
    "concatenated_list[len(list1) + len(input_list):len(list1) + len(input_list)] = list2  # Insert list2 at the end of the concatenated list\n",
    "\n",
    "# Return Result\n",
    "print(\"Concatenated List:\", concatenated_list)\n",
    "# Assign the combined list to mod1_output1\n",
    "mod3_output3 = concatenated_list\n",
    "# Record the ending time\n",
    "end_time_mol3_output3 = time.time()\n",
    "\n",
    "# Calculate and print the execution time\n",
    "execution_time_mod3_output3 = end_time_mol3_output3 - start_time_mol3_output3\n",
    "print(f\"Execution time: {execution_time_mod3_output3} seconds\")"
   ]
  },
  {
   "cell_type": "code",
   "execution_count": 12,
   "id": "737bbf2f-2977-4283-9df7-0b0e6164e927",
   "metadata": {
    "id": "737bbf2f-2977-4283-9df7-0b0e6164e927"
   },
   "outputs": [
    {
     "name": "stdout",
     "output_type": "stream",
     "text": [
      "Expected Output:  [[9, 3, 4, 0, 4, 0, 6, 5, 8, 7, 2, 9, 1], [9, 3, 4, 0, 2, 6, 5, 8, 9, 1, 7, 2, 9, 1], [9, 3, 4, 0, 7, 2, 9, 1]]\n",
      "Actual Output:  [[9, 3, 4, 0, 4, 0, 6, 5, 8, 7, 2, 9, 1], [9, 3, 4, 0, 2, 6, 5, 8, 9, 1, 7, 2, 9, 1], [9, 3, 4, 0, 4, 2, 7, 0, 5, 3, 7, 2, 9, 1]]\n",
      "                 Precision  Recall  F1 Score  Accuracy  Exact Match\n",
      "0                 1.000000   1.000  1.000000  1.000000     1.000000\n",
      "1                 1.000000   1.000  1.000000  1.000000     1.000000\n",
      "2                 0.833333   0.625  0.714286  0.357143     0.000000\n",
      "Model 1 Average   0.944444   0.875  0.904762  0.785714     0.666667\n"
     ]
    }
   ],
   "source": [
    "## Model 3 summary\n",
    "\n",
    "import pandas as pd\n",
    "def evaluate_list_metrics(expected_output, actual_output):\n",
    "    exact_match_accuracy = 1 if expected_output == actual_output else 0\n",
    "\n",
    "    # Calculate true positives\n",
    "    true_positives = sum(1 for i in range(min(len(expected_output), len(actual_output))) if expected_output[i] == actual_output[i])\n",
    "\n",
    "    # Calculate false positives\n",
    "    false_positives = sum(1 for i in range(len(actual_output)) if actual_output[i] not in expected_output)\n",
    "\n",
    "    # Calculate false negatives\n",
    "    false_negatives = sum(1 for i in range(len(expected_output)) if expected_output[i] != actual_output[i])\n",
    "\n",
    "    # Calculate precision, recall, and F1 score\n",
    "    precision = true_positives / (true_positives + false_positives) if true_positives + false_positives > 0 else 0\n",
    "    recall = true_positives / (true_positives + false_negatives) if true_positives + false_negatives > 0 else 0\n",
    "    f1_score = 2 * (precision * recall) / (precision + recall) if precision + recall > 0 else 0\n",
    "\n",
    "    # Calculate accuracy\n",
    "    accuracy = sum(1 for i in range(len(expected_output)) if expected_output[i] == actual_output[i]) / max(len(expected_output), len(actual_output))\n",
    "\n",
    "    return {\n",
    "        \"Precision\": precision,\n",
    "        \"Recall\": recall,\n",
    "        \"F1 Score\": f1_score,\n",
    "        \"Accuracy\": accuracy,\n",
    "        \"Exact Match\": exact_match_accuracy\n",
    "    }\n",
    "\n",
    "expected_outputs = [[9, 3, 4, 0, 4, 0, 6, 5, 8, 7, 2, 9, 1], [9, 3, 4, 0, 2, 6, 5, 8, 9, 1, 7, 2, 9, 1], [9, 3, 4, 0, 7, 2, 9, 1]]\n",
    "actual_outputs_mod1 = [mod2_output1, mod2_output2, mod2_output3]\n",
    "print(\"Expected Output: \", expected_outputs)\n",
    "print(\"Actual Output: \", actual_outputs_mod1)\n",
    "\n",
    "metrics1 = [evaluate_list_metrics(expected, actual) for expected, actual in zip(expected_outputs, actual_outputs_mod1)]\n",
    "\n",
    "# Create DataFrame directly from the list of dictionaries\n",
    "df_metrics1_new = pd.DataFrame(metrics1)\n",
    "\n",
    "# Calculate the average for precision, recall, F1 score, accuracy, and exact match\n",
    "avg_metrics1 = df_metrics1_new.mean(axis=0)\n",
    "avg_metrics1.name = 'Model 1 Average'\n",
    "\n",
    "# # Append the average row to the DataFrame\n",
    "# df_metrics1_new = df_metrics1_new.append(avg_metrics1)\n",
    "\n",
    "# Concatenate the average row to the DataFrame\n",
    "df_metrics1_new = pd.concat([df_metrics1_new, avg_metrics1.to_frame().transpose()])\n",
    "\n",
    "# Print the new DataFrame\n",
    "print(df_metrics1_new)"
   ]
  },
  {
   "cell_type": "code",
   "execution_count": null,
   "id": "ecb84e94-e0cb-438c-8117-4a3d072e41a9",
   "metadata": {
    "id": "ecb84e94-e0cb-438c-8117-4a3d072e41a9"
   },
   "outputs": [],
   "source": []
  },
  {
   "cell_type": "code",
   "execution_count": null,
   "id": "93f144d1",
   "metadata": {},
   "outputs": [],
   "source": []
  }
 ],
 "metadata": {
  "colab": {
   "provenance": []
  },
  "kernelspec": {
   "display_name": "Python 3 (ipykernel)",
   "language": "python",
   "name": "python3"
  },
  "language_info": {
   "codemirror_mode": {
    "name": "ipython",
    "version": 3
   },
   "file_extension": ".py",
   "mimetype": "text/x-python",
   "name": "python",
   "nbconvert_exporter": "python",
   "pygments_lexer": "ipython3",
   "version": "3.11.7"
  }
 },
 "nbformat": 4,
 "nbformat_minor": 5
}
